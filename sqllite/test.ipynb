{
 "cells": [
  {
   "cell_type": "code",
   "execution_count": 4,
   "metadata": {},
   "outputs": [],
   "source": [
    "# 导入库\n",
    "from IPython.display import Markdown as md\n",
    "import sqlite3\n",
    "import time\n",
    "import pandas as pd\n",
    "import numpy as np\n",
    "import json\n",
    "from copy import deepcopy"
   ]
  },
  {
   "cell_type": "code",
   "execution_count": 11,
   "metadata": {},
   "outputs": [],
   "source": [
    "from IPython.display import Markdown as md\n",
    "from matplotlib import pyplot as plt\n",
    "import sqlite3\n",
    "import time\n",
    "import pandas as pd\n",
    "import json\n",
    "\n",
    "\n",
    "\n",
    "# 读取泰坦尼克号数据集\n",
    "df = pd.read_csv('train.csv')\n",
    "# 将表格中 NaN 值替换为 NULL\n",
    "df = df.where(pd.notnull(df), None)\n",
    "\n",
    "# 制作两个新的列：passengerInfo 和 ticketInfo\n",
    "# 前者记录乘客的基本信息，后者记录乘客所持船票的信息\n",
    "# \n",
    "passengerInfo_cols = ['Name','Sex','Age','SibSp','Parch']\n",
    "ticketInfo_cols = ['Pclass','Ticket','Fare','Cabin','Embarked']\n",
    "\n",
    "# 两个列分别以一个 json 字符串的形式储存对应的数据\n",
    "#\n",
    "df['passengerInfo'] = df[passengerInfo_cols].apply(lambda x: json.dumps(x.to_dict()),axis=1)\n",
    "df['ticketInfo'] = df[ticketInfo_cols].apply(lambda x: json.dumps(x.to_dict()),axis=1)\n",
    "\n",
    "# 滤掉原来的列\n",
    "df = df.drop(passengerInfo_cols,axis=1)\n",
    "df = df.drop(ticketInfo_cols,axis=1)\n",
    "\n",
    "# 为了能够存入 SQLite，我们将两个字段改为 str 类型\n",
    "# SQLite 仅支持将数据以 TEXT 形式进行存储\n",
    "df['passengerInfo'] = df['passengerInfo'].astype(str)\n",
    "df['ticketInfo'] = df['ticketInfo'].astype(str)\n",
    "\n",
    "# 将上面的数据写入一张名为 example_table_json 的表\n",
    "with sqlite3.connect('example.db') as conn:\n",
    "    df.to_sql('example_table_json', con=conn, if_exists='replace', index=False)\n",
    "\n",
    "# 链接好到建立好的数据库\n",
    "connection = sqlite3.connect('example.db')\n",
    "\n",
    "\n"
   ]
  },
  {
   "cell_type": "code",
   "execution_count": 13,
   "metadata": {},
   "outputs": [],
   "source": [
    "# 读取泰坦尼克号数据集\n",
    "df = pd.read_csv('train.csv')\n",
    "# 将表格中 NaN 值替换为 NULL\n",
    "df = df.where(pd.notnull(df), None)\n",
    "\n",
    "# 将数据写入一张名为 example_table 的表\n",
    "with sqlite3.connect('example.db') as conn:\n",
    "    df.to_sql('example_table', con=conn, if_exists='replace', index=False)\n",
    "\n",
    "# 为了下面教程的开展，我们这里需要制作一些新的表格\n",
    "# 新建一个字段 \"CabinType\",表示 Cabin 字段的第一个字母\n",
    "new_df = deepcopy(df)\n",
    "new_df['CabinType'] = new_df['Cabin'].apply(lambda x: x[0] if x is not None else None)\n",
    "\n",
    "# 计算每个 CabinType 和 Pclass 分组下的平均船费和生存率\n",
    "df_gb_pc_ct = new_df.groupby(['Pclass','CabinType'])[['Fare','Survived']].apply(lambda x: np.mean(x)).reset_index()\n",
    "\n",
    "# 将结果存入数据库,新建一张名为 example_table_gb 的表格\n",
    "with sqlite3.connect('example.db') as conn:\n",
    "    df_gb_pc_ct.to_sql('example_table_gb', con=conn, if_exists='replace', index=False)"
   ]
  },
  {
   "cell_type": "code",
   "execution_count": 15,
   "metadata": {},
   "outputs": [
    {
     "ename": "OperationalError",
     "evalue": "no such column: t1.Survived",
     "output_type": "error",
     "traceback": [
      "\u001b[1;31m---------------------------------------------------------------------------\u001b[0m",
      "\u001b[1;31mOperationalError\u001b[0m                          Traceback (most recent call last)",
      "Cell \u001b[1;32mIn[15], line 18\u001b[0m\n\u001b[0;32m     16\u001b[0m \u001b[38;5;28;01mfor\u001b[39;00m i \u001b[38;5;129;01min\u001b[39;00m \u001b[38;5;28mrange\u001b[39m(\u001b[38;5;241m100\u001b[39m):\n\u001b[0;32m     17\u001b[0m     start_time \u001b[38;5;241m=\u001b[39m time\u001b[38;5;241m.\u001b[39mtime()\n\u001b[1;32m---> 18\u001b[0m     _ \u001b[38;5;241m=\u001b[39m \u001b[43mconnection\u001b[49m\u001b[38;5;241;43m.\u001b[39;49m\u001b[43mexecute\u001b[49m\u001b[43m(\u001b[49m\u001b[43mquery\u001b[49m\u001b[43m)\u001b[49m\u001b[38;5;241m.\u001b[39mfetchall()\n\u001b[0;32m     19\u001b[0m     before\u001b[38;5;241m.\u001b[39mappend(time\u001b[38;5;241m.\u001b[39mtime()\u001b[38;5;241m-\u001b[39mstart_time)\n",
      "\u001b[1;31mOperationalError\u001b[0m: no such column: t1.Survived"
     ]
    }
   ],
   "source": [
    "\n",
    "# 这里我们用 100 个相同查询的查询时间来看反映查询速度的变化\n",
    "\n",
    "# 查询语句\n",
    "# 统计每个 pclass 下乘客生存率的方差\n",
    "query = '''\n",
    "SELECT t1.Pclass\n",
    "        ,avg((t2.Survived-t1.Survived)*(t2.Survived-t1.Survived)) AS std -- 方差计算\n",
    "FROM example_table_gb AS t1\n",
    "        JOIN example_table AS t2\n",
    "            ON t1.Pclass = t2.Pclass \n",
    "GROUP BY t1.Pclass\n",
    "'''\n",
    "\n",
    "# before 记录创建索引前的执行时间\n",
    "before = []\n",
    "for i in range(100):\n",
    "    start_time = time.time()\n",
    "    _ = connection.execute(query).fetchall()\n",
    "    before.append(time.time()-start_time)\n"
   ]
  },
  {
   "cell_type": "code",
   "execution_count": null,
   "metadata": {},
   "outputs": [
    {
     "data": {
      "text/plain": [
       "[(0, 'Pclass', 'INTEGER', 0, None, 0),\n",
       " (1, 'CabinType', 'TEXT', 0, None, 0),\n",
       " (2, '0', 'REAL', 0, None, 0)]"
      ]
     },
     "execution_count": 17,
     "metadata": {},
     "output_type": "execute_result"
    }
   ],
   "source": [
    "table_name='example_table_gb'\n",
    "result=connection.execute(f\"PRAGMA table_info({table_name})\").fetchall()\n",
    "result\n"
   ]
  },
  {
   "cell_type": "code",
   "execution_count": 18,
   "metadata": {},
   "outputs": [
    {
     "data": {
      "text/plain": [
       "[(0, 'PassengerId', 'INTEGER', 0, None, 0),\n",
       " (1, 'Survived', 'INTEGER', 0, None, 0),\n",
       " (2, 'Pclass', 'INTEGER', 0, None, 0),\n",
       " (3, 'Name', 'TEXT', 0, None, 0),\n",
       " (4, 'Sex', 'TEXT', 0, None, 0),\n",
       " (5, 'Age', 'REAL', 0, None, 0),\n",
       " (6, 'SibSp', 'INTEGER', 0, None, 0),\n",
       " (7, 'Parch', 'INTEGER', 0, None, 0),\n",
       " (8, 'Ticket', 'TEXT', 0, None, 0),\n",
       " (9, 'Fare', 'REAL', 0, None, 0),\n",
       " (10, 'Cabin', 'TEXT', 0, None, 0),\n",
       " (11, 'Embarked', 'TEXT', 0, None, 0)]"
      ]
     },
     "execution_count": 18,
     "metadata": {},
     "output_type": "execute_result"
    }
   ],
   "source": [
    "table_name='example_table'\n",
    "result=connection.execute(f\"PRAGMA table_info({table_name})\").fetchall()\n",
    "result\n"
   ]
  },
  {
   "cell_type": "code",
   "execution_count": null,
   "metadata": {},
   "outputs": [],
   "source": []
  }
 ],
 "metadata": {
  "kernelspec": {
   "display_name": "Python 3",
   "language": "python",
   "name": "python3"
  },
  "language_info": {
   "codemirror_mode": {
    "name": "ipython",
    "version": 3
   },
   "file_extension": ".py",
   "mimetype": "text/x-python",
   "name": "python",
   "nbconvert_exporter": "python",
   "pygments_lexer": "ipython3",
   "version": "3.12.0"
  }
 },
 "nbformat": 4,
 "nbformat_minor": 2
}
