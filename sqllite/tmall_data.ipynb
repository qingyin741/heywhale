{
 "cells": [
  {
   "cell_type": "code",
   "execution_count": 10,
   "metadata": {},
   "outputs": [
    {
     "data": {
      "text/html": [
       "<div>\n",
       "<style scoped>\n",
       "    .dataframe tbody tr th:only-of-type {\n",
       "        vertical-align: middle;\n",
       "    }\n",
       "\n",
       "    .dataframe tbody tr th {\n",
       "        vertical-align: top;\n",
       "    }\n",
       "\n",
       "    .dataframe thead th {\n",
       "        text-align: right;\n",
       "    }\n",
       "</style>\n",
       "<table border=\"1\" class=\"dataframe\">\n",
       "  <thead>\n",
       "    <tr style=\"text-align: right;\">\n",
       "      <th></th>\n",
       "      <th>订单创建时间</th>\n",
       "      <th>收货地址</th>\n",
       "    </tr>\n",
       "  </thead>\n",
       "  <tbody>\n",
       "    <tr>\n",
       "      <th>13511</th>\n",
       "      <td>2020-02-26 15:41:27</td>\n",
       "      <td>内蒙古自治区</td>\n",
       "    </tr>\n",
       "  </tbody>\n",
       "</table>\n",
       "</div>"
      ],
      "text/plain": [
       "                    订单创建时间   收货地址 \n",
       "13511  2020-02-26 15:41:27  内蒙古自治区"
      ]
     },
     "execution_count": 10,
     "metadata": {},
     "output_type": "execute_result"
    }
   ],
   "source": [
    "import pandas as pd\n",
    "\n",
    "data=pd.read_csv('tmall_order_report.csv')\n",
    "data_time=data.sort_values(by=['订单创建时间'],ascending=False)\n",
    "data_time_filter=data_time[data_time['总金额']>5000]\n",
    "data_time_filter.head(1)[['订单创建时间','收货地址 ']]"
   ]
  },
  {
   "cell_type": "code",
   "execution_count": 7,
   "metadata": {},
   "outputs": [
    {
     "name": "stderr",
     "output_type": "stream",
     "text": [
      "C:\\Users\\W10\\AppData\\Local\\Temp\\ipykernel_10792\\3590572556.py:19: FutureWarning: A value is trying to be set on a copy of a DataFrame or Series through chained assignment using an inplace method.\n",
      "The behavior will change in pandas 3.0. This inplace method will never work because the intermediate object on which we are setting values always behaves as a copy.\n",
      "\n",
      "For example, when doing 'df[col].method(value, inplace=True)', try using 'df.method({col: value}, inplace=True)' or df[col] = df[col].method(value) instead, to perform the operation inplace on the original object.\n",
      "\n",
      "\n",
      "  filtered_data[\"下一笔订单时间\"].fillna(filtered_data[\"订单创建时间\"], inplace=True)\n"
     ]
    },
    {
     "data": {
      "text/html": [
       "<div>\n",
       "<style scoped>\n",
       "    .dataframe tbody tr th:only-of-type {\n",
       "        vertical-align: middle;\n",
       "    }\n",
       "\n",
       "    .dataframe tbody tr th {\n",
       "        vertical-align: top;\n",
       "    }\n",
       "\n",
       "    .dataframe thead th {\n",
       "        text-align: right;\n",
       "    }\n",
       "</style>\n",
       "<table border=\"1\" class=\"dataframe\">\n",
       "  <thead>\n",
       "    <tr style=\"text-align: right;\">\n",
       "      <th></th>\n",
       "      <th>订单创建时间</th>\n",
       "      <th>收货地址</th>\n",
       "    </tr>\n",
       "  </thead>\n",
       "  <tbody>\n",
       "    <tr>\n",
       "      <th>13511</th>\n",
       "      <td>2020-02-26 15:41:27</td>\n",
       "      <td>内蒙古自治区</td>\n",
       "    </tr>\n",
       "    <tr>\n",
       "      <th>19257</th>\n",
       "      <td>2020-02-24 19:35:06</td>\n",
       "      <td>上海</td>\n",
       "    </tr>\n",
       "    <tr>\n",
       "      <th>3143</th>\n",
       "      <td>2020-02-18 09:34:43</td>\n",
       "      <td>江苏省</td>\n",
       "    </tr>\n",
       "  </tbody>\n",
       "</table>\n",
       "</div>"
      ],
      "text/plain": [
       "                   订单创建时间   收货地址 \n",
       "13511 2020-02-26 15:41:27  内蒙古自治区\n",
       "19257 2020-02-24 19:35:06      上海\n",
       "3143  2020-02-18 09:34:43     江苏省"
      ]
     },
     "execution_count": 7,
     "metadata": {},
     "output_type": "execute_result"
    }
   ],
   "source": [
    "import pandas as pd\n",
    "\n",
    "# 假设数据从 CSV 文件加载\n",
    "data=pd.read_csv('tmall_order_report.csv')\n",
    "\n",
    "# 转换时间字段为日期时间格式\n",
    "data[\"订单创建时间\"] = pd.to_datetime(data[\"订单创建时间\"])\n",
    "\n",
    "# 1. 筛选总金额 > 5000 的记录\n",
    "filtered_data = data[data[\"总金额\"] > 5000]\n",
    "\n",
    "# 2. 按收货地址和订单创建时间排序\n",
    "filtered_data = filtered_data.sort_values(by=[\"收货地址 \", \"订单创建时间\"])\n",
    "\n",
    "# 3. 计算“下一笔订单时间”\n",
    "filtered_data[\"下一笔订单时间\"] = filtered_data.groupby(\"收货地址 \")[\"订单创建时间\"].shift(-1)\n",
    "\n",
    "# 如果下一笔订单为空，则用当前订单时间替代\n",
    "filtered_data[\"下一笔订单时间\"].fillna(filtered_data[\"订单创建时间\"], inplace=True)\n",
    "\n",
    "# 4. 筛选出下一笔订单时间 == 当前订单时间的记录\n",
    "result = filtered_data[filtered_data[\"下一笔订单时间\"] == filtered_data[\"订单创建时间\"]]\n",
    "\n",
    "# 5. 按订单时间降序排列\n",
    "result = result.sort_values(by=\"订单创建时间\", ascending=False)\n",
    "\n",
    "# 输出结果\n",
    "result[[\"订单创建时间\", \"收货地址 \"]]\n"
   ]
  },
  {
   "cell_type": "code",
   "execution_count": null,
   "metadata": {},
   "outputs": [],
   "source": []
  }
 ],
 "metadata": {
  "kernelspec": {
   "display_name": "Python 3",
   "language": "python",
   "name": "python3"
  },
  "language_info": {
   "codemirror_mode": {
    "name": "ipython",
    "version": 3
   },
   "file_extension": ".py",
   "mimetype": "text/x-python",
   "name": "python",
   "nbconvert_exporter": "python",
   "pygments_lexer": "ipython3",
   "version": "3.12.0"
  }
 },
 "nbformat": 4,
 "nbformat_minor": 2
}
