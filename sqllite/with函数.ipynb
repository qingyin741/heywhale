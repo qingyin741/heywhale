{
 "cells": [
  {
   "cell_type": "code",
   "execution_count": 12,
   "metadata": {},
   "outputs": [],
   "source": [
    "from IPython.display import Markdown  as md\n",
    "from  matplotlib import pyplot as plt\n",
    "import sqlite3  \n",
    "import pandas as pd\n",
    "import numpy as np\n",
    "import json\n",
    "from copy import deepcopy\n",
    "from datetime import datetime"
   ]
  },
  {
   "cell_type": "code",
   "execution_count": 13,
   "metadata": {},
   "outputs": [],
   "source": [
    "df=pd.read_csv('tmall_order_report.csv')\n",
    "df=df.where(pd.notnull(df),None)\n",
    "df['订单创建日期']=df['订单创建时间'].apply(lambda x:pd.Timestamp(x).date()).astype(str)\n",
    "\n",
    "\n",
    "# 将数据写入example_table 中\n",
    "with sqlite3.connect('example.db') as conn:\n",
    "    df.to_sql('example_table',con=conn,if_exists='replace',index=False)\n",
    "    \n",
    "connection=sqlite3.connect('example.db')"
   ]
  },
  {
   "cell_type": "code",
   "execution_count": 14,
   "metadata": {},
   "outputs": [
    {
     "data": {
      "text/plain": [
       "Index(['订单编号', '总金额', '买家实际支付金额', '收货地址 ', '订单创建时间', '订单付款时间 ', '退款金额',\n",
       "       '订单创建日期'],\n",
       "      dtype='object')"
      ]
     },
     "execution_count": 14,
     "metadata": {},
     "output_type": "execute_result"
    }
   ],
   "source": [
    "df.columns"
   ]
  },
  {
   "cell_type": "code",
   "execution_count": 15,
   "metadata": {},
   "outputs": [
    {
     "data": {
      "text/html": [
       "<div>\n",
       "<style scoped>\n",
       "    .dataframe tbody tr th:only-of-type {\n",
       "        vertical-align: middle;\n",
       "    }\n",
       "\n",
       "    .dataframe tbody tr th {\n",
       "        vertical-align: top;\n",
       "    }\n",
       "\n",
       "    .dataframe thead th {\n",
       "        text-align: right;\n",
       "    }\n",
       "</style>\n",
       "<table border=\"1\" class=\"dataframe\">\n",
       "  <thead>\n",
       "    <tr style=\"text-align: right;\">\n",
       "      <th></th>\n",
       "      <th>订单编号</th>\n",
       "      <th>总金额</th>\n",
       "      <th>买家实际支付金额</th>\n",
       "      <th>收货地址</th>\n",
       "      <th>订单创建时间</th>\n",
       "      <th>订单付款时间</th>\n",
       "      <th>退款金额</th>\n",
       "      <th>订单创建日期</th>\n",
       "    </tr>\n",
       "  </thead>\n",
       "  <tbody>\n",
       "    <tr>\n",
       "      <th>0</th>\n",
       "      <td>1</td>\n",
       "      <td>178.8</td>\n",
       "      <td>0.0</td>\n",
       "      <td>上海</td>\n",
       "      <td>2020-02-21 00:00:00</td>\n",
       "      <td>None</td>\n",
       "      <td>0.0</td>\n",
       "      <td>2020-02-21</td>\n",
       "    </tr>\n",
       "    <tr>\n",
       "      <th>1</th>\n",
       "      <td>2</td>\n",
       "      <td>21.0</td>\n",
       "      <td>21.0</td>\n",
       "      <td>内蒙古自治区</td>\n",
       "      <td>2020-02-20 23:59:54</td>\n",
       "      <td>2020-02-21 00:00:02</td>\n",
       "      <td>0.0</td>\n",
       "      <td>2020-02-20</td>\n",
       "    </tr>\n",
       "    <tr>\n",
       "      <th>2</th>\n",
       "      <td>3</td>\n",
       "      <td>37.0</td>\n",
       "      <td>0.0</td>\n",
       "      <td>安徽省</td>\n",
       "      <td>2020-02-20 23:59:35</td>\n",
       "      <td>None</td>\n",
       "      <td>0.0</td>\n",
       "      <td>2020-02-20</td>\n",
       "    </tr>\n",
       "    <tr>\n",
       "      <th>3</th>\n",
       "      <td>4</td>\n",
       "      <td>157.0</td>\n",
       "      <td>157.0</td>\n",
       "      <td>湖南省</td>\n",
       "      <td>2020-02-20 23:58:34</td>\n",
       "      <td>2020-02-20 23:58:44</td>\n",
       "      <td>0.0</td>\n",
       "      <td>2020-02-20</td>\n",
       "    </tr>\n",
       "    <tr>\n",
       "      <th>4</th>\n",
       "      <td>5</td>\n",
       "      <td>64.8</td>\n",
       "      <td>0.0</td>\n",
       "      <td>江苏省</td>\n",
       "      <td>2020-02-20 23:57:04</td>\n",
       "      <td>2020-02-20 23:57:11</td>\n",
       "      <td>64.8</td>\n",
       "      <td>2020-02-20</td>\n",
       "    </tr>\n",
       "  </tbody>\n",
       "</table>\n",
       "</div>"
      ],
      "text/plain": [
       "   订单编号    总金额  买家实际支付金额   收货地址                订单创建时间              订单付款时间   \\\n",
       "0     1  178.8       0.0      上海  2020-02-21 00:00:00                 None   \n",
       "1     2   21.0      21.0  内蒙古自治区  2020-02-20 23:59:54  2020-02-21 00:00:02   \n",
       "2     3   37.0       0.0     安徽省  2020-02-20 23:59:35                 None   \n",
       "3     4  157.0     157.0     湖南省  2020-02-20 23:58:34  2020-02-20 23:58:44   \n",
       "4     5   64.8       0.0     江苏省  2020-02-20 23:57:04  2020-02-20 23:57:11   \n",
       "\n",
       "   退款金额      订单创建日期  \n",
       "0   0.0  2020-02-21  \n",
       "1   0.0  2020-02-20  \n",
       "2   0.0  2020-02-20  \n",
       "3   0.0  2020-02-20  \n",
       "4  64.8  2020-02-20  "
      ]
     },
     "execution_count": 15,
     "metadata": {},
     "output_type": "execute_result"
    }
   ],
   "source": [
    "df.head()"
   ]
  },
  {
   "cell_type": "code",
   "execution_count": 16,
   "metadata": {},
   "outputs": [
    {
     "data": {
      "text/plain": [
       "[]"
      ]
     },
     "execution_count": 16,
     "metadata": {},
     "output_type": "execute_result"
    }
   ],
   "source": [
    "query=\"\"\" \n",
    "create view\n",
    "if not exists\n",
    "view_1\n",
    "as \n",
    "select \n",
    "    '订单创建时间' as create_time,\n",
    "    '收货地址' as address\n",
    "from example_table\n",
    "\n",
    "\"\"\"\n",
    "result=connection.execute(query).fetchall()\n",
    "result"
   ]
  },
  {
   "cell_type": "code",
   "execution_count": 17,
   "metadata": {},
   "outputs": [
    {
     "data": {
      "text/plain": [
       "[]"
      ]
     },
     "execution_count": 17,
     "metadata": {},
     "output_type": "execute_result"
    }
   ],
   "source": [
    "# 删除view\n",
    "query=\"\"\" \n",
    "drop view\n",
    "if exists\n",
    "view_1\n",
    "\n",
    "\"\"\"\n",
    "result=connection.execute(query).fetchall()\n",
    "result"
   ]
  },
  {
   "cell_type": "code",
   "execution_count": 18,
   "metadata": {},
   "outputs": [
    {
     "data": {
      "text/plain": [
       "[]"
      ]
     },
     "execution_count": 18,
     "metadata": {},
     "output_type": "execute_result"
    }
   ],
   "source": [
    "query=''' \n",
    "\n",
    "select \n",
    "    t1.order_date,\n",
    "    sum(orders_num)\n",
    "    over(\n",
    "        order by order_date\n",
    "        rows \n",
    "        between \n",
    "        unbounded preceding\n",
    "        and \n",
    "        current row\n",
    "    )as running_total\n",
    "from \n",
    "(\n",
    "    select \n",
    "    \"订单创建日期\" as order_date,\n",
    "    count(\"订单编号\") as order_num\n",
    "    from example_table\n",
    "    group by \"订单创建日期\"\n",
    ")as t1\n",
    "        \n",
    "'''\n",
    "\n",
    "# 加入 VIEW\n",
    "query_view = '''\n",
    "CREATE VIEW IF NOT EXISTS orders_by_date AS\n",
    "SELECT \n",
    "    \"订单创建日期\" AS order_date\n",
    "    ,COUNT(\"订单编号\") AS orders_num\n",
    "FROM example_table\n",
    "GROUP BY \"订单创建日期\";\n",
    "\n",
    "SELECT\n",
    "      order_date,\n",
    "      SUM(orders_num)                  -- 聚合函数 SUM()\n",
    "      OVER(                            -- OVER 关键字，（）内定 frame\n",
    "             ORDER BY order_date        -- 按照 order_date 排序 \n",
    "             ROWS                       -- 按照表当中的相对位置\n",
    "             BETWEEN                    -- 界定上下界\n",
    "                  UNBOUNDED PRECEDING   -- 上界，不设限制\n",
    "             AND \n",
    "                  CURRENT ROW           -- 下界，当前行\n",
    "             ) AS running_total\n",
    "\n",
    "FROM orders_by_date;\n",
    "'''\n",
    "### 【！注意】这里将 execute 换为 executescript\n",
    "### 这样我们可以在一个 query 当中执行多条 SQL 语句\n",
    "result = connection.executescript(query_view).fetchall() \n",
    "result"
   ]
  },
  {
   "cell_type": "code",
   "execution_count": 19,
   "metadata": {},
   "outputs": [
    {
     "data": {
      "text/plain": [
       "('2020-02-01', 176)"
      ]
     },
     "execution_count": 19,
     "metadata": {},
     "output_type": "execute_result"
    }
   ],
   "source": [
    "query=''' \n",
    "select order_date,orders_num\n",
    "from orders_by_date;\n",
    "'''\n",
    "result=connection.execute(query).fetchone()\n",
    "result"
   ]
  },
  {
   "cell_type": "code",
   "execution_count": 20,
   "metadata": {},
   "outputs": [
    {
     "data": {
      "text/plain": [
       "[('2020-02-01', 176, 176),\n",
       " ('2020-02-02', 222, 398),\n",
       " ('2020-02-03', 267, 665),\n",
       " ('2020-02-04', 469, 1134),\n",
       " ('2020-02-05', 369, 1503),\n",
       " ('2020-02-06', 144, 1647),\n",
       " ('2020-02-07', 177, 1824),\n",
       " ('2020-02-09', 404, 2228),\n",
       " ('2020-02-10', 27, 2255),\n",
       " ('2020-02-11', 15, 2270),\n",
       " ('2020-02-12', 1, 2271),\n",
       " ('2020-02-13', 5, 2276),\n",
       " ('2020-02-14', 7, 2283),\n",
       " ('2020-02-15', 5, 2288),\n",
       " ('2020-02-17', 390, 2678),\n",
       " ('2020-02-18', 1015, 3693),\n",
       " ('2020-02-19', 1025, 4718),\n",
       " ('2020-02-20', 1345, 6063),\n",
       " ('2020-02-21', 2068, 8131),\n",
       " ('2020-02-22', 2027, 10158),\n",
       " ('2020-02-23', 2200, 12358),\n",
       " ('2020-02-24', 1998, 14356),\n",
       " ('2020-02-25', 3416, 17772),\n",
       " ('2020-02-26', 2849, 20621),\n",
       " ('2020-02-27', 2586, 23207),\n",
       " ('2020-02-28', 2691, 25898),\n",
       " ('2020-02-29', 2112, 28010)]"
      ]
     },
     "execution_count": 20,
     "metadata": {},
     "output_type": "execute_result"
    }
   ],
   "source": [
    "# with 函数构建cte\n",
    "query_cte=\"\"\" \n",
    "with\n",
    "orders_by_date_cte\n",
    "as(\n",
    "    select\n",
    "    \"订单创建日期\" as order_date,\n",
    "    count(\"订单编号\") as orders_num\n",
    "    from example_table\n",
    "    group by order_date\n",
    ")\n",
    "select\n",
    "    order_date,\n",
    "    orders_num,\n",
    "    sum(orders_num)\n",
    "    over(\n",
    "        order by order_date\n",
    "        rows \n",
    "        between\n",
    "            unbounded preceding\n",
    "        and\n",
    "            current row\n",
    "    )as running_total\n",
    "from orders_by_date_cte;\n",
    "\"\"\"\n",
    "result=connection.execute(query_cte).fetchall()\n",
    "result"
   ]
  },
  {
   "cell_type": "code",
   "execution_count": 21,
   "metadata": {},
   "outputs": [],
   "source": [
    "# cte 不会存储\n",
    "query_cte=\"\"\"  \n",
    "select\n",
    "    order_date,\n",
    "    sum(orders_num)\n",
    "    over(\n",
    "        order by order_date\n",
    "        rows \n",
    "        between \n",
    "            unbounded   preceding\n",
    "        and\n",
    "            current row\n",
    "    )as running_total\n",
    "from orders_by_date_cte;\n",
    "\n",
    "\"\"\"\n",
    "try:\n",
    "    result=connection.execute(query).fetchall()\n",
    "except Exception as e:\n",
    "    print(e)"
   ]
  },
  {
   "cell_type": "code",
   "execution_count": 25,
   "metadata": {},
   "outputs": [
    {
     "data": {
      "text/plain": [
       "[('2020-02-01', '上海', 48),\n",
       " ('2020-02-02', '上海', 114),\n",
       " ('2020-02-03', '上海', 197),\n",
       " ('2020-02-04', '上海', 330),\n",
       " ('2020-02-05', '上海', 414),\n",
       " ('2020-02-06', '上海', 459),\n",
       " ('2020-02-07', '上海', 499),\n",
       " ('2020-02-09', '上海', 596),\n",
       " ('2020-02-10', '上海', 603),\n",
       " ('2020-02-11', '上海', 608),\n",
       " ('2020-02-13', '上海', 609),\n",
       " ('2020-02-14', '上海', 612),\n",
       " ('2020-02-17', '上海', 685),\n",
       " ('2020-02-18', '上海', 834),\n",
       " ('2020-02-19', '上海', 963),\n",
       " ('2020-02-20', '上海', 1090),\n",
       " ('2020-02-21', '上海', 1291),\n",
       " ('2020-02-22', '上海', 1508),\n",
       " ('2020-02-23', '上海', 1717),\n",
       " ('2020-02-24', '上海', 1957)]"
      ]
     },
     "execution_count": 25,
     "metadata": {},
     "output_type": "execute_result"
    }
   ],
   "source": [
    "query = '''\n",
    "WITH orders_by_date AS\n",
    "(\n",
    "SELECT \"订单创建日期\" AS order_date\n",
    "               ,\"收货地址 \" AS address\n",
    "               ,COUNT(\"订单编号\") AS orders_num\n",
    "      FROM example_table\n",
    "      GROUP BY \"订单创建日期\",\"收货地址 \"\n",
    ")\n",
    ",filter_address AS            -- 新的 CTE\n",
    "(\n",
    "SELECT \n",
    "    order_date\n",
    "    ,orders_num \n",
    "    ,address\n",
    "FROM orders_by_date           -- 引用上一个 CTE\n",
    "WHERE address IN ('北京','上海')\n",
    ")\n",
    "SELECT\n",
    "      t1.order_date\n",
    "      ,t1.address\n",
    "      ,SUM(orders_num)                  -- 聚合函数 SUM()\n",
    "       OVER(                            -- OVER 关键字，（）内定 frame\n",
    "             PARTITION BY address       -- 每个 frame 内只有 address 相同的数据\n",
    "             ORDER BY order_date        -- 按照 order_date 排序 \n",
    "             ROWS                       -- 按照表当中的相对位置\n",
    "             BETWEEN                    -- 界定上下界\n",
    "                  UNBOUNDED PRECEDING   -- 上界，不设限制\n",
    "             AND \n",
    "                  CURRENT ROW           -- 下界，当前行\n",
    "             ) AS running_total\n",
    "\n",
    "FROM filter_address AS t1\n",
    "'''\n",
    "result = connection.execute(query).fetchall()\n",
    "result[:20]"
   ]
  }
 ],
 "metadata": {
  "kernelspec": {
   "display_name": "Python 3",
   "language": "python",
   "name": "python3"
  },
  "language_info": {
   "codemirror_mode": {
    "name": "ipython",
    "version": 3
   },
   "file_extension": ".py",
   "mimetype": "text/x-python",
   "name": "python",
   "nbconvert_exporter": "python",
   "pygments_lexer": "ipython3",
   "version": "3.12.0"
  }
 },
 "nbformat": 4,
 "nbformat_minor": 2
}
