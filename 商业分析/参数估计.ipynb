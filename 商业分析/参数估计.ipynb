{
 "cells": [
  {
   "cell_type": "code",
   "execution_count": 2,
   "metadata": {},
   "outputs": [
    {
     "name": "stdout",
     "output_type": "stream",
     "text": [
      "置信上限为： 15.569795032304564\n",
      "置信下限为： 14.330204967695439\n"
     ]
    }
   ],
   "source": [
    "import numpy as np\n",
    "import scipy.stats as ss\n",
    "\n",
    "n=6\n",
    "alpha=0.05\n",
    "sigma=np.sqrt(0.6)\n",
    "x=[14.6,15.1,14.9,14.8,15.2,15.1]\n",
    "xbar=np.mean(x)\n",
    "\n",
    "#计算置信上限与置信下限\n",
    "low=xbar-ss.norm.ppf(q=1- alpha/2)*(sigma/ np.sqrt(n))\n",
    "up=xbar+ss.norm.ppf(q=1-alpha/2)*(sigma/np.sqrt(n))\n",
    "\n",
    "print('置信上限为：',up)\n",
    "print('置信下限为：',low)"
   ]
  },
  {
   "cell_type": "code",
   "execution_count": 3,
   "metadata": {},
   "outputs": [
    {
     "name": "stdout",
     "output_type": "stream",
     "text": [
      "置信上限为： 0.0055093006780061946\n",
      "置信下限为： 0.0012550751937877684\n"
     ]
    }
   ],
   "source": [
    "from scipy.stats import  chi2\n",
    "\n",
    "n=16\n",
    "sq=0.0023\n",
    "alpha=0.05\n",
    "\n",
    "#计算置信上限与置信下限\n",
    "low=((n-1)*sq)/chi2.ppf(1-alpha/2,n-1)\n",
    "up=((n-1)*sq)/chi2.ppf(alpha/2,n-1)\n",
    "\n",
    "print('置信上限为：',up)\n",
    "print('置信下限为：',low)"
   ]
  },
  {
   "cell_type": "code",
   "execution_count": 5,
   "metadata": {},
   "outputs": [
    {
     "name": "stdout",
     "output_type": "stream",
     "text": [
      "置信上限为： 130.08311619904174\n",
      "置信下限为： 34.66688380095825\n"
     ]
    }
   ],
   "source": [
    "import numpy as np\n",
    "import scipy.stats as ss\n",
    "\n",
    "# 输入数据\n",
    "x = [628, 583, 510, 554, 612, 523, 530, 615]\n",
    "y = [535, 433, 398, 470, 567, 480, 498, 560, 503, 426]\n",
    "\n",
    "n1=len(x)\n",
    "n2=len(y)\n",
    "xbar=np.mean(x)\n",
    "ybar=np.mean(y)\n",
    "sigma1=2140\n",
    "sigma2=3250\n",
    "alpha=0.05\n",
    "#设置置信上限和置信下限\n",
    "low=xbar-ybar-ss.norm.ppf(q=1-alpha/2)*np.sqrt(sigma1/n1+sigma2/n2)\n",
    "up=xbar-ybar+ss.norm.ppf(q=1-alpha/2)*np.sqrt(sigma1/n1+sigma2/n2)\n",
    "print('置信上限为：',up)\n",
    "print('置信下限为：',low)\n"
   ]
  },
  {
   "cell_type": "code",
   "execution_count": 7,
   "metadata": {},
   "outputs": [],
   "source": [
    "#计算置信区间\n",
    "import scipy.stats as ss\n",
    "from scipy.stats import t\n",
    "# 输入数据\n",
    "n = 6  # 样本量\n",
    "alpha = 0.05  # 显著性水平\n",
    "sigma = np.sqrt(0.6)  # 总体标准差\n",
    "x = [14.6, 15.1, 14.9, 14.8, 15.2, 15.1] \n",
    "xbar=np.mean(x)\n",
    "s=np.var(x)\n",
    "\n",
    "#计算上限和下限\n",
    "low=xbar-ss.t.ppf()\n"
   ]
  }
 ],
 "metadata": {
  "kernelspec": {
   "display_name": "Python 3",
   "language": "python",
   "name": "python3"
  },
  "language_info": {
   "codemirror_mode": {
    "name": "ipython",
    "version": 3
   },
   "file_extension": ".py",
   "mimetype": "text/x-python",
   "name": "python",
   "nbconvert_exporter": "python",
   "pygments_lexer": "ipython3",
   "version": "3.12.0"
  }
 },
 "nbformat": 4,
 "nbformat_minor": 2
}
