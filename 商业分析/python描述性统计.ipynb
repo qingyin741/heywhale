{
 "cells": [
  {
   "cell_type": "code",
   "execution_count": 1,
   "metadata": {},
   "outputs": [
    {
     "name": "stderr",
     "output_type": "stream",
     "text": [
      "                                                                         \r"
     ]
    },
    {
     "data": {
      "text/html": [
       "<div>\n",
       "<style scoped>\n",
       "    .dataframe tbody tr th:only-of-type {\n",
       "        vertical-align: middle;\n",
       "    }\n",
       "\n",
       "    .dataframe tbody tr th {\n",
       "        vertical-align: top;\n",
       "    }\n",
       "\n",
       "    .dataframe thead th {\n",
       "        text-align: right;\n",
       "    }\n",
       "</style>\n",
       "<table border=\"1\" class=\"dataframe\">\n",
       "  <thead>\n",
       "    <tr style=\"text-align: right;\">\n",
       "      <th></th>\n",
       "      <th>代码</th>\n",
       "      <th>名称</th>\n",
       "      <th>最新价</th>\n",
       "      <th>涨跌额</th>\n",
       "      <th>涨跌幅</th>\n",
       "      <th>买入</th>\n",
       "      <th>卖出</th>\n",
       "      <th>昨收</th>\n",
       "      <th>今开</th>\n",
       "      <th>最高</th>\n",
       "      <th>最低</th>\n",
       "      <th>成交量</th>\n",
       "      <th>成交额</th>\n",
       "      <th>时间戳</th>\n",
       "    </tr>\n",
       "  </thead>\n",
       "  <tbody>\n",
       "    <tr>\n",
       "      <th>0</th>\n",
       "      <td>bj430017</td>\n",
       "      <td>XD星昊医</td>\n",
       "      <td>10.75</td>\n",
       "      <td>0.22</td>\n",
       "      <td>2.089</td>\n",
       "      <td>10.74</td>\n",
       "      <td>10.75</td>\n",
       "      <td>10.53</td>\n",
       "      <td>10.63</td>\n",
       "      <td>10.78</td>\n",
       "      <td>10.52</td>\n",
       "      <td>332411.0</td>\n",
       "      <td>3538836.0</td>\n",
       "      <td>15:30:02</td>\n",
       "    </tr>\n",
       "    <tr>\n",
       "      <th>1</th>\n",
       "      <td>bj430047</td>\n",
       "      <td>诺思兰德</td>\n",
       "      <td>13.94</td>\n",
       "      <td>0.31</td>\n",
       "      <td>2.274</td>\n",
       "      <td>13.92</td>\n",
       "      <td>13.94</td>\n",
       "      <td>13.63</td>\n",
       "      <td>13.64</td>\n",
       "      <td>14.09</td>\n",
       "      <td>13.44</td>\n",
       "      <td>654052.0</td>\n",
       "      <td>8968616.0</td>\n",
       "      <td>15:30:02</td>\n",
       "    </tr>\n",
       "    <tr>\n",
       "      <th>2</th>\n",
       "      <td>bj430090</td>\n",
       "      <td>同辉信息</td>\n",
       "      <td>2.77</td>\n",
       "      <td>0.04</td>\n",
       "      <td>1.465</td>\n",
       "      <td>2.76</td>\n",
       "      <td>2.77</td>\n",
       "      <td>2.73</td>\n",
       "      <td>2.74</td>\n",
       "      <td>2.77</td>\n",
       "      <td>2.66</td>\n",
       "      <td>3772125.0</td>\n",
       "      <td>10280656.0</td>\n",
       "      <td>15:30:02</td>\n",
       "    </tr>\n",
       "    <tr>\n",
       "      <th>3</th>\n",
       "      <td>bj430139</td>\n",
       "      <td>华岭股份</td>\n",
       "      <td>9.65</td>\n",
       "      <td>0.21</td>\n",
       "      <td>2.225</td>\n",
       "      <td>9.63</td>\n",
       "      <td>9.65</td>\n",
       "      <td>9.44</td>\n",
       "      <td>9.44</td>\n",
       "      <td>9.72</td>\n",
       "      <td>9.33</td>\n",
       "      <td>1201696.0</td>\n",
       "      <td>11479034.0</td>\n",
       "      <td>15:30:02</td>\n",
       "    </tr>\n",
       "    <tr>\n",
       "      <th>4</th>\n",
       "      <td>bj430198</td>\n",
       "      <td>微创光电</td>\n",
       "      <td>4.97</td>\n",
       "      <td>0.07</td>\n",
       "      <td>1.429</td>\n",
       "      <td>4.96</td>\n",
       "      <td>4.97</td>\n",
       "      <td>4.90</td>\n",
       "      <td>4.88</td>\n",
       "      <td>4.99</td>\n",
       "      <td>4.85</td>\n",
       "      <td>1519765.0</td>\n",
       "      <td>7492322.0</td>\n",
       "      <td>15:30:02</td>\n",
       "    </tr>\n",
       "    <tr>\n",
       "      <th>...</th>\n",
       "      <td>...</td>\n",
       "      <td>...</td>\n",
       "      <td>...</td>\n",
       "      <td>...</td>\n",
       "      <td>...</td>\n",
       "      <td>...</td>\n",
       "      <td>...</td>\n",
       "      <td>...</td>\n",
       "      <td>...</td>\n",
       "      <td>...</td>\n",
       "      <td>...</td>\n",
       "      <td>...</td>\n",
       "      <td>...</td>\n",
       "      <td>...</td>\n",
       "    </tr>\n",
       "    <tr>\n",
       "      <th>5360</th>\n",
       "      <td>sz301587</td>\n",
       "      <td>中瑞股份</td>\n",
       "      <td>30.49</td>\n",
       "      <td>0.80</td>\n",
       "      <td>2.695</td>\n",
       "      <td>30.49</td>\n",
       "      <td>30.50</td>\n",
       "      <td>29.69</td>\n",
       "      <td>29.40</td>\n",
       "      <td>30.89</td>\n",
       "      <td>29.35</td>\n",
       "      <td>4514378.0</td>\n",
       "      <td>136649673.0</td>\n",
       "      <td>16:40:45</td>\n",
       "    </tr>\n",
       "    <tr>\n",
       "      <th>5361</th>\n",
       "      <td>sz301588</td>\n",
       "      <td>美新科技</td>\n",
       "      <td>23.54</td>\n",
       "      <td>0.66</td>\n",
       "      <td>2.885</td>\n",
       "      <td>23.54</td>\n",
       "      <td>23.56</td>\n",
       "      <td>22.88</td>\n",
       "      <td>22.62</td>\n",
       "      <td>23.64</td>\n",
       "      <td>22.46</td>\n",
       "      <td>1675188.0</td>\n",
       "      <td>38836609.0</td>\n",
       "      <td>16:41:00</td>\n",
       "    </tr>\n",
       "    <tr>\n",
       "      <th>5362</th>\n",
       "      <td>sz301589</td>\n",
       "      <td>诺瓦星云</td>\n",
       "      <td>193.60</td>\n",
       "      <td>2.40</td>\n",
       "      <td>1.255</td>\n",
       "      <td>193.60</td>\n",
       "      <td>193.69</td>\n",
       "      <td>191.20</td>\n",
       "      <td>189.72</td>\n",
       "      <td>195.65</td>\n",
       "      <td>189.17</td>\n",
       "      <td>511854.0</td>\n",
       "      <td>98891427.0</td>\n",
       "      <td>16:41:15</td>\n",
       "    </tr>\n",
       "    <tr>\n",
       "      <th>5363</th>\n",
       "      <td>sz301591</td>\n",
       "      <td>肯特股份</td>\n",
       "      <td>41.76</td>\n",
       "      <td>1.39</td>\n",
       "      <td>3.443</td>\n",
       "      <td>41.76</td>\n",
       "      <td>41.77</td>\n",
       "      <td>40.37</td>\n",
       "      <td>39.99</td>\n",
       "      <td>41.90</td>\n",
       "      <td>38.58</td>\n",
       "      <td>3207462.0</td>\n",
       "      <td>130376727.0</td>\n",
       "      <td>16:41:30</td>\n",
       "    </tr>\n",
       "    <tr>\n",
       "      <th>5364</th>\n",
       "      <td>sz301596</td>\n",
       "      <td>瑞迪智驱</td>\n",
       "      <td>84.29</td>\n",
       "      <td>0.20</td>\n",
       "      <td>0.238</td>\n",
       "      <td>84.29</td>\n",
       "      <td>84.30</td>\n",
       "      <td>84.09</td>\n",
       "      <td>82.00</td>\n",
       "      <td>84.51</td>\n",
       "      <td>79.58</td>\n",
       "      <td>2475700.0</td>\n",
       "      <td>204002859.0</td>\n",
       "      <td>16:40:45</td>\n",
       "    </tr>\n",
       "  </tbody>\n",
       "</table>\n",
       "<p>5365 rows × 14 columns</p>\n",
       "</div>"
      ],
      "text/plain": [
       "            代码     名称     最新价   涨跌额    涨跌幅      买入      卖出      昨收      今开  \\\n",
       "0     bj430017  XD星昊医   10.75  0.22  2.089   10.74   10.75   10.53   10.63   \n",
       "1     bj430047   诺思兰德   13.94  0.31  2.274   13.92   13.94   13.63   13.64   \n",
       "2     bj430090   同辉信息    2.77  0.04  1.465    2.76    2.77    2.73    2.74   \n",
       "3     bj430139   华岭股份    9.65  0.21  2.225    9.63    9.65    9.44    9.44   \n",
       "4     bj430198   微创光电    4.97  0.07  1.429    4.96    4.97    4.90    4.88   \n",
       "...        ...    ...     ...   ...    ...     ...     ...     ...     ...   \n",
       "5360  sz301587   中瑞股份   30.49  0.80  2.695   30.49   30.50   29.69   29.40   \n",
       "5361  sz301588   美新科技   23.54  0.66  2.885   23.54   23.56   22.88   22.62   \n",
       "5362  sz301589   诺瓦星云  193.60  2.40  1.255  193.60  193.69  191.20  189.72   \n",
       "5363  sz301591   肯特股份   41.76  1.39  3.443   41.76   41.77   40.37   39.99   \n",
       "5364  sz301596   瑞迪智驱   84.29  0.20  0.238   84.29   84.30   84.09   82.00   \n",
       "\n",
       "          最高      最低        成交量          成交额       时间戳  \n",
       "0      10.78   10.52   332411.0    3538836.0  15:30:02  \n",
       "1      14.09   13.44   654052.0    8968616.0  15:30:02  \n",
       "2       2.77    2.66  3772125.0   10280656.0  15:30:02  \n",
       "3       9.72    9.33  1201696.0   11479034.0  15:30:02  \n",
       "4       4.99    4.85  1519765.0    7492322.0  15:30:02  \n",
       "...      ...     ...        ...          ...       ...  \n",
       "5360   30.89   29.35  4514378.0  136649673.0  16:40:45  \n",
       "5361   23.64   22.46  1675188.0   38836609.0  16:41:00  \n",
       "5362  195.65  189.17   511854.0   98891427.0  16:41:15  \n",
       "5363   41.90   38.58  3207462.0  130376727.0  16:41:30  \n",
       "5364   84.51   79.58  2475700.0  204002859.0  16:40:45  \n",
       "\n",
       "[5365 rows x 14 columns]"
      ]
     },
     "execution_count": 1,
     "metadata": {},
     "output_type": "execute_result"
    }
   ],
   "source": [
    "import akshare as ak\n",
    "import pandas as pd\n",
    "import numpy as np\n",
    "import matplotlib.pyplot as plt\n",
    "\n",
    "new_df=ak.stock_zh_a_spot()\n",
    "new_df"
   ]
  },
  {
   "cell_type": "code",
   "execution_count": 4,
   "metadata": {},
   "outputs": [
    {
     "name": "stdout",
     "output_type": "stream",
     "text": [
      "原数据均值： 2.767497297297297\n",
      "原数据标准差: 2.924570482151671\n"
     ]
    },
    {
     "data": {
      "text/plain": [
       "<Axes: >"
      ]
     },
     "execution_count": 4,
     "metadata": {},
     "output_type": "execute_result"
    },
    {
     "data": {
      "image/png": "[encoded data removed]",
      "text/plain": [
       "<Figure size 640x480 with 1 Axes>"
      ]
     },
     "metadata": {},
     "output_type": "display_data"
    }
   ],
   "source": [
    "#对涨跌幅进行研究\n",
    "cper=new_df['涨跌幅']\n",
    "print('原数据均值：',cper.mean())\n",
    "print('原数据标准差:',cper.std())\n",
    "cper.hist(bins=100)"
   ]
  },
  {
   "cell_type": "code",
   "execution_count": 6,
   "metadata": {},
   "outputs": [
    {
     "name": "stdout",
     "output_type": "stream",
     "text": [
      "固定比例法处理后的均值： 2.7190663771854613\n",
      "固定比例法处理后的标准差： 2.347321703441161\n"
     ]
    },
    {
     "name": "stderr",
     "output_type": "stream",
     "text": [
      "C:\\Users\\W10\\AppData\\Local\\Temp\\ipykernel_10672\\3648744580.py:3: SettingWithCopyWarning: \n",
      "A value is trying to be set on a copy of a slice from a DataFrame\n",
      "\n",
      "See the caveats in the documentation: https://pandas.pydata.org/pandas-docs/stable/user_guide/indexing.html#returning-a-view-versus-a-copy\n",
      "  cper[cper>=cper.quantile(0.99)]=cper.quantile(0.99)\n",
      "C:\\Users\\W10\\AppData\\Local\\Temp\\ipykernel_10672\\3648744580.py:4: SettingWithCopyWarning: \n",
      "A value is trying to be set on a copy of a slice from a DataFrame\n",
      "\n",
      "See the caveats in the documentation: https://pandas.pydata.org/pandas-docs/stable/user_guide/indexing.html#returning-a-view-versus-a-copy\n",
      "  cper[cper<=cper.quantile(0.01)]=cper.quantile(0.01)\n"
     ]
    },
    {
     "data": {
      "text/plain": [
       "<Axes: >"
      ]
     },
     "execution_count": 6,
     "metadata": {},
     "output_type": "execute_result"
    },
    {
     "data": {
      "image/png": "[encoded data removed]",
      "text/plain": [
       "<Figure size 640x480 with 1 Axes>"
      ]
     },
     "metadata": {},
     "output_type": "display_data"
    }
   ],
   "source": [
    "# 1.固定比例法\n",
    "cper=new_df['涨跌幅']\n",
    "cper[cper>=cper.quantile(0.99)]=cper.quantile(0.99)\n",
    "cper[cper<=cper.quantile(0.01)]=cper.quantile(0.01)\n",
    "print('固定比例法处理后的均值：',cper.mean())\n",
    "print('固定比例法处理后的标准差：',cper.std())\n",
    "cper.hist(bins=100)"
   ]
  },
  {
   "cell_type": "code",
   "execution_count": 7,
   "metadata": {},
   "outputs": [
    {
     "name": "stderr",
     "output_type": "stream",
     "text": [
      "C:\\Users\\W10\\AppData\\Local\\Temp\\ipykernel_10672\\3639318508.py:3: SettingWithCopyWarning: \n",
      "A value is trying to be set on a copy of a slice from a DataFrame\n",
      "\n",
      "See the caveats in the documentation: https://pandas.pydata.org/pandas-docs/stable/user_guide/indexing.html#returning-a-view-versus-a-copy\n",
      "  cper[cper>=cper.mean()+3*cper.std()]=cper.mean()+3*cper.std()\n",
      "C:\\Users\\W10\\AppData\\Local\\Temp\\ipykernel_10672\\3639318508.py:4: SettingWithCopyWarning: \n",
      "A value is trying to be set on a copy of a slice from a DataFrame\n",
      "\n",
      "See the caveats in the documentation: https://pandas.pydata.org/pandas-docs/stable/user_guide/indexing.html#returning-a-view-versus-a-copy\n",
      "  cper[cper<=cper.mean()-3*cper.std()]=cper.mean()-3*cper.std()\n"
     ]
    },
    {
     "name": "stdout",
     "output_type": "stream",
     "text": [
      "均值标准差法处理后的均值为: 2.7150942550770223\n",
      "均值标准差法处理后的标准差为： 2.3351406733432\n"
     ]
    },
    {
     "data": {
      "text/plain": [
       "<Axes: >"
      ]
     },
     "execution_count": 7,
     "metadata": {},
     "output_type": "execute_result"
    },
    {
     "data": {
      "image/png": "[encoded data removed]",
      "text/plain": [
       "<Figure size 640x480 with 1 Axes>"
      ]
     },
     "metadata": {},
     "output_type": "display_data"
    }
   ],
   "source": [
    "# 2.均值标准差法\n",
    "cper=new_df['涨跌幅']\n",
    "cper[cper>=cper.mean()+3*cper.std()]=cper.mean()+3*cper.std()\n",
    "cper[cper<=cper.mean()-3*cper.std()]=cper.mean()-3*cper.std()\n",
    "print('均值标准差法处理后的均值为:',cper.mean())\n",
    "print('均值标准差法处理后的标准差为：',cper.std())\n",
    "cper.hist(bins=100)"
   ]
  },
  {
   "cell_type": "markdown",
   "metadata": {},
   "source": [
    "MAD法\n",
    "\n",
    "将样本均值用样本中位数替代，样本标准差用样本绝对中位差MAD代替"
   ]
  },
  {
   "cell_type": "code",
   "execution_count": 8,
   "metadata": {},
   "outputs": [
    {
     "name": "stdout",
     "output_type": "stream",
     "text": [
      "MAD法处理异常值后均值为： 2.54635598036683\n",
      "MAD法处理异常值后标准差为： 1.1783837081717101\n"
     ]
    },
    {
     "data": {
      "text/plain": [
       "<Axes: >"
      ]
     },
     "execution_count": 8,
     "metadata": {},
     "output_type": "execute_result"
    },
    {
     "data": {
      "image/png": "[encoded data removed]",
      "text/plain": [
       "<Figure size 640x480 with 1 Axes>"
      ]
     },
     "metadata": {},
     "output_type": "display_data"
    }
   ],
   "source": [
    "# MAD法\n",
    "cper = new_df['涨跌幅']\n",
    "cper = cper.dropna()\n",
    "median = np.median(list(cper))\n",
    "MAD = np.mean(abs(cper)-median)\n",
    "cper = cper[abs(cper-median)/MAD <= 6]  # 剔除6倍以上的数据\n",
    "print('MAD法处理异常值后均值为：', cper.mean())\n",
    "print('MAD法处理异常值后标准差为：', cper.std())\n",
    "cper.hist(bins=100)"
   ]
  },
  {
   "cell_type": "code",
   "execution_count": 9,
   "metadata": {},
   "outputs": [
    {
     "name": "stdout",
     "output_type": "stream",
     "text": [
      "Boxplot法处理异常值后均值: 2.734908997527607\n",
      "Boxplot法处理异常值后标准差 2.2416532984880218\n"
     ]
    },
    {
     "data": {
      "text/plain": [
       "<Axes: >"
      ]
     },
     "execution_count": 9,
     "metadata": {},
     "output_type": "execute_result"
    },
    {
     "data": {
      "image/png": "[encoded data removed]",
      "text/plain": [
       "<Figure size 640x480 with 1 Axes>"
      ]
     },
     "metadata": {},
     "output_type": "display_data"
    }
   ],
   "source": [
    "# 4. Boxplot法\n",
    "from statsmodels.stats.stattools import medcouple\n",
    "cper=new_df['涨跌幅']\n",
    "cper=cper.dropna()\n",
    "#定义函数,返回boxplot法所得数据\n",
    "def boxplot(data):\n",
    "    #计算出medcouple对斜线的稳健度量\n",
    "    mc=medcouple(data)\n",
    "    data.sort()\n",
    "    #计算q1，q3\n",
    "    q1=data[int(0.25*len(data))]\n",
    "    q3=data[int(0.75*len(data))]\n",
    "    iqr=q3-q1\n",
    "    #稳健量>0时，boxplot法的上下限\n",
    "    if mc>=0:\n",
    "        l=q1-1.5*np.exp(-3.5*mc)*iqr\n",
    "        u=q3+1.5*np.exp(4*mc)*iqr\n",
    "    #稳健量<0时，boxplot的上下限\n",
    "    else:\n",
    "        l=q1-1.5*np.exp(-4*mc)*iqr\n",
    "        u=q3+1.5*np.exp(3*mc)*iqr\n",
    "        \n",
    "    data=pd.Series(data)\n",
    "    data[data<l]=l\n",
    "    data[data>u]=u\n",
    "    return data\n",
    "\n",
    "print('Boxplot法处理异常值后均值:',boxplot(list(cper)).mean())\n",
    "print('Boxplot法处理异常值后标准差',boxplot(list(cper)).std())\n",
    "boxplot(list(cper)).hist(bins=100)\n"
   ]
  },
  {
   "cell_type": "code",
   "execution_count": 7,
   "metadata": {},
   "outputs": [
    {
     "name": "stdout",
     "output_type": "stream",
     "text": [
      "[Getting data:]##"
     ]
    },
    {
     "name": "stderr",
     "output_type": "stream",
     "text": [
      "c:\\Users\\W10\\AppData\\Local\\Programs\\Python\\Python312\\Lib\\site-packages\\tushare\\stock\\trading.py:135: FutureWarning: Passing literal json to 'read_json' is deprecated and will be removed in a future version. To read from a literal string, wrap it in a 'StringIO' object.\n",
      "  df = pd.DataFrame(pd.read_json(js, dtype={'code':object}),\n",
      "c:\\Users\\W10\\AppData\\Local\\Programs\\Python\\Python312\\Lib\\site-packages\\tushare\\stock\\trading.py:135: FutureWarning: Passing literal json to 'read_json' is deprecated and will be removed in a future version. To read from a literal string, wrap it in a 'StringIO' object.\n",
      "  df = pd.DataFrame(pd.read_json(js, dtype={'code':object}),\n"
     ]
    },
    {
     "ename": "AttributeError",
     "evalue": "'DataFrame' object has no attribute 'append'",
     "output_type": "error",
     "traceback": [
      "\u001b[1;31m---------------------------------------------------------------------------\u001b[0m",
      "\u001b[1;31mAttributeError\u001b[0m                            Traceback (most recent call last)",
      "Cell \u001b[1;32mIn[7], line 6\u001b[0m\n\u001b[0;32m      3\u001b[0m \u001b[38;5;28;01mimport\u001b[39;00m \u001b[38;5;21;01mnumpy\u001b[39;00m \u001b[38;5;28;01mas\u001b[39;00m \u001b[38;5;21;01mnp\u001b[39;00m\n\u001b[0;32m      5\u001b[0m data\u001b[38;5;241m=\u001b[39m[]\n\u001b[1;32m----> 6\u001b[0m data\u001b[38;5;241m=\u001b[39mpd\u001b[38;5;241m.\u001b[39mconcat(data,\u001b[43mts\u001b[49m\u001b[38;5;241;43m.\u001b[39;49m\u001b[43mget_today_all\u001b[49m\u001b[43m(\u001b[49m\u001b[43m)\u001b[49m,ignore_index\u001b[38;5;241m=\u001b[39m\u001b[38;5;28;01mTrue\u001b[39;00m)\n\u001b[0;32m      7\u001b[0m data\n",
      "File \u001b[1;32mc:\\Users\\W10\\AppData\\Local\\Programs\\Python\\Python312\\Lib\\site-packages\\tushare\\stock\\trading.py:326\u001b[0m, in \u001b[0;36mget_today_all\u001b[1;34m()\u001b[0m\n\u001b[0;32m    324\u001b[0m newdf \u001b[38;5;241m=\u001b[39m _parsing_dayprice_json(\u001b[38;5;124m'\u001b[39m\u001b[38;5;124mhs_a\u001b[39m\u001b[38;5;124m'\u001b[39m, i)\n\u001b[0;32m    325\u001b[0m \u001b[38;5;28;01mif\u001b[39;00m newdf\u001b[38;5;241m.\u001b[39mshape[\u001b[38;5;241m0\u001b[39m] \u001b[38;5;241m>\u001b[39m \u001b[38;5;241m0\u001b[39m:\n\u001b[1;32m--> 326\u001b[0m     df \u001b[38;5;241m=\u001b[39m \u001b[43mdf\u001b[49m\u001b[38;5;241;43m.\u001b[39;49m\u001b[43mappend\u001b[49m(newdf, ignore_index\u001b[38;5;241m=\u001b[39m\u001b[38;5;28;01mTrue\u001b[39;00m)\n\u001b[0;32m    327\u001b[0m \u001b[38;5;28;01melse\u001b[39;00m:\n\u001b[0;32m    328\u001b[0m     \u001b[38;5;28;01mbreak\u001b[39;00m\n",
      "File \u001b[1;32mc:\\Users\\W10\\AppData\\Local\\Programs\\Python\\Python312\\Lib\\site-packages\\pandas\\core\\generic.py:6204\u001b[0m, in \u001b[0;36mNDFrame.__getattr__\u001b[1;34m(self, name)\u001b[0m\n\u001b[0;32m   6197\u001b[0m \u001b[38;5;28;01mif\u001b[39;00m (\n\u001b[0;32m   6198\u001b[0m     name \u001b[38;5;129;01mnot\u001b[39;00m \u001b[38;5;129;01min\u001b[39;00m \u001b[38;5;28mself\u001b[39m\u001b[38;5;241m.\u001b[39m_internal_names_set\n\u001b[0;32m   6199\u001b[0m     \u001b[38;5;129;01mand\u001b[39;00m name \u001b[38;5;129;01mnot\u001b[39;00m \u001b[38;5;129;01min\u001b[39;00m \u001b[38;5;28mself\u001b[39m\u001b[38;5;241m.\u001b[39m_metadata\n\u001b[0;32m   6200\u001b[0m     \u001b[38;5;129;01mand\u001b[39;00m name \u001b[38;5;129;01mnot\u001b[39;00m \u001b[38;5;129;01min\u001b[39;00m \u001b[38;5;28mself\u001b[39m\u001b[38;5;241m.\u001b[39m_accessors\n\u001b[0;32m   6201\u001b[0m     \u001b[38;5;129;01mand\u001b[39;00m \u001b[38;5;28mself\u001b[39m\u001b[38;5;241m.\u001b[39m_info_axis\u001b[38;5;241m.\u001b[39m_can_hold_identifiers_and_holds_name(name)\n\u001b[0;32m   6202\u001b[0m ):\n\u001b[0;32m   6203\u001b[0m     \u001b[38;5;28;01mreturn\u001b[39;00m \u001b[38;5;28mself\u001b[39m[name]\n\u001b[1;32m-> 6204\u001b[0m \u001b[38;5;28;01mreturn\u001b[39;00m \u001b[38;5;28;43mobject\u001b[39;49m\u001b[38;5;241;43m.\u001b[39;49m\u001b[38;5;21;43m__getattribute__\u001b[39;49m\u001b[43m(\u001b[49m\u001b[38;5;28;43mself\u001b[39;49m\u001b[43m,\u001b[49m\u001b[43m \u001b[49m\u001b[43mname\u001b[49m\u001b[43m)\u001b[49m\n",
      "\u001b[1;31mAttributeError\u001b[0m: 'DataFrame' object has no attribute 'append'"
     ]
    }
   ],
   "source": [
    "import tushare as ts\n",
    "import pandas as pd\n",
    "import numpy as np\n",
    "\n",
    "data=[]\n",
    "data=pd.concat(data,ts.get_today_all(),ignore_index=True)\n",
    "data\n"
   ]
  },
  {
   "cell_type": "code",
   "execution_count": null,
   "metadata": {},
   "outputs": [],
   "source": [
    "a1 = 'D'  # 在''中间填写你的 Q1 选项，实现效果如 a1 = 'A'\n",
    "a2 = 'A'  # 在''中间填写你的Q2选项\n",
    "a3 = 'C'  # 在''中间填写你的 Q3 选项"
   ]
  }
 ],
 "metadata": {
  "kernelspec": {
   "display_name": "Python 3",
   "language": "python",
   "name": "python3"
  },
  "language_info": {
   "codemirror_mode": {
    "name": "ipython",
    "version": 3
   },
   "file_extension": ".py",
   "mimetype": "text/x-python",
   "name": "python",
   "nbconvert_exporter": "python",
   "pygments_lexer": "ipython3",
   "version": "3.12.0"
  }
 },
 "nbformat": 4,
 "nbformat_minor": 2
}
