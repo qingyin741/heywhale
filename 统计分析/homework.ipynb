{
 "cells": [
  {
   "cell_type": "markdown",
   "metadata": {},
   "source": [
    "# 第二关\n"
   ]
  },
  {
   "cell_type": "code",
   "execution_count": 1,
   "metadata": {},
   "outputs": [],
   "source": [
    "import pandas as pd\n",
    "import numpy as np\n",
    "from scipy import stats\n",
    "\n"
   ]
  },
  {
   "cell_type": "code",
   "execution_count": 2,
   "metadata": {},
   "outputs": [
    {
     "data": {
      "text/html": [
       "<div>\n",
       "<style scoped>\n",
       "    .dataframe tbody tr th:only-of-type {\n",
       "        vertical-align: middle;\n",
       "    }\n",
       "\n",
       "    .dataframe tbody tr th {\n",
       "        vertical-align: top;\n",
       "    }\n",
       "\n",
       "    .dataframe thead th {\n",
       "        text-align: right;\n",
       "    }\n",
       "</style>\n",
       "<table border=\"1\" class=\"dataframe\">\n",
       "  <thead>\n",
       "    <tr style=\"text-align: right;\">\n",
       "      <th></th>\n",
       "      <th>城市</th>\n",
       "      <th>年份</th>\n",
       "      <th>地区生产总值（当年价格）(亿元)</th>\n",
       "      <th>第一产业增加值(亿元)</th>\n",
       "      <th>第二产业增加值(亿元)</th>\n",
       "      <th>第三产业增加值(亿元)</th>\n",
       "      <th>地方一般公共预算支出(亿元)</th>\n",
       "      <th>地方一般公共预算收入(亿元)</th>\n",
       "      <th>年末户籍人口(万人)</th>\n",
       "      <th>城镇非私营单位在岗职工平均工资(元)</th>\n",
       "      <th>住户存款余额(亿元)</th>\n",
       "      <th>房地产开发投资额(亿元)</th>\n",
       "      <th>商品房销售面积(万平方米)</th>\n",
       "      <th>商品房平均销售价格(元/平方米)</th>\n",
       "      <th>住宅商品房销售面积(万平方米)</th>\n",
       "      <th>住宅商品房平均销售价格(元/平方米)</th>\n",
       "    </tr>\n",
       "  </thead>\n",
       "  <tbody>\n",
       "    <tr>\n",
       "      <th>0</th>\n",
       "      <td>上海</td>\n",
       "      <td>2012年</td>\n",
       "      <td>21305.60</td>\n",
       "      <td>129.30</td>\n",
       "      <td>8174.10</td>\n",
       "      <td>13002.10</td>\n",
       "      <td>4184.02</td>\n",
       "      <td>3743.71</td>\n",
       "      <td>1426.93</td>\n",
       "      <td>80191.0</td>\n",
       "      <td>19506.70</td>\n",
       "      <td>2381.36</td>\n",
       "      <td>1898.46</td>\n",
       "      <td>14061.37</td>\n",
       "      <td>1592.63</td>\n",
       "      <td>13869.88</td>\n",
       "    </tr>\n",
       "    <tr>\n",
       "      <th>1</th>\n",
       "      <td>上海</td>\n",
       "      <td>2013年</td>\n",
       "      <td>23204.10</td>\n",
       "      <td>131.60</td>\n",
       "      <td>8286.50</td>\n",
       "      <td>14786.00</td>\n",
       "      <td>4528.61</td>\n",
       "      <td>4109.51</td>\n",
       "      <td>1432.34</td>\n",
       "      <td>91477.0</td>\n",
       "      <td>20486.25</td>\n",
       "      <td>2819.59</td>\n",
       "      <td>2382.20</td>\n",
       "      <td>16420.00</td>\n",
       "      <td>2015.81</td>\n",
       "      <td>16192.00</td>\n",
       "    </tr>\n",
       "    <tr>\n",
       "      <th>2</th>\n",
       "      <td>上海</td>\n",
       "      <td>2014年</td>\n",
       "      <td>25269.80</td>\n",
       "      <td>132.00</td>\n",
       "      <td>8633.30</td>\n",
       "      <td>16504.50</td>\n",
       "      <td>4923.44</td>\n",
       "      <td>4585.55</td>\n",
       "      <td>1438.69</td>\n",
       "      <td>100623.0</td>\n",
       "      <td>21269.30</td>\n",
       "      <td>3206.48</td>\n",
       "      <td>2084.66</td>\n",
       "      <td>16787.00</td>\n",
       "      <td>1780.91</td>\n",
       "      <td>16415.00</td>\n",
       "    </tr>\n",
       "    <tr>\n",
       "      <th>3</th>\n",
       "      <td>上海</td>\n",
       "      <td>2015年</td>\n",
       "      <td>26887.00</td>\n",
       "      <td>125.50</td>\n",
       "      <td>8408.70</td>\n",
       "      <td>18352.80</td>\n",
       "      <td>6191.56</td>\n",
       "      <td>5519.50</td>\n",
       "      <td>1442.97</td>\n",
       "      <td>109279.0</td>\n",
       "      <td>23384.73</td>\n",
       "      <td>3468.94</td>\n",
       "      <td>2431.36</td>\n",
       "      <td>20949.00</td>\n",
       "      <td>2009.17</td>\n",
       "      <td>21501.00</td>\n",
       "    </tr>\n",
       "    <tr>\n",
       "      <th>4</th>\n",
       "      <td>上海</td>\n",
       "      <td>2016年</td>\n",
       "      <td>29887.00</td>\n",
       "      <td>114.30</td>\n",
       "      <td>8570.20</td>\n",
       "      <td>21202.40</td>\n",
       "      <td>6918.94</td>\n",
       "      <td>6406.13</td>\n",
       "      <td>1450.00</td>\n",
       "      <td>120503.0</td>\n",
       "      <td>23639.80</td>\n",
       "      <td>3709.03</td>\n",
       "      <td>2705.69</td>\n",
       "      <td>24747.00</td>\n",
       "      <td>2019.80</td>\n",
       "      <td>25910.00</td>\n",
       "    </tr>\n",
       "    <tr>\n",
       "      <th>...</th>\n",
       "      <td>...</td>\n",
       "      <td>...</td>\n",
       "      <td>...</td>\n",
       "      <td>...</td>\n",
       "      <td>...</td>\n",
       "      <td>...</td>\n",
       "      <td>...</td>\n",
       "      <td>...</td>\n",
       "      <td>...</td>\n",
       "      <td>...</td>\n",
       "      <td>...</td>\n",
       "      <td>...</td>\n",
       "      <td>...</td>\n",
       "      <td>...</td>\n",
       "      <td>...</td>\n",
       "      <td>...</td>\n",
       "    </tr>\n",
       "    <tr>\n",
       "      <th>355</th>\n",
       "      <td>青岛</td>\n",
       "      <td>2017年</td>\n",
       "      <td>11037.28</td>\n",
       "      <td>380.97</td>\n",
       "      <td>4546.21</td>\n",
       "      <td>6110.10</td>\n",
       "      <td>1403.03</td>\n",
       "      <td>1157.24</td>\n",
       "      <td>803.28</td>\n",
       "      <td>83539.0</td>\n",
       "      <td>5394.18</td>\n",
       "      <td>1330.54</td>\n",
       "      <td>1900.74</td>\n",
       "      <td>10518.00</td>\n",
       "      <td>1633.84</td>\n",
       "      <td>10052.00</td>\n",
       "    </tr>\n",
       "    <tr>\n",
       "      <th>356</th>\n",
       "      <td>青岛</td>\n",
       "      <td>2018年</td>\n",
       "      <td>12001.52</td>\n",
       "      <td>386.91</td>\n",
       "      <td>4850.59</td>\n",
       "      <td>6764.02</td>\n",
       "      <td>1559.78</td>\n",
       "      <td>1231.91</td>\n",
       "      <td>817.79</td>\n",
       "      <td>90840.0</td>\n",
       "      <td>5913.71</td>\n",
       "      <td>1485.21</td>\n",
       "      <td>1808.02</td>\n",
       "      <td>12624.12</td>\n",
       "      <td>1578.31</td>\n",
       "      <td>12373.44</td>\n",
       "    </tr>\n",
       "    <tr>\n",
       "      <th>357</th>\n",
       "      <td>青岛</td>\n",
       "      <td>2019年</td>\n",
       "      <td>11741.00</td>\n",
       "      <td>409.98</td>\n",
       "      <td>4182.76</td>\n",
       "      <td>7148.57</td>\n",
       "      <td>1575.97</td>\n",
       "      <td>1241.74</td>\n",
       "      <td>831.07</td>\n",
       "      <td>103125.0</td>\n",
       "      <td>6755.24</td>\n",
       "      <td>1803.81</td>\n",
       "      <td>1651.83</td>\n",
       "      <td>13603.00</td>\n",
       "      <td>1475.58</td>\n",
       "      <td>13674.00</td>\n",
       "    </tr>\n",
       "    <tr>\n",
       "      <th>358</th>\n",
       "      <td>青岛</td>\n",
       "      <td>2020年</td>\n",
       "      <td>12401.00</td>\n",
       "      <td>425.00</td>\n",
       "      <td>4362.00</td>\n",
       "      <td>7614.00</td>\n",
       "      <td>1584.65</td>\n",
       "      <td>1253.85</td>\n",
       "      <td>NaN</td>\n",
       "      <td>116115.0</td>\n",
       "      <td>8030.95</td>\n",
       "      <td>2045.12</td>\n",
       "      <td>1653.59</td>\n",
       "      <td>13406.00</td>\n",
       "      <td>1430.37</td>\n",
       "      <td>14058.00</td>\n",
       "    </tr>\n",
       "    <tr>\n",
       "      <th>359</th>\n",
       "      <td>青岛</td>\n",
       "      <td>2021年</td>\n",
       "      <td>14136.00</td>\n",
       "      <td>470.00</td>\n",
       "      <td>5070.00</td>\n",
       "      <td>8596.00</td>\n",
       "      <td>1706.76</td>\n",
       "      <td>1368.30</td>\n",
       "      <td>NaN</td>\n",
       "      <td>127228.0</td>\n",
       "      <td>9028.24</td>\n",
       "      <td>1982.34</td>\n",
       "      <td>1644.52</td>\n",
       "      <td>13787.00</td>\n",
       "      <td>1419.63</td>\n",
       "      <td>14365.00</td>\n",
       "    </tr>\n",
       "  </tbody>\n",
       "</table>\n",
       "<p>360 rows × 16 columns</p>\n",
       "</div>"
      ],
      "text/plain": [
       "     城市     年份  地区生产总值（当年价格）(亿元)  第一产业增加值(亿元)  第二产业增加值(亿元)  第三产业增加值(亿元)  \\\n",
       "0    上海  2012年          21305.60       129.30      8174.10     13002.10   \n",
       "1    上海  2013年          23204.10       131.60      8286.50     14786.00   \n",
       "2    上海  2014年          25269.80       132.00      8633.30     16504.50   \n",
       "3    上海  2015年          26887.00       125.50      8408.70     18352.80   \n",
       "4    上海  2016年          29887.00       114.30      8570.20     21202.40   \n",
       "..   ..    ...               ...          ...          ...          ...   \n",
       "355  青岛  2017年          11037.28       380.97      4546.21      6110.10   \n",
       "356  青岛  2018年          12001.52       386.91      4850.59      6764.02   \n",
       "357  青岛  2019年          11741.00       409.98      4182.76      7148.57   \n",
       "358  青岛  2020年          12401.00       425.00      4362.00      7614.00   \n",
       "359  青岛  2021年          14136.00       470.00      5070.00      8596.00   \n",
       "\n",
       "     地方一般公共预算支出(亿元)  地方一般公共预算收入(亿元)  年末户籍人口(万人)  城镇非私营单位在岗职工平均工资(元)  \\\n",
       "0           4184.02         3743.71     1426.93             80191.0   \n",
       "1           4528.61         4109.51     1432.34             91477.0   \n",
       "2           4923.44         4585.55     1438.69            100623.0   \n",
       "3           6191.56         5519.50     1442.97            109279.0   \n",
       "4           6918.94         6406.13     1450.00            120503.0   \n",
       "..              ...             ...         ...                 ...   \n",
       "355         1403.03         1157.24      803.28             83539.0   \n",
       "356         1559.78         1231.91      817.79             90840.0   \n",
       "357         1575.97         1241.74      831.07            103125.0   \n",
       "358         1584.65         1253.85         NaN            116115.0   \n",
       "359         1706.76         1368.30         NaN            127228.0   \n",
       "\n",
       "     住户存款余额(亿元)  房地产开发投资额(亿元)  商品房销售面积(万平方米)  商品房平均销售价格(元/平方米)  \\\n",
       "0      19506.70       2381.36        1898.46          14061.37   \n",
       "1      20486.25       2819.59        2382.20          16420.00   \n",
       "2      21269.30       3206.48        2084.66          16787.00   \n",
       "3      23384.73       3468.94        2431.36          20949.00   \n",
       "4      23639.80       3709.03        2705.69          24747.00   \n",
       "..          ...           ...            ...               ...   \n",
       "355     5394.18       1330.54        1900.74          10518.00   \n",
       "356     5913.71       1485.21        1808.02          12624.12   \n",
       "357     6755.24       1803.81        1651.83          13603.00   \n",
       "358     8030.95       2045.12        1653.59          13406.00   \n",
       "359     9028.24       1982.34        1644.52          13787.00   \n",
       "\n",
       "     住宅商品房销售面积(万平方米)  住宅商品房平均销售价格(元/平方米)  \n",
       "0            1592.63            13869.88  \n",
       "1            2015.81            16192.00  \n",
       "2            1780.91            16415.00  \n",
       "3            2009.17            21501.00  \n",
       "4            2019.80            25910.00  \n",
       "..               ...                 ...  \n",
       "355          1633.84            10052.00  \n",
       "356          1578.31            12373.44  \n",
       "357          1475.58            13674.00  \n",
       "358          1430.37            14058.00  \n",
       "359          1419.63            14365.00  \n",
       "\n",
       "[360 rows x 16 columns]"
      ]
     },
     "execution_count": 2,
     "metadata": {},
     "output_type": "execute_result"
    }
   ],
   "source": [
    "#读取数据\n",
    "file_path=r\"中国主要城市经济统计数据 2012-2021.csv\"\n",
    "data=pd.read_csv(file_path)\n",
    "data"
   ]
  },
  {
   "cell_type": "code",
   "execution_count": 6,
   "metadata": {},
   "outputs": [
    {
     "name": "stderr",
     "output_type": "stream",
     "text": [
      "C:\\Users\\W10\\AppData\\Local\\Temp\\ipykernel_4304\\318939056.py:5: SettingWithCopyWarning: \n",
      "A value is trying to be set on a copy of a slice from a DataFrame.\n",
      "Try using .loc[row_indexer,col_indexer] = value instead\n",
      "\n",
      "See the caveats in the documentation: https://pandas.pydata.org/pandas-docs/stable/user_guide/indexing.html#returning-a-view-versus-a-copy\n",
      "  data_beijing[\"GDP_Growth\"]=data_beijing[\"地区生产总值（当年价格）(亿元)\"].pct_change()*100\n",
      "C:\\Users\\W10\\AppData\\Local\\Temp\\ipykernel_4304\\318939056.py:6: SettingWithCopyWarning: \n",
      "A value is trying to be set on a copy of a slice from a DataFrame.\n",
      "Try using .loc[row_indexer,col_indexer] = value instead\n",
      "\n",
      "See the caveats in the documentation: https://pandas.pydata.org/pandas-docs/stable/user_guide/indexing.html#returning-a-view-versus-a-copy\n",
      "  data_shanghai[\"GDP_Growth\"]=data_shanghai[\"地区生产总值（当年价格）(亿元)\"].pct_change()*100\n"
     ]
    }
   ],
   "source": [
    "data_beijing=data.loc[data[\"城市\"]==\"北京\"]\n",
    "data_shanghai=data.loc[data[\"城市\"]==\"上海\"]\n",
    "\n",
    "#求北京上海的GDP增长率\n",
    "data_beijing[\"GDP_Growth\"]=data_beijing[\"地区生产总值（当年价格）(亿元)\"].pct_change()*100\n",
    "data_shanghai[\"GDP_Growth\"]=data_shanghai[\"地区生产总值（当年价格）(亿元)\"].pct_change()*100\n",
    "\n"
   ]
  },
  {
   "cell_type": "code",
   "execution_count": 7,
   "metadata": {},
   "outputs": [
    {
     "data": {
      "text/plain": [
       "count     9.000000\n",
       "mean      8.971067\n",
       "std       3.524468\n",
       "min       1.405327\n",
       "25%       8.082963\n",
       "50%       9.129064\n",
       "75%      10.785396\n",
       "max      14.195656\n",
       "Name: GDP_Growth, dtype: float64"
      ]
     },
     "execution_count": 7,
     "metadata": {},
     "output_type": "execute_result"
    }
   ],
   "source": [
    "data_beijing[\"GDP_Growth\"].dropna().describe()"
   ]
  },
  {
   "cell_type": "code",
   "execution_count": 8,
   "metadata": {},
   "outputs": [
    {
     "data": {
      "text/plain": [
       "count     9.000000\n",
       "mean      8.333610\n",
       "std       2.997200\n",
       "min       2.568605\n",
       "25%       6.399734\n",
       "50%       8.910803\n",
       "75%      10.164955\n",
       "max      12.036634\n",
       "Name: GDP_Growth, dtype: float64"
      ]
     },
     "execution_count": 8,
     "metadata": {},
     "output_type": "execute_result"
    }
   ],
   "source": [
    "data_shanghai[\"GDP_Growth\"].dropna().describe()"
   ]
  },
  {
   "cell_type": "code",
   "execution_count": 13,
   "metadata": {},
   "outputs": [
    {
     "name": "stdout",
     "output_type": "stream",
     "text": [
      "t值为0.41,p值为0.68\n",
      "无法拒绝原假设\n"
     ]
    }
   ],
   "source": [
    "#对两组数据进行t验证\n",
    "group1=np.array(data_beijing[\"GDP_Growth\"].dropna())\n",
    "group1=group1.astype(float)\n",
    "group2=np.array(data_shanghai[\"GDP_Growth\"].dropna())\n",
    "group2=group2.astype(float)\n",
    "\n",
    "\n",
    "t_statistic,p_value=stats.ttest_ind(group1,group2)\n",
    "print(f\"t值为{t_statistic:.2f},p值为{p_value:.2f}\")\n",
    "\n",
    "if p_value<0.05:\n",
    "    print(\"拒绝原假设\")\n",
    "else:\n",
    "    print(\"无法拒绝原假设\")"
   ]
  },
  {
   "cell_type": "code",
   "execution_count": 11,
   "metadata": {},
   "outputs": [
    {
     "data": {
      "text/plain": [
       "(0.41334584625242926, 0.6848401213151456)"
      ]
     },
     "execution_count": 11,
     "metadata": {},
     "output_type": "execute_result"
    }
   ],
   "source": [
    "# Extract GDP data for Beijing and Shanghai\n",
    "beijing_gdp = data[data['城市'] == '北京'][['年份', '地区生产总值（当年价格）(亿元)']]\n",
    "shanghai_gdp = data[data['城市'] == '上海'][['年份', '地区生产总值（当年价格）(亿元)']]\n",
    "\n",
    "# Calculate the GDP growth for each year for Beijing and Shanghai\n",
    "beijing_gdp['GDP增长'] = beijing_gdp['地区生产总值（当年价格）(亿元)'].pct_change()\n",
    "shanghai_gdp['GDP增长'] = shanghai_gdp['地区生产总值（当年价格）(亿元)'].pct_change()\n",
    "\n",
    "# Drop the first year as it will have NaN value for growth\n",
    "beijing_gdp = beijing_gdp.dropna()\n",
    "shanghai_gdp = shanghai_gdp.dropna()\n",
    "\n",
    "# Perform t-test on GDP growth between Beijing and Shanghai\n",
    "from scipy.stats import ttest_ind\n",
    "\n",
    "t_stat, p_value = ttest_ind(beijing_gdp['GDP增长'], shanghai_gdp['GDP增长'])\n",
    "\n",
    "t_stat, p_value\n"
   ]
  },
  {
   "cell_type": "code",
   "execution_count": 12,
   "metadata": {},
   "outputs": [
    {
     "data": {
      "text/plain": [
       "(2.76458387235629, 1.843996250690125e-06)"
      ]
     },
     "execution_count": 12,
     "metadata": {},
     "output_type": "execute_result"
    }
   ],
   "source": [
    "# Calculate the GDP growth for all cities\n",
    "data['GDP增长'] = data.groupby('城市')['地区生产总值（当年价格）(亿元)'].pct_change()\n",
    "gdp_growth = data.dropna(subset=['GDP增长'])\n",
    "\n",
    "# Perform ANOVA (F-test) on GDP growth for different cities\n",
    "from scipy.stats import f_oneway\n",
    "\n",
    "# Group data by city\n",
    "city_groups = [group['GDP增长'].values for name, group in gdp_growth.groupby('城市')]\n",
    "\n",
    "f_stat, p_value_f = f_oneway(*city_groups)\n",
    "\n",
    "f_stat, p_value_f\n"
   ]
  },
  {
   "cell_type": "code",
   "execution_count": 15,
   "metadata": {},
   "outputs": [
    {
     "name": "stdout",
     "output_type": "stream",
     "text": [
      "t统计量: -0.7825809861579205\n",
      "p值: 0.4440575456401983\n",
      "接受零假设，认为北京和上海的GDP增长没有显著差异。\n"
     ]
    }
   ],
   "source": [
    "beijing_data = data[data['城市'] == '北京']  \n",
    "shanghai_data = data[data['城市'] == '上海']  \n",
    "\n",
    "# 提取两城市的GDP数据  \n",
    "beijing_gdp = beijing_data['地区生产总值（当年价格）(亿元)']  \n",
    "shanghai_gdp = shanghai_data['地区生产总值（当年价格）(亿元)']  \n",
    "\n",
    "# 步骤3：进行t检验  \n",
    "# 我们将比较两城市的GDP均值是否有显著差异  \n",
    "t_statistic, p_value = ttest_ind(beijing_gdp, shanghai_gdp, equal_var=False)  \n",
    "\n",
    "# 输出t检验的结果  \n",
    "print(f\"t统计量: {t_statistic}\")  \n",
    "print(f\"p值: {p_value}\")  \n",
    "\n",
    "# 假设检验决策  \n",
    "alpha = 0.05  # 显著性水平  \n",
    "if p_value < alpha:  \n",
    "    print(\"拒绝零假设，认为北京和上海的GDP增长有显著差异。\")  \n",
    "else:  \n",
    "    print(\"接受零假设，认为北京和上海的GDP增长没有显著差异。\")  \n"
   ]
  },
  {
   "cell_type": "code",
   "execution_count": 16,
   "metadata": {},
   "outputs": [
    {
     "data": {
      "text/plain": [
       "30    19024.70\n",
       "31    21134.60\n",
       "32    22926.00\n",
       "33    24779.10\n",
       "34    27041.20\n",
       "35    29883.00\n",
       "36    33106.00\n",
       "37    35445.13\n",
       "38    35943.25\n",
       "39    41045.63\n",
       "Name: 地区生产总值（当年价格）(亿元), dtype: float64"
      ]
     },
     "execution_count": 16,
     "metadata": {},
     "output_type": "execute_result"
    }
   ],
   "source": [
    "beijing_gdp"
   ]
  },
  {
   "cell_type": "code",
   "execution_count": null,
   "metadata": {},
   "outputs": [],
   "source": []
  }
 ],
 "metadata": {
  "kernelspec": {
   "display_name": "Python 3",
   "language": "python",
   "name": "python3"
  },
  "language_info": {
   "codemirror_mode": {
    "name": "ipython",
    "version": 3
   },
   "file_extension": ".py",
   "mimetype": "text/x-python",
   "name": "python",
   "nbconvert_exporter": "python",
   "pygments_lexer": "ipython3",
   "version": "3.12.0"
  }
 },
 "nbformat": 4,
 "nbformat_minor": 2
}
