{
 "cells": [
  {
   "cell_type": "markdown",
   "metadata": {},
   "source": [
    "描述性统计分析\n",
    "中位数、平均值、标准差、方差、四分位\n",
    "数据集中趋势\n",
    "离散程度\n",
    "数据分布形态\n"
   ]
  },
  {
   "cell_type": "code",
   "execution_count": 4,
   "metadata": {},
   "outputs": [
    {
     "name": "stdout",
     "output_type": "stream",
     "text": [
      "数据的均值为: 3.6\n",
      "中位数为4.0\n"
     ]
    }
   ],
   "source": [
    "import pandas as pd\n",
    "import numpy as np\n",
    "data = np.array([1, 2, 6, 4, 5])\n",
    "mean=data.mean()\n",
    "print(\"数据的均值为:\",mean)\n",
    "\n",
    "#计算中位数\n",
    "median=np.median(data)\n",
    "print(f\"中位数为{median}\")"
   ]
  },
  {
   "cell_type": "code",
   "execution_count": 8,
   "metadata": {},
   "outputs": [
    {
     "name": "stdout",
     "output_type": "stream",
     "text": [
      "平均值为37123.81666666667\n",
      "平均GDP为37123.82亿元\n",
      "中位数为26158.50亿元\n",
      "中位数值为35104.50亿元\n"
     ]
    }
   ],
   "source": [
    "# 假设2019年中国部分省市的GDP数据存储在一个列表中\n",
    "gdp_data = [\n",
    "35371.3, # 北京\n",
    "14104.28, # 天津\n",
    "35104.5, # 河北\n",
    "17026.68, # 山西\n",
    "17212.5, # 内蒙古\n",
    "13612.7, # 黑龙江\n",
    "54259.20, # 河南\n",
    "39752.12, # 湖南\n",
    "107671.07, # 广东\n",
    "# ... 其他省市的数据 ...\n",
    "]\n",
    "\n",
    "#计算其中位数\n",
    "gdp_median=np.median(gdp_data)\n",
    "gdp_median\n",
    "\n",
    "#计算均值\n",
    "mean_gdp=np.mean(gdp_data)\n",
    "mean_gdp2=sum(gdp_data)/len(gdp_data)\n",
    "print(f\"平均值为{mean_gdp}\")\n",
    "print(f\"平均GDP为{mean_gdp2:.2f}亿元\")\n",
    "\n",
    "\n",
    "sorted_gdp=sorted(gdp_data)\n",
    "mid_index=len(sorted_gdp)//2\n",
    "median_gdp=sorted_gdp[mid_index] if len(sorted_gdp)%2==0 else (sorted_gdp[mid_index-1]+sorted_gdp[mid_index])/2\n",
    "print(f\"中位数为{median_gdp:.2f}亿元\")\n",
    "print(f\"中位数值为{gdp_median:.2f}亿元\")"
   ]
  },
  {
   "cell_type": "markdown",
   "metadata": {},
   "source": [
    "数据的离散程度分析\n"
   ]
  },
  {
   "cell_type": "code",
   "execution_count": 10,
   "metadata": {},
   "outputs": [
    {
     "name": "stdout",
     "output_type": "stream",
     "text": [
      "标准值为1.4142135623730951\n",
      "方差为2.0\n"
     ]
    }
   ],
   "source": [
    "import numpy as np\n",
    "data = np.array([1, 2, 3, 4, 5])\n",
    "#计算标准值\n",
    "std_dev=np.std(data)\n",
    "print(f\"标准值为{std_dev}\")\n",
    "\n",
    "#方差\n",
    "variance=np.var(data)\n",
    "print(f\"方差为{variance}\")"
   ]
  },
  {
   "cell_type": "code",
   "execution_count": 11,
   "metadata": {},
   "outputs": [
    {
     "name": "stdout",
     "output_type": "stream",
     "text": [
      "均值为6.011111111111111\n",
      "中位数为6.15\n",
      "标准差为1.0332735944500149\n",
      "The variance is 1.067654320987654\n"
     ]
    }
   ],
   "source": [
    "import numpy as np\n",
    "\n",
    "# 假设我们有一组年度GDP增长率数据\n",
    "data = [6.1, 4.8, 6.8, 6.2, 5.2, 4.2, 7.0, 7.6, 6.2]\n",
    "\n",
    "\n",
    "#计算均值\n",
    "mean_data=np.mean(data)\n",
    "print(f\"均值为{mean_data}\")\n",
    "#计算中位数\n",
    "sort_data=sorted(data)\n",
    "#计算其索引\n",
    "mid_index=len(sort_data)//2\n",
    "median_data=sort_data[mid_index] if len(sort_data) %2==0 else (sort_data[mid_index-1]+sort_data[mid_index])/2\n",
    "print(f\"中位数为{median_data}\")\n",
    "\n",
    "#计算标准差\n",
    "std_data=np.std(data)\n",
    "print(f\"标准差为{std_data}\")\n",
    "#计算方差\n",
    "variance=np.var(data)\n",
    "print(f\"The variance is {variance}\")\n"
   ]
  },
  {
   "cell_type": "code",
   "execution_count": 13,
   "metadata": {},
   "outputs": [],
   "source": [
    "#计算四分位差来度量数据\n",
    "def calculate_iqr(data):\n",
    "    Q1=np.percentile(data,25)\n",
    "    Q2=np.percentile(data,75)\n",
    "    IQR=Q2-Q1\n",
    "    return IQR"
   ]
  },
  {
   "cell_type": "code",
   "execution_count": 14,
   "metadata": {},
   "outputs": [
    {
     "name": "stdout",
     "output_type": "stream",
     "text": [
      "四分位差为1.5999999999999996\n"
     ]
    }
   ],
   "source": [
    "calculate=calculate_iqr(data)\n",
    "print(f\"四分位差为{calculate}\")"
   ]
  },
  {
   "cell_type": "markdown",
   "metadata": {},
   "source": [
    "数据的分布形态分析\n"
   ]
  },
  {
   "cell_type": "code",
   "execution_count": 18,
   "metadata": {},
   "outputs": [
    {
     "data": {
      "image/png": "[encoded data removed]",
      "text/plain": [
       "<Figure size 640x480 with 1 Axes>"
      ]
     },
     "metadata": {},
     "output_type": "display_data"
    }
   ],
   "source": [
    "import numpy as np \n",
    "import matplotlib.pyplot as plt\n",
    "# 假设的GDP数据集，包含多个小区域的GDP值（单位：亿元）  \n",
    "gdp_values = np.array([  \n",
    "    12000, 13000, 14000, 15000, 14500, 16000, 17000, 18500, 19000, 20000,  \n",
    "    21000, 22000, 23500, 24000, 25000, 26000, 27000, 28000, 29000, 30000,  \n",
    "    # ... 更多数据点  \n",
    "])  \n",
    "#解决中文问题\n",
    "plt.rcParams[\"font.sans-serif\"]=\"SimHei\"\n",
    "plt.rcParams[\"axes.unicode_minus\"]=False\n",
    "#创建直方图\n",
    "plt.hist(gdp_values,bins=10,edgecolor='black',color='lightblue',alpha=0.7,label=\"GDP分布\")\n",
    "plt.title('小区GDP分布直方图')\n",
    "plt.xlabel('GDP值（亿元）')\n",
    "plt.ylabel('频数')\n",
    "plt.legend()\n",
    "#显示网格\n",
    "plt.grid(axis='y',alpha=0.75)\n",
    "plt.show()\n",
    "\n"
   ]
  },
  {
   "cell_type": "markdown",
   "metadata": {},
   "source": [
    "离散程度可以说明事物发展过程中的均衡性、节奏性、稳定性\n",
    "\n",
    "上偏方差----高于均值数据的方差\n",
    "\n"
   ]
  },
  {
   "cell_type": "markdown",
   "metadata": {},
   "source": [
    "# 异常值处理\n",
    "1. 固定比例法：设置固定比例来判断是否异常\n",
    "2. 均值标准差法：3倍标准差之外的值视为异常值\n",
    "3. MAD法：对均值标准差法的改进，将样本均值用样本中位数代替"
   ]
  },
  {
   "cell_type": "markdown",
   "metadata": {},
   "source": [
    "读取数据\n"
   ]
  },
  {
   "cell_type": "code",
   "execution_count": 2,
   "metadata": {},
   "outputs": [
    {
     "name": "stdout",
     "output_type": "stream",
     "text": [
      "本接口即将停止更新，请尽快使用Pro版接口：https://tushare.pro/document/2\n"
     ]
    },
    {
     "ename": "AttributeError",
     "evalue": "'DataFrame' object has no attribute 'append'",
     "output_type": "error",
     "traceback": [
      "\u001b[1;31m---------------------------------------------------------------------------\u001b[0m",
      "\u001b[1;31mAttributeError\u001b[0m                            Traceback (most recent call last)",
      "Cell \u001b[1;32mIn[2], line 7\u001b[0m\n\u001b[0;32m      4\u001b[0m \u001b[38;5;28;01mimport\u001b[39;00m \u001b[38;5;21;01mmatplotlib\u001b[39;00m\u001b[38;5;21;01m.\u001b[39;00m\u001b[38;5;21;01mpyplot\u001b[39;00m \u001b[38;5;28;01mas\u001b[39;00m \u001b[38;5;21;01mplt\u001b[39;00m\n\u001b[0;32m      5\u001b[0m \u001b[38;5;28;01mimport\u001b[39;00m  \u001b[38;5;21;01mtushare\u001b[39;00m \u001b[38;5;28;01mas\u001b[39;00m \u001b[38;5;21;01mts\u001b[39;00m\n\u001b[1;32m----> 7\u001b[0m IndexData\u001b[38;5;241m=\u001b[39m\u001b[43mts\u001b[49m\u001b[38;5;241;43m.\u001b[39;49m\u001b[43mget_k_data\u001b[49m\u001b[43m(\u001b[49m\u001b[43mcode\u001b[49m\u001b[38;5;241;43m=\u001b[39;49m\u001b[38;5;124;43m'\u001b[39;49m\u001b[38;5;124;43mhs300\u001b[39;49m\u001b[38;5;124;43m'\u001b[39;49m\u001b[43m,\u001b[49m\u001b[43mstart\u001b[49m\u001b[38;5;241;43m=\u001b[39;49m\u001b[38;5;124;43m'\u001b[39;49m\u001b[38;5;124;43m20190101\u001b[39;49m\u001b[38;5;124;43m'\u001b[39;49m\u001b[43m,\u001b[49m\u001b[43mend\u001b[49m\u001b[38;5;241;43m=\u001b[39;49m\u001b[38;5;124;43m'\u001b[39;49m\u001b[38;5;124;43m20230601\u001b[39;49m\u001b[38;5;124;43m'\u001b[39;49m\u001b[43m)\u001b[49m\n",
      "File \u001b[1;32mc:\\Users\\W10\\AppData\\Local\\Programs\\Python\\Python312\\Lib\\site-packages\\tushare\\stock\\trading.py:706\u001b[0m, in \u001b[0;36mget_k_data\u001b[1;34m(code, start, end, ktype, autype, index, retry_count, pause)\u001b[0m\n\u001b[0;32m    704\u001b[0m data \u001b[38;5;241m=\u001b[39m pd\u001b[38;5;241m.\u001b[39mDataFrame()\n\u001b[0;32m    705\u001b[0m \u001b[38;5;28;01mfor\u001b[39;00m url \u001b[38;5;129;01min\u001b[39;00m urls:\n\u001b[1;32m--> 706\u001b[0m     data \u001b[38;5;241m=\u001b[39m \u001b[43mdata\u001b[49m\u001b[38;5;241;43m.\u001b[39;49m\u001b[43mappend\u001b[49m(_get_k_data(url, dataflag, \n\u001b[0;32m    707\u001b[0m                                    symbol, code,\n\u001b[0;32m    708\u001b[0m                                    index, ktype,\n\u001b[0;32m    709\u001b[0m                                    retry_count, pause), \n\u001b[0;32m    710\u001b[0m                        ignore_index\u001b[38;5;241m=\u001b[39m\u001b[38;5;28;01mTrue\u001b[39;00m)\n\u001b[0;32m    711\u001b[0m \u001b[38;5;28;01mif\u001b[39;00m ktype \u001b[38;5;129;01mnot\u001b[39;00m \u001b[38;5;129;01min\u001b[39;00m ct\u001b[38;5;241m.\u001b[39mK_MIN_LABELS:\n\u001b[0;32m    712\u001b[0m     \u001b[38;5;28;01mif\u001b[39;00m ((start \u001b[38;5;129;01mis\u001b[39;00m \u001b[38;5;129;01mnot\u001b[39;00m \u001b[38;5;28;01mNone\u001b[39;00m) \u001b[38;5;241m&\u001b[39m (start \u001b[38;5;241m!=\u001b[39m \u001b[38;5;124m'\u001b[39m\u001b[38;5;124m'\u001b[39m)) \u001b[38;5;241m&\u001b[39m ((end \u001b[38;5;129;01mis\u001b[39;00m \u001b[38;5;129;01mnot\u001b[39;00m \u001b[38;5;28;01mNone\u001b[39;00m) \u001b[38;5;241m&\u001b[39m (end \u001b[38;5;241m!=\u001b[39m \u001b[38;5;124m'\u001b[39m\u001b[38;5;124m'\u001b[39m)):\n",
      "File \u001b[1;32mc:\\Users\\W10\\AppData\\Local\\Programs\\Python\\Python312\\Lib\\site-packages\\pandas\\core\\generic.py:6204\u001b[0m, in \u001b[0;36mNDFrame.__getattr__\u001b[1;34m(self, name)\u001b[0m\n\u001b[0;32m   6197\u001b[0m \u001b[38;5;28;01mif\u001b[39;00m (\n\u001b[0;32m   6198\u001b[0m     name \u001b[38;5;129;01mnot\u001b[39;00m \u001b[38;5;129;01min\u001b[39;00m \u001b[38;5;28mself\u001b[39m\u001b[38;5;241m.\u001b[39m_internal_names_set\n\u001b[0;32m   6199\u001b[0m     \u001b[38;5;129;01mand\u001b[39;00m name \u001b[38;5;129;01mnot\u001b[39;00m \u001b[38;5;129;01min\u001b[39;00m \u001b[38;5;28mself\u001b[39m\u001b[38;5;241m.\u001b[39m_metadata\n\u001b[0;32m   6200\u001b[0m     \u001b[38;5;129;01mand\u001b[39;00m name \u001b[38;5;129;01mnot\u001b[39;00m \u001b[38;5;129;01min\u001b[39;00m \u001b[38;5;28mself\u001b[39m\u001b[38;5;241m.\u001b[39m_accessors\n\u001b[0;32m   6201\u001b[0m     \u001b[38;5;129;01mand\u001b[39;00m \u001b[38;5;28mself\u001b[39m\u001b[38;5;241m.\u001b[39m_info_axis\u001b[38;5;241m.\u001b[39m_can_hold_identifiers_and_holds_name(name)\n\u001b[0;32m   6202\u001b[0m ):\n\u001b[0;32m   6203\u001b[0m     \u001b[38;5;28;01mreturn\u001b[39;00m \u001b[38;5;28mself\u001b[39m[name]\n\u001b[1;32m-> 6204\u001b[0m \u001b[38;5;28;01mreturn\u001b[39;00m \u001b[38;5;28;43mobject\u001b[39;49m\u001b[38;5;241;43m.\u001b[39;49m\u001b[38;5;21;43m__getattribute__\u001b[39;49m\u001b[43m(\u001b[49m\u001b[38;5;28;43mself\u001b[39;49m\u001b[43m,\u001b[49m\u001b[43m \u001b[49m\u001b[43mname\u001b[49m\u001b[43m)\u001b[49m\n",
      "\u001b[1;31mAttributeError\u001b[0m: 'DataFrame' object has no attribute 'append'"
     ]
    }
   ],
   "source": [
    "from scipy import stats\n",
    "import numpy as np\n",
    "import pandas as pd\n",
    "import matplotlib.pyplot as plt\n",
    "import  tushare as ts\n",
    "\n",
    "IndexData=ts.get_k_data(code='hs300',start='20190101',end='20230601')\n"
   ]
  },
  {
   "cell_type": "code",
   "execution_count": 4,
   "metadata": {},
   "outputs": [
    {
     "ename": "NameError",
     "evalue": "name 'IndexData' is not defined",
     "output_type": "error",
     "traceback": [
      "\u001b[1;31m---------------------------------------------------------------------------\u001b[0m",
      "\u001b[1;31mNameError\u001b[0m                                 Traceback (most recent call last)",
      "Cell \u001b[1;32mIn[4], line 2\u001b[0m\n\u001b[0;32m      1\u001b[0m \u001b[38;5;66;03m#将日期作为索引\u001b[39;00m\n\u001b[1;32m----> 2\u001b[0m IndexData\u001b[38;5;241m.\u001b[39mindex\u001b[38;5;241m=\u001b[39mpd\u001b[38;5;241m.\u001b[39mto_datetime(\u001b[43mIndexData\u001b[49m\u001b[38;5;241m.\u001b[39mdate)\n\u001b[0;32m      3\u001b[0m \u001b[38;5;66;03m#获取收盘价的数据\u001b[39;00m\n\u001b[0;32m      4\u001b[0m close\u001b[38;5;241m=\u001b[39mIndexData\u001b[38;5;241m.\u001b[39mclose\n",
      "\u001b[1;31mNameError\u001b[0m: name 'IndexData' is not defined"
     ]
    }
   ],
   "source": [
    "#将日期作为索引\n",
    "IndexData.index=pd.to_datetime(IndexData.date)\n",
    "#获取收盘价的数据\n",
    "close=IndexData.close\n",
    "#计算涨跌幅度\n",
    "returns=(close- close.shift(1))/close.shift(1)\n",
    "#去除没有值的数据\n",
    "returns=returns.dropna()"
   ]
  },
  {
   "cell_type": "code",
   "execution_count": 5,
   "metadata": {},
   "outputs": [
    {
     "name": "stdout",
     "output_type": "stream",
     "text": [
      "Collecting akshare\n",
      "  Downloading akshare-1.14.16-py3-none-any.whl.metadata (14 kB)\n",
      "Requirement already satisfied: beautifulsoup4>=4.9.1 in c:\\users\\w10\\appdata\\local\\programs\\python\\python312\\lib\\site-packages (from akshare) (4.12.2)\n",
      "Requirement already satisfied: lxml>=4.2.1 in c:\\users\\w10\\appdata\\local\\programs\\python\\python312\\lib\\site-packages (from akshare) (5.2.1)\n",
      "Requirement already satisfied: pandas>=0.25 in c:\\users\\w10\\appdata\\local\\programs\\python\\python312\\lib\\site-packages (from akshare) (2.1.3)\n",
      "Requirement already satisfied: requests>=2.22.0 in c:\\users\\w10\\appdata\\local\\programs\\python\\python312\\lib\\site-packages (from akshare) (2.31.0)\n",
      "Collecting html5lib>=1.0.1 (from akshare)\n",
      "  Downloading html5lib-1.1-py2.py3-none-any.whl.metadata (16 kB)\n",
      "Requirement already satisfied: xlrd>=1.2.0 in c:\\users\\w10\\appdata\\local\\programs\\python\\python312\\lib\\site-packages (from akshare) (2.0.1)\n",
      "Requirement already satisfied: urllib3>=1.25.8 in c:\\users\\w10\\appdata\\local\\programs\\python\\python312\\lib\\site-packages (from akshare) (2.0.7)\n",
      "Requirement already satisfied: tqdm>=4.43.0 in c:\\users\\w10\\appdata\\local\\programs\\python\\python312\\lib\\site-packages (from akshare) (4.66.1)\n",
      "Requirement already satisfied: openpyxl>=3.0.3 in c:\\users\\w10\\appdata\\local\\programs\\python\\python312\\lib\\site-packages (from akshare) (3.1.2)\n",
      "Collecting jsonpath>=0.82 (from akshare)\n",
      "  Downloading jsonpath-0.82.2.tar.gz (10 kB)\n",
      "  Installing build dependencies: started\n",
      "  Installing build dependencies: finished with status 'done'\n",
      "  Getting requirements to build wheel: started\n",
      "  Getting requirements to build wheel: finished with status 'done'\n",
      "  Preparing metadata (pyproject.toml): started\n",
      "  Preparing metadata (pyproject.toml): finished with status 'done'\n",
      "Collecting tabulate>=0.8.6 (from akshare)\n",
      "  Downloading tabulate-0.9.0-py3-none-any.whl.metadata (34 kB)\n",
      "Requirement already satisfied: decorator>=4.4.2 in c:\\users\\w10\\appdata\\local\\programs\\python\\python312\\lib\\site-packages (from akshare) (5.1.1)\n",
      "Collecting py-mini-racer>=0.6.0 (from akshare)\n",
      "  Downloading py_mini_racer-0.6.0-py2.py3-none-win_amd64.whl.metadata (8.7 kB)\n",
      "Collecting akracer>=0.0.11 (from akshare)\n",
      "  Downloading akracer-0.0.13-py3-none-any.whl.metadata (2.8 kB)\n",
      "Requirement already satisfied: soupsieve>1.2 in c:\\users\\w10\\appdata\\local\\programs\\python\\python312\\lib\\site-packages (from beautifulsoup4>=4.9.1->akshare) (2.5)\n",
      "Requirement already satisfied: six>=1.9 in c:\\users\\w10\\appdata\\local\\programs\\python\\python312\\lib\\site-packages (from html5lib>=1.0.1->akshare) (1.16.0)\n",
      "Requirement already satisfied: webencodings in c:\\users\\w10\\appdata\\local\\programs\\python\\python312\\lib\\site-packages (from html5lib>=1.0.1->akshare) (0.5.1)\n",
      "Requirement already satisfied: et-xmlfile in c:\\users\\w10\\appdata\\local\\programs\\python\\python312\\lib\\site-packages (from openpyxl>=3.0.3->akshare) (1.1.0)\n",
      "Requirement already satisfied: numpy<2,>=1.26.0 in c:\\users\\w10\\appdata\\local\\programs\\python\\python312\\lib\\site-packages (from pandas>=0.25->akshare) (1.26.4)\n",
      "Requirement already satisfied: python-dateutil>=2.8.2 in c:\\users\\w10\\appdata\\local\\programs\\python\\python312\\lib\\site-packages (from pandas>=0.25->akshare) (2.8.2)\n",
      "Requirement already satisfied: pytz>=2020.1 in c:\\users\\w10\\appdata\\local\\programs\\python\\python312\\lib\\site-packages (from pandas>=0.25->akshare) (2023.3.post1)\n",
      "Requirement already satisfied: tzdata>=2022.1 in c:\\users\\w10\\appdata\\local\\programs\\python\\python312\\lib\\site-packages (from pandas>=0.25->akshare) (2023.3)\n",
      "Requirement already satisfied: charset-normalizer<4,>=2 in c:\\users\\w10\\appdata\\local\\programs\\python\\python312\\lib\\site-packages (from requests>=2.22.0->akshare) (3.3.1)\n",
      "Requirement already satisfied: idna<4,>=2.5 in c:\\users\\w10\\appdata\\local\\programs\\python\\python312\\lib\\site-packages (from requests>=2.22.0->akshare) (3.4)\n",
      "Requirement already satisfied: certifi>=2017.4.17 in c:\\users\\w10\\appdata\\local\\programs\\python\\python312\\lib\\site-packages (from requests>=2.22.0->akshare) (2023.7.22)\n",
      "Requirement already satisfied: colorama in c:\\users\\w10\\appdata\\local\\programs\\python\\python312\\lib\\site-packages (from tqdm>=4.43.0->akshare) (0.4.6)\n",
      "Downloading akshare-1.14.16-py3-none-any.whl (1.0 MB)\n",
      "   ---------------------------------------- 0.0/1.0 MB ? eta -:--:--\n",
      "   ---------------------------------------- 1.0/1.0 MB 32.8 MB/s eta 0:00:00\n",
      "Downloading akracer-0.0.13-py3-none-any.whl (10.1 MB)\n",
      "   ---------------------------------------- 0.0/10.1 MB ? eta -:--:--\n",
      "   ------ --------------------------------- 1.5/10.1 MB 95.4 MB/s eta 0:00:01\n",
      "   ------ --------------------------------- 1.6/10.1 MB 14.6 MB/s eta 0:00:01\n",
      "   -------------------- ------------------- 5.2/10.1 MB 30.0 MB/s eta 0:00:01\n",
      "   ----------------------------- ---------- 7.3/10.1 MB 33.4 MB/s eta 0:00:01\n",
      "   ---------------------------------------- 10.1/10.1 MB 37.8 MB/s eta 0:00:00\n",
      "Downloading html5lib-1.1-py2.py3-none-any.whl (112 kB)\n",
      "   ---------------------------------------- 0.0/112.2 kB ? eta -:--:--\n",
      "   ---------------------------------------- 112.2/112.2 kB 6.4 MB/s eta 0:00:00\n",
      "Downloading py_mini_racer-0.6.0-py2.py3-none-win_amd64.whl (4.8 MB)\n",
      "   ---------------------------------------- 0.0/4.8 MB ? eta -:--:--\n",
      "   -------------- ------------------------- 1.7/4.8 MB 35.9 MB/s eta 0:00:01\n",
      "   --------------------------- ------------ 3.3/4.8 MB 26.1 MB/s eta 0:00:01\n",
      "   ---------------------------------------  4.8/4.8 MB 33.9 MB/s eta 0:00:01\n",
      "   ---------------------------------------  4.8/4.8 MB 33.9 MB/s eta 0:00:01\n",
      "   ---------------------------------------  4.8/4.8 MB 33.9 MB/s eta 0:00:01\n",
      "   ---------------------------------------- 4.8/4.8 MB 16.1 MB/s eta 0:00:00\n",
      "Downloading tabulate-0.9.0-py3-none-any.whl (35 kB)\n",
      "Building wheels for collected packages: jsonpath\n",
      "  Building wheel for jsonpath (pyproject.toml): started\n",
      "  Building wheel for jsonpath (pyproject.toml): finished with status 'done'\n",
      "  Created wheel for jsonpath: filename=jsonpath-0.82.2-py3-none-any.whl size=5626 sha256=c238b83d62bc8de84611fa87551beb5fddeea6a1bcf99fe907461f2f39727ba0\n",
      "  Stored in directory: c:\\users\\w10\\appdata\\local\\pip\\cache\\wheels\\73\\76\\e2\\980a29341fe37a583ada29594ed529708d5e8e2c0f9d97c3cc\n",
      "Successfully built jsonpath\n",
      "Installing collected packages: py-mini-racer, jsonpath, tabulate, html5lib, akracer, akshare\n",
      "Successfully installed akracer-0.0.13 akshare-1.14.16 html5lib-1.1 jsonpath-0.82.2 py-mini-racer-0.6.0 tabulate-0.9.0\n",
      "Note: you may need to restart the kernel to use updated packages.\n"
     ]
    },
    {
     "name": "stderr",
     "output_type": "stream",
     "text": [
      "\n",
      "[notice] A new release of pip is available: 24.0 -> 24.1\n",
      "[notice] To update, run: python.exe -m pip install --upgrade pip\n"
     ]
    }
   ],
   "source": [
    "pip install akshare"
   ]
  },
  {
   "cell_type": "code",
   "execution_count": 6,
   "metadata": {},
   "outputs": [
    {
     "name": "stderr",
     "output_type": "stream",
     "text": [
      "                                                                         \r"
     ]
    },
    {
     "data": {
      "text/html": [
       "<div>\n",
       "<style scoped>\n",
       "    .dataframe tbody tr th:only-of-type {\n",
       "        vertical-align: middle;\n",
       "    }\n",
       "\n",
       "    .dataframe tbody tr th {\n",
       "        vertical-align: top;\n",
       "    }\n",
       "\n",
       "    .dataframe thead th {\n",
       "        text-align: right;\n",
       "    }\n",
       "</style>\n",
       "<table border=\"1\" class=\"dataframe\">\n",
       "  <thead>\n",
       "    <tr style=\"text-align: right;\">\n",
       "      <th></th>\n",
       "      <th>代码</th>\n",
       "      <th>名称</th>\n",
       "      <th>最新价</th>\n",
       "      <th>涨跌额</th>\n",
       "      <th>涨跌幅</th>\n",
       "      <th>买入</th>\n",
       "      <th>卖出</th>\n",
       "      <th>昨收</th>\n",
       "      <th>今开</th>\n",
       "      <th>最高</th>\n",
       "      <th>最低</th>\n",
       "      <th>成交量</th>\n",
       "      <th>成交额</th>\n",
       "      <th>时间戳</th>\n",
       "    </tr>\n",
       "  </thead>\n",
       "  <tbody>\n",
       "    <tr>\n",
       "      <th>0</th>\n",
       "      <td>bj430017</td>\n",
       "      <td>XD星昊医</td>\n",
       "      <td>10.57</td>\n",
       "      <td>0.04</td>\n",
       "      <td>0.380</td>\n",
       "      <td>10.57</td>\n",
       "      <td>10.58</td>\n",
       "      <td>10.53</td>\n",
       "      <td>10.63</td>\n",
       "      <td>10.65</td>\n",
       "      <td>10.52</td>\n",
       "      <td>161698.0</td>\n",
       "      <td>1711159.0</td>\n",
       "      <td>11:34:59</td>\n",
       "    </tr>\n",
       "    <tr>\n",
       "      <th>1</th>\n",
       "      <td>bj430047</td>\n",
       "      <td>诺思兰德</td>\n",
       "      <td>13.58</td>\n",
       "      <td>-0.05</td>\n",
       "      <td>-0.367</td>\n",
       "      <td>13.55</td>\n",
       "      <td>13.58</td>\n",
       "      <td>13.63</td>\n",
       "      <td>13.64</td>\n",
       "      <td>13.83</td>\n",
       "      <td>13.44</td>\n",
       "      <td>343958.0</td>\n",
       "      <td>4687727.0</td>\n",
       "      <td>11:34:59</td>\n",
       "    </tr>\n",
       "    <tr>\n",
       "      <th>2</th>\n",
       "      <td>bj430090</td>\n",
       "      <td>同辉信息</td>\n",
       "      <td>2.69</td>\n",
       "      <td>-0.04</td>\n",
       "      <td>-1.465</td>\n",
       "      <td>2.69</td>\n",
       "      <td>2.71</td>\n",
       "      <td>2.73</td>\n",
       "      <td>2.74</td>\n",
       "      <td>2.75</td>\n",
       "      <td>2.66</td>\n",
       "      <td>1787736.0</td>\n",
       "      <td>4840952.0</td>\n",
       "      <td>11:34:59</td>\n",
       "    </tr>\n",
       "    <tr>\n",
       "      <th>3</th>\n",
       "      <td>bj430139</td>\n",
       "      <td>华岭股份</td>\n",
       "      <td>9.47</td>\n",
       "      <td>0.03</td>\n",
       "      <td>0.318</td>\n",
       "      <td>9.43</td>\n",
       "      <td>9.48</td>\n",
       "      <td>9.44</td>\n",
       "      <td>9.44</td>\n",
       "      <td>9.68</td>\n",
       "      <td>9.33</td>\n",
       "      <td>592814.0</td>\n",
       "      <td>5634573.0</td>\n",
       "      <td>11:34:59</td>\n",
       "    </tr>\n",
       "    <tr>\n",
       "      <th>4</th>\n",
       "      <td>bj430198</td>\n",
       "      <td>微创光电</td>\n",
       "      <td>4.92</td>\n",
       "      <td>0.02</td>\n",
       "      <td>0.408</td>\n",
       "      <td>4.91</td>\n",
       "      <td>4.92</td>\n",
       "      <td>4.90</td>\n",
       "      <td>4.88</td>\n",
       "      <td>4.96</td>\n",
       "      <td>4.85</td>\n",
       "      <td>684213.0</td>\n",
       "      <td>3358758.0</td>\n",
       "      <td>11:34:59</td>\n",
       "    </tr>\n",
       "    <tr>\n",
       "      <th>...</th>\n",
       "      <td>...</td>\n",
       "      <td>...</td>\n",
       "      <td>...</td>\n",
       "      <td>...</td>\n",
       "      <td>...</td>\n",
       "      <td>...</td>\n",
       "      <td>...</td>\n",
       "      <td>...</td>\n",
       "      <td>...</td>\n",
       "      <td>...</td>\n",
       "      <td>...</td>\n",
       "      <td>...</td>\n",
       "      <td>...</td>\n",
       "      <td>...</td>\n",
       "    </tr>\n",
       "    <tr>\n",
       "      <th>5360</th>\n",
       "      <td>sz301587</td>\n",
       "      <td>中瑞股份</td>\n",
       "      <td>30.64</td>\n",
       "      <td>0.95</td>\n",
       "      <td>3.200</td>\n",
       "      <td>30.63</td>\n",
       "      <td>30.64</td>\n",
       "      <td>29.69</td>\n",
       "      <td>29.40</td>\n",
       "      <td>30.78</td>\n",
       "      <td>29.35</td>\n",
       "      <td>2846400.0</td>\n",
       "      <td>85729670.0</td>\n",
       "      <td>11:30:00</td>\n",
       "    </tr>\n",
       "    <tr>\n",
       "      <th>5361</th>\n",
       "      <td>sz301588</td>\n",
       "      <td>美新科技</td>\n",
       "      <td>23.17</td>\n",
       "      <td>0.29</td>\n",
       "      <td>1.267</td>\n",
       "      <td>23.16</td>\n",
       "      <td>23.17</td>\n",
       "      <td>22.88</td>\n",
       "      <td>22.62</td>\n",
       "      <td>23.18</td>\n",
       "      <td>22.46</td>\n",
       "      <td>741288.0</td>\n",
       "      <td>16936575.0</td>\n",
       "      <td>11:30:00</td>\n",
       "    </tr>\n",
       "    <tr>\n",
       "      <th>5362</th>\n",
       "      <td>sz301589</td>\n",
       "      <td>诺瓦星云</td>\n",
       "      <td>192.23</td>\n",
       "      <td>1.03</td>\n",
       "      <td>0.539</td>\n",
       "      <td>192.25</td>\n",
       "      <td>192.32</td>\n",
       "      <td>191.20</td>\n",
       "      <td>189.72</td>\n",
       "      <td>195.65</td>\n",
       "      <td>189.17</td>\n",
       "      <td>271318.0</td>\n",
       "      <td>52301214.0</td>\n",
       "      <td>11:30:00</td>\n",
       "    </tr>\n",
       "    <tr>\n",
       "      <th>5363</th>\n",
       "      <td>sz301591</td>\n",
       "      <td>肯特股份</td>\n",
       "      <td>41.13</td>\n",
       "      <td>0.76</td>\n",
       "      <td>1.883</td>\n",
       "      <td>41.13</td>\n",
       "      <td>41.14</td>\n",
       "      <td>40.37</td>\n",
       "      <td>39.99</td>\n",
       "      <td>41.48</td>\n",
       "      <td>38.58</td>\n",
       "      <td>1859000.0</td>\n",
       "      <td>74386929.0</td>\n",
       "      <td>11:30:00</td>\n",
       "    </tr>\n",
       "    <tr>\n",
       "      <th>5364</th>\n",
       "      <td>sz301596</td>\n",
       "      <td>瑞迪智驱</td>\n",
       "      <td>82.57</td>\n",
       "      <td>-1.52</td>\n",
       "      <td>-1.808</td>\n",
       "      <td>82.45</td>\n",
       "      <td>82.58</td>\n",
       "      <td>84.09</td>\n",
       "      <td>82.00</td>\n",
       "      <td>82.91</td>\n",
       "      <td>79.58</td>\n",
       "      <td>1532400.0</td>\n",
       "      <td>125027162.0</td>\n",
       "      <td>11:30:00</td>\n",
       "    </tr>\n",
       "  </tbody>\n",
       "</table>\n",
       "<p>5365 rows × 14 columns</p>\n",
       "</div>"
      ],
      "text/plain": [
       "            代码     名称     最新价   涨跌额    涨跌幅      买入      卖出      昨收      今开  \\\n",
       "0     bj430017  XD星昊医   10.57  0.04  0.380   10.57   10.58   10.53   10.63   \n",
       "1     bj430047   诺思兰德   13.58 -0.05 -0.367   13.55   13.58   13.63   13.64   \n",
       "2     bj430090   同辉信息    2.69 -0.04 -1.465    2.69    2.71    2.73    2.74   \n",
       "3     bj430139   华岭股份    9.47  0.03  0.318    9.43    9.48    9.44    9.44   \n",
       "4     bj430198   微创光电    4.92  0.02  0.408    4.91    4.92    4.90    4.88   \n",
       "...        ...    ...     ...   ...    ...     ...     ...     ...     ...   \n",
       "5360  sz301587   中瑞股份   30.64  0.95  3.200   30.63   30.64   29.69   29.40   \n",
       "5361  sz301588   美新科技   23.17  0.29  1.267   23.16   23.17   22.88   22.62   \n",
       "5362  sz301589   诺瓦星云  192.23  1.03  0.539  192.25  192.32  191.20  189.72   \n",
       "5363  sz301591   肯特股份   41.13  0.76  1.883   41.13   41.14   40.37   39.99   \n",
       "5364  sz301596   瑞迪智驱   82.57 -1.52 -1.808   82.45   82.58   84.09   82.00   \n",
       "\n",
       "          最高      最低        成交量          成交额       时间戳  \n",
       "0      10.65   10.52   161698.0    1711159.0  11:34:59  \n",
       "1      13.83   13.44   343958.0    4687727.0  11:34:59  \n",
       "2       2.75    2.66  1787736.0    4840952.0  11:34:59  \n",
       "3       9.68    9.33   592814.0    5634573.0  11:34:59  \n",
       "4       4.96    4.85   684213.0    3358758.0  11:34:59  \n",
       "...      ...     ...        ...          ...       ...  \n",
       "5360   30.78   29.35  2846400.0   85729670.0  11:30:00  \n",
       "5361   23.18   22.46   741288.0   16936575.0  11:30:00  \n",
       "5362  195.65  189.17   271318.0   52301214.0  11:30:00  \n",
       "5363   41.48   38.58  1859000.0   74386929.0  11:30:00  \n",
       "5364   82.91   79.58  1532400.0  125027162.0  11:30:00  \n",
       "\n",
       "[5365 rows x 14 columns]"
      ]
     },
     "execution_count": 6,
     "metadata": {},
     "output_type": "execute_result"
    }
   ],
   "source": [
    "import akshare as ak\n",
    "import numpy as np \n",
    "import pandas as pd\n",
    "import matplotlib.pyplot as plt\n",
    "new_df=ak.stock_zh_a_spot()\n",
    "new_df"
   ]
  },
  {
   "cell_type": "code",
   "execution_count": 7,
   "metadata": {},
   "outputs": [
    {
     "name": "stdout",
     "output_type": "stream",
     "text": [
      "原数据均值 0.4077804287045666\n",
      "原数据标准差 2.622800568339086\n"
     ]
    },
    {
     "data": {
      "text/plain": [
       "<Axes: >"
      ]
     },
     "execution_count": 7,
     "metadata": {},
     "output_type": "execute_result"
    },
    {
     "data": {
      "image/png": "[encoded data removed]",
      "text/plain": [
       "<Figure size 640x480 with 1 Axes>"
      ]
     },
     "metadata": {},
     "output_type": "display_data"
    }
   ],
   "source": [
    "#使用涨跌幅进行研究\n",
    "cper=new_df['涨跌幅']\n",
    "print('原数据均值',cper.mean())\n",
    "print('原数据标准差',cper.std())\n",
    "cper.hist(bins=100)\n"
   ]
  },
  {
   "cell_type": "code",
   "execution_count": 11,
   "metadata": {},
   "outputs": [
    {
     "name": "stdout",
     "output_type": "stream",
     "text": [
      "固定比例法处理异常值后均值为： 0.36382423326013785\n",
      "固定比例法处理异常值后标准差为： 1.834700842757933\n"
     ]
    },
    {
     "name": "stderr",
     "output_type": "stream",
     "text": [
      "C:\\Users\\W10\\AppData\\Local\\Temp\\ipykernel_1772\\1540328684.py:3: SettingWithCopyWarning: \n",
      "A value is trying to be set on a copy of a slice from a DataFrame\n",
      "\n",
      "See the caveats in the documentation: https://pandas.pydata.org/pandas-docs/stable/user_guide/indexing.html#returning-a-view-versus-a-copy\n",
      "  cper[cper>=cper.quantile(0.99)]=cper.quantile(0.99)\n",
      "C:\\Users\\W10\\AppData\\Local\\Temp\\ipykernel_1772\\1540328684.py:4: SettingWithCopyWarning: \n",
      "A value is trying to be set on a copy of a slice from a DataFrame\n",
      "\n",
      "See the caveats in the documentation: https://pandas.pydata.org/pandas-docs/stable/user_guide/indexing.html#returning-a-view-versus-a-copy\n",
      "  cper[cper<=cper.quantile(0.01)]=cper.quantile(0.01)\n"
     ]
    },
    {
     "data": {
      "text/plain": [
       "<Axes: >"
      ]
     },
     "execution_count": 11,
     "metadata": {},
     "output_type": "execute_result"
    },
    {
     "data": {
      "image/png": "[encoded data removed]",
      "text/plain": [
       "<Figure size 640x480 with 1 Axes>"
      ]
     },
     "metadata": {},
     "output_type": "display_data"
    }
   ],
   "source": [
    "#1.固定比例法\n",
    "cper=new_df['涨跌幅']\n",
    "cper[cper>=cper.quantile(0.99)]=cper.quantile(0.99)\n",
    "cper[cper<=cper.quantile(0.01)]=cper.quantile(0.01)\n",
    "print('固定比例法处理异常值后均值为：',cper.mean())\n",
    "print('固定比例法处理异常值后标准差为：',cper.std())\n",
    "cper.hist(bins=100)\n"
   ]
  },
  {
   "cell_type": "code",
   "execution_count": 12,
   "metadata": {},
   "outputs": [
    {
     "name": "stdout",
     "output_type": "stream",
     "text": [
      "均值标准差法处理异常值后均值 0.3457866016872701\n",
      "均值标准差法处理异常值后标准差 1.7519237220343404\n"
     ]
    },
    {
     "name": "stderr",
     "output_type": "stream",
     "text": [
      "C:\\Users\\W10\\AppData\\Local\\Temp\\ipykernel_1772\\1305805179.py:3: SettingWithCopyWarning: \n",
      "A value is trying to be set on a copy of a slice from a DataFrame\n",
      "\n",
      "See the caveats in the documentation: https://pandas.pydata.org/pandas-docs/stable/user_guide/indexing.html#returning-a-view-versus-a-copy\n",
      "  cper[cper>=cper.mean()+3*cper.std()]=cper.mean()+3*cper.std()\n",
      "C:\\Users\\W10\\AppData\\Local\\Temp\\ipykernel_1772\\1305805179.py:4: SettingWithCopyWarning: \n",
      "A value is trying to be set on a copy of a slice from a DataFrame\n",
      "\n",
      "See the caveats in the documentation: https://pandas.pydata.org/pandas-docs/stable/user_guide/indexing.html#returning-a-view-versus-a-copy\n",
      "  cper[cper<=cper.mean()-3*cper.std()]=cper.mean()-3*cper.std()\n"
     ]
    },
    {
     "data": {
      "text/plain": [
       "<Axes: >"
      ]
     },
     "execution_count": 12,
     "metadata": {},
     "output_type": "execute_result"
    },
    {
     "data": {
      "image/png": "[encoded data removed]",
      "text/plain": [
       "<Figure size 640x480 with 1 Axes>"
      ]
     },
     "metadata": {},
     "output_type": "display_data"
    }
   ],
   "source": [
    "# 2.均值标准差法\n",
    "cper=new_df['涨跌幅']\n",
    "cper[cper>=cper.mean()+3*cper.std()]=cper.mean()+3*cper.std()\n",
    "cper[cper<=cper.mean()-3*cper.std()]=cper.mean()-3*cper.std()\n",
    "print('均值标准差法处理异常值后均值',cper.mean())\n",
    "print('均值标准差法处理异常值后标准差',cper.std())\n",
    "cper.hist( bins=100)"
   ]
  }
 ],
 "metadata": {
  "kernelspec": {
   "display_name": "Python 3",
   "language": "python",
   "name": "python3"
  },
  "language_info": {
   "codemirror_mode": {
    "name": "ipython",
    "version": 3
   },
   "file_extension": ".py",
   "mimetype": "text/x-python",
   "name": "python",
   "nbconvert_exporter": "python",
   "pygments_lexer": "ipython3",
   "version": "3.12.0"
  }
 },
 "nbformat": 4,
 "nbformat_minor": 2
}
