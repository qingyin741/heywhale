{
 "cells": [
  {
   "cell_type": "markdown",
   "metadata": {},
   "source": [
    "假设检验的核心是通过样本数据来推断总体数据的特征\n",
    "\n",
    "假设检验一般都是对总体参数或分布做出一个假设，然后通过抽样研究的统计推论，来判断这个假设是否能够被接受\n",
    "\n",
    "假设检验通常两种：\n",
    "1. 接受原假设，认为样本和总体没有本质差异，这种差异是由抽样误差引起的\n",
    "2. 拒绝原假设，认为样本和总体存在本质差异，这种差异不是由抽样误差引起的，而是由总体所决定的\n"
   ]
  },
  {
   "cell_type": "markdown",
   "metadata": {},
   "source": [
    "假设检验的步骤：\n",
    "\n",
    "+ 提出假设：\n",
    "+ 确定样本统计量\n",
    "+ 确定显著性水平\n",
    "+ 计算样本统计量的值\n",
    "+ 做出推断\n"
   ]
  },
  {
   "cell_type": "code",
   "execution_count": 3,
   "metadata": {},
   "outputs": [
    {
     "name": "stdout",
     "output_type": "stream",
     "text": [
      "无法拒绝原假设\n"
     ]
    }
   ],
   "source": [
    "import pandas as pd\n",
    "import numpy as np\n",
    "\n",
    "from scipy import stats\n",
    "\n",
    "#生成随机数据\n",
    "data=np.random.normal(0,1,1000)\n",
    "#提出假设\n",
    "mu0=0 #原假设\n",
    "mu1=1 #备择假设\n",
    "\n",
    "#确定样本统计量\n",
    "statistic=np.mean(data)\n",
    "\n",
    "#计算P值\n",
    "p_value=stats.ttest_1samp(data,mu0)[1]\n",
    "\n",
    "#做出推断\n",
    "if p_value<0.05:\n",
    "    print(\"拒绝原假设\")\n",
    "else:\n",
    "    print(\"无法拒绝原假设\")\n",
    "\n"
   ]
  },
  {
   "cell_type": "code",
   "execution_count": 2,
   "metadata": {},
   "outputs": [
    {
     "name": "stdout",
     "output_type": "stream",
     "text": [
      "t-statistic: -23.775642431152352\n",
      "p-value: 1.3564377286278415e-31\n",
      "拒绝原假设\n"
     ]
    }
   ],
   "source": [
    "import pandas as pd\n",
    "import numpy as np\n",
    "from scipy import stats\n",
    "# 假设的30年年份、GDP和就业率数据  \n",
    "data = {  \n",
    "    '年份': list(range(1991, 2021)),  # 从1991年到2020年  \n",
    "    'GDP(万亿元)': [  3.14, 3.56, 4.01, 4.50, 5.05, 5.67, 6.36, 7.14, 8.03, 8.99,  \n",
    "        10.02, 11.15, 12.39, 13.74, 15.22, 16.83, 18.58, 20.48, 22.54,  \n",
    "        24.78, 27.21, 29.84, 32.69, 35.76, 39.07, 42.63, 46.45, 50.54,  \n",
    "        54.92, 59.60  \n",
    "    ],  # 这里是随意生成的GDP数据，实际数据会有很大不同  \n",
    "    '就业率(%)': [   92.0, 92.2, 92.4, 92.6, 92.8, 93.0, 93.2, 93.4, 93.6, 93.8,  \n",
    "        94.0, 94.2, 94.4, 94.6, 94.8, 95.0, 95.2, 95.4, 95.6, 95.8,  \n",
    "        96.0, 96.2, 96.4, 96.6, 96.8, 97.0, 97.2, 97.4, 97.6, 97.8  \n",
    "    ]  # 这里是随意生成的就业率数据，实际数据会基于真实情况 \n",
    "}  \n",
    "#将数据集分为两组，一组为GDP，一组为就业率\n",
    "group1=data['GDP(万亿元)']\n",
    "group2=data['就业率(%)']\n",
    "\n",
    "#为了进行t检验，需要确保数据均为浮点型\n",
    "group1=np.array(group1)\n",
    "group1=group1.astype(float)\n",
    "\n",
    "group2=np.array(group2)\n",
    "group2=group2.astype(float)\n",
    "\n",
    "#进行t检验，得到t的统计量和P值\n",
    "t_statistic,p_value=stats.ttest_ind(group1,group2)\n",
    "\n",
    "print('t-statistic:',t_statistic)\n",
    "print('p-value:',p_value)\n",
    "\n",
    "alpha=0.05\n",
    "if p_value<alpha:\n",
    "    print('拒绝原假设')\n",
    "else:\n",
    "    print('无法拒绝原假设')"
   ]
  },
  {
   "cell_type": "markdown",
   "metadata": {},
   "source": [
    "# 方差分析（ANOVA）\n",
    "用于比较一个或两个以上样本均数差异的方法\n",
    "分析两个或多个研究因素的交互作用以及回归方程的线性假设检验等\n",
    "\n",
    "方差分析的基本思想是将全部观察值间的变异（总变异）按设计和需要分解成两个或多个组成部分，再比较每个部分的平均变异（均方）。\n",
    "\n",
    "通过比较不同组之间的方差，可以判断各组之间是否存在显著差异。\n",
    "\n",
    "如果各组之间的方差差异显著，则可以认为这些因素对实验结果产生了影响。\n"
   ]
  },
  {
   "cell_type": "code",
   "execution_count": 3,
   "metadata": {},
   "outputs": [
    {
     "name": "stdout",
     "output_type": "stream",
     "text": [
      "F-statistic: 175.41862845445172\n",
      "P-value: 1.30862805440011e-09\n",
      "拒绝原假设\n"
     ]
    }
   ],
   "source": [
    "import numpy as np\n",
    "from scipy import stats\n",
    "\n",
    "# 创建一些样本数据  \n",
    "group1 = np.array([2.3, 3.1, 2.8, 4.2, 3.5])  \n",
    "group2 = np.array([6.7, 6.8, 5.6, 7.1, 6.9])  \n",
    "group3 = np.array([9.8, 9.5, 10.1, 10.4, 9.9])   \n",
    "\n",
    "#将数据组合成一个数组，创建一个表示组的数组\n",
    "data=np.concatenate((group1,group2,group3))\n",
    "groups=np.array([1]*len(group1)+[2]*len(group2)+[3]*len(group3))\n",
    "#使用scipy进行方差分析\n",
    "f_val,p_val=stats.f_oneway(group1,group2,group3)\n",
    "print(\"F-statistic:\",f_val)\n",
    "print(\"P-value:\",p_val)\n",
    "if p_val<0.05:\n",
    "    print(\"拒绝原假设\")\n",
    "else:\n",
    "    print(\"无法拒绝原假设\")"
   ]
  },
  {
   "cell_type": "code",
   "execution_count": 8,
   "metadata": {},
   "outputs": [
    {
     "name": "stdout",
     "output_type": "stream",
     "text": [
      "           sum_sq    df           F        PR(>F)\n",
      "C(group)  114.256   2.0  175.418628  1.308628e-09\n",
      "Residual    3.908  12.0         NaN           NaN\n"
     ]
    }
   ],
   "source": [
    "import pandas as pd\n",
    "import statsmodels.api as sm\n",
    "from statsmodels.formula.api import ols\n",
    "# 创建一个数据框  \n",
    "data = pd.DataFrame({  \n",
    "    'value': [2.3, 3.1, 2.8, 4.2, 3.5, 6.7, 6.8, 5.6, 7.1, 6.9, 9.8, 9.5, 10.1, 10.4, 9.9],  \n",
    "    'group': [1, 1, 1, 1, 1, 2, 2, 2, 2, 2, 3, 3, 3, 3, 3]  \n",
    "})  \n",
    "#使用statsmodels 进行方差分析\n",
    "model=ols('value ~ C(group)',data=data).fit()\n",
    "anova_table=sm.stats.anova_lm(model,typ=2)\n",
    "print(anova_table)\n"
   ]
  },
  {
   "cell_type": "code",
   "execution_count": 5,
   "metadata": {},
   "outputs": [
    {
     "name": "stdout",
     "output_type": "stream",
     "text": [
      "Collecting statsmodels\n",
      "  Downloading statsmodels-0.14.2-cp312-cp312-win_amd64.whl.metadata (9.5 kB)\n",
      "Requirement already satisfied: numpy>=1.22.3 in c:\\users\\w10\\appdata\\local\\programs\\python\\python312\\lib\\site-packages (from statsmodels) (1.26.4)\n",
      "Requirement already satisfied: scipy!=1.9.2,>=1.8 in c:\\users\\w10\\appdata\\local\\programs\\python\\python312\\lib\\site-packages (from statsmodels) (1.11.4)\n",
      "Requirement already satisfied: pandas!=2.1.0,>=1.4 in c:\\users\\w10\\appdata\\local\\programs\\python\\python312\\lib\\site-packages (from statsmodels) (2.1.3)\n",
      "Collecting patsy>=0.5.6 (from statsmodels)\n",
      "  Downloading patsy-0.5.6-py2.py3-none-any.whl.metadata (3.5 kB)\n",
      "Requirement already satisfied: packaging>=21.3 in c:\\users\\w10\\appdata\\local\\programs\\python\\python312\\lib\\site-packages (from statsmodels) (23.2)\n",
      "Requirement already satisfied: python-dateutil>=2.8.2 in c:\\users\\w10\\appdata\\local\\programs\\python\\python312\\lib\\site-packages (from pandas!=2.1.0,>=1.4->statsmodels) (2.8.2)\n",
      "Requirement already satisfied: pytz>=2020.1 in c:\\users\\w10\\appdata\\local\\programs\\python\\python312\\lib\\site-packages (from pandas!=2.1.0,>=1.4->statsmodels) (2023.3.post1)\n",
      "Requirement already satisfied: tzdata>=2022.1 in c:\\users\\w10\\appdata\\local\\programs\\python\\python312\\lib\\site-packages (from pandas!=2.1.0,>=1.4->statsmodels) (2023.3)\n",
      "Requirement already satisfied: six in c:\\users\\w10\\appdata\\local\\programs\\python\\python312\\lib\\site-packages (from patsy>=0.5.6->statsmodels) (1.16.0)\n",
      "Downloading statsmodels-0.14.2-cp312-cp312-win_amd64.whl (9.8 MB)\n",
      "   ---------------------------------------- 0.0/9.8 MB ? eta -:--:--\n",
      "   ---------------------------------------- 0.1/9.8 MB 1.7 MB/s eta 0:00:06\n",
      "   -- ------------------------------------- 0.7/9.8 MB 8.5 MB/s eta 0:00:02\n",
      "   -------- ------------------------------- 2.1/9.8 MB 18.8 MB/s eta 0:00:01\n",
      "   -------- ------------------------------- 2.1/9.8 MB 18.8 MB/s eta 0:00:01\n",
      "   -------- ------------------------------- 2.1/9.8 MB 18.8 MB/s eta 0:00:01\n",
      "   --------------------- ------------------ 5.3/9.8 MB 21.0 MB/s eta 0:00:01\n",
      "   --------------------------------- ------ 8.2/9.8 MB 26.1 MB/s eta 0:00:01\n",
      "   ---------------------------------------- 9.8/9.8 MB 28.6 MB/s eta 0:00:00\n",
      "Downloading patsy-0.5.6-py2.py3-none-any.whl (233 kB)\n",
      "   ---------------------------------------- 0.0/233.9 kB ? eta -:--:--\n",
      "   --------------------------------------- 233.9/233.9 kB 14.0 MB/s eta 0:00:00\n",
      "Installing collected packages: patsy, statsmodels\n",
      "Successfully installed patsy-0.5.6 statsmodels-0.14.2\n"
     ]
    }
   ],
   "source": [
    "!pip install statsmodels "
   ]
  },
  {
   "cell_type": "markdown",
   "metadata": {},
   "source": [
    "# 多重比较检验的基本概念和方法\n",
    "多重比较检验是在方差分析之后，对各组均值间的差异进行进一步的检验\n",
    "\n",
    "目的是确定哪些组之间存在显著差异，哪些组之间没有显著差异\n",
    "\n",
    "Tukey HSD检验是最常用的多重检验方法\n",
    "\n",
    "Tukey　HSD检验的基本步骤包括：\n",
    "1. 计算各组均值之间的差异（差值）\n",
    "2. 计算每个差值的置信区间（95%置信区间）\n",
    "3. 一个差值的置信区间不包含0，则认为该差值是显著的，即对应的组间存在显著差值\n",
    "4. 如果所有差值的置信区间都包含0，则认为所有组间均无显著差异\n"
   ]
  },
  {
   "cell_type": "code",
   "execution_count": 9,
   "metadata": {},
   "outputs": [
    {
     "name": "stdout",
     "output_type": "stream",
     "text": [
      "Multiple Comparison of Means - Tukey HSD, FWER=0.05\n",
      "===================================================\n",
      "group1 group2 meandiff p-adj   lower  upper  reject\n",
      "---------------------------------------------------\n",
      "     0      1   0.2323 0.6652  -0.406 0.8706  False\n",
      "     0      2   0.1195 0.8974 -0.5188 0.7578  False\n",
      "     1      2  -0.1128  0.908 -0.7511 0.5255  False\n",
      "---------------------------------------------------\n"
     ]
    }
   ],
   "source": [
    "import numpy as np\n",
    "from statsmodels.stats.multicomp import pairwise_tukeyhsd\n",
    "\n",
    "#生成随机数据\n",
    "group1=np.random.normal(0,1,50)\n",
    "group2=np.random.normal(1,1,50)\n",
    "group3=np.random.normal(2,1,50)\n",
    "data=np.concatenate([group1,group2,group3])\n",
    "#进行tukey hsd检验\n",
    "tukey_results=pairwise_tukeyhsd(endog=data,\n",
    "                                groups=np.arange(len(data))%3,#分组\n",
    "                                alpha=0.05)#显著水平\n",
    "print(tukey_results.summary())"
   ]
  },
  {
   "cell_type": "code",
   "execution_count": null,
   "metadata": {},
   "outputs": [],
   "source": []
  }
 ],
 "metadata": {
  "kernelspec": {
   "display_name": "Python 3",
   "language": "python",
   "name": "python3"
  },
  "language_info": {
   "codemirror_mode": {
    "name": "ipython",
    "version": 3
   },
   "file_extension": ".py",
   "mimetype": "text/x-python",
   "name": "python",
   "nbconvert_exporter": "python",
   "pygments_lexer": "ipython3",
   "version": "3.12.0"
  }
 },
 "nbformat": 4,
 "nbformat_minor": 2
}
