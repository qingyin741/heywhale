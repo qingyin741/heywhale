{
 "cells": [
  {
   "cell_type": "code",
   "execution_count": 6,
   "metadata": {},
   "outputs": [
    {
     "data": {
      "text/plain": [
       "'e py'"
      ]
     },
     "execution_count": 6,
     "metadata": {},
     "output_type": "execute_result"
    }
   ],
   "source": [
    "str = 'I like python'\n",
    "\n",
    "# q1、取该变量的第3个元素，结果赋值给a1 【注意：变量索引从0开始，空格也算一个元素】\n",
    "\n",
    "a1=str[4]\n",
    "\n",
    "a2=str[5:9]\n",
    "\n",
    "a3=str[6:]\n"
   ]
  },
  {
   "cell_type": "code",
   "execution_count": 7,
   "metadata": {},
   "outputs": [],
   "source": [
    "lis = ['python', 'java', 'c', 'pandas', 'numpy']\n"
   ]
  },
  {
   "cell_type": "code",
   "execution_count": 14,
   "metadata": {},
   "outputs": [
    {
     "data": {
      "text/plain": [
       "'va'"
      ]
     },
     "execution_count": 14,
     "metadata": {},
     "output_type": "execute_result"
    }
   ],
   "source": [
    "a4=lis[3]\n",
    "a5=lis[-1]\n",
    "a6=lis[1][-2:]\n",
    "\n",
    "a6"
   ]
  },
  {
   "cell_type": "code",
   "execution_count": 19,
   "metadata": {},
   "outputs": [
    {
     "data": {
      "text/plain": [
       "'sex'"
      ]
     },
     "execution_count": 19,
     "metadata": {},
     "output_type": "execute_result"
    }
   ],
   "source": [
    "dic = {'name':'John', 'sex':'male', 'skill':'python', 'job':'teacher'}\n",
    "a7=dic['skill']\n",
    "\n",
    "keys_list=list(dic.keys())\n",
    "a8=keys_list[1]\n",
    "a8"
   ]
  },
  {
   "cell_type": "code",
   "execution_count": 25,
   "metadata": {},
   "outputs": [
    {
     "name": "stdout",
     "output_type": "stream",
     "text": [
      "40 104.0\n",
      "104\n"
     ]
    }
   ],
   "source": [
    "def Fahrenheit(C):\n",
    "    return C*1.8+32\n",
    "\n",
    "def Celsius(F):\n",
    "    return ((F-32)/1.8)\n",
    "\n",
    "\n",
    "a1=int(Celsius(100))\n",
    "a2=int(Fahrenheit(36))\n",
    "\n",
    "#摄氏温度+华氏温度\n",
    "for i in range(1,100):\n",
    "    if i+Fahrenheit(i)==144:\n",
    "        print(i,Fahrenheit(i))\n",
    "        a3=int(Fahrenheit(i))\n",
    "    \n",
    "    \n",
    "print(a3)    "
   ]
  },
  {
   "cell_type": "code",
   "execution_count": 36,
   "metadata": {},
   "outputs": [
    {
     "name": "stdout",
     "output_type": "stream",
     "text": [
      "78\n",
      "31 235\n"
     ]
    }
   ],
   "source": [
    "pai=3.14\n",
    "r=5\n",
    "a4=int(pai*2*r)\n",
    "a5=int(pai*r*r)\n",
    "print(a5)\n",
    "\n",
    "\n",
    "def two_circles(r1,r2):\n",
    "    perimeter1=2*pai*r1\n",
    "    perimeter2=2*pai*r2\n",
    "    perimeter_difference=perimeter2-perimeter1\n",
    "\n",
    "    area1=pai*r1*r1\n",
    "    area2=pai*r2*r2\n",
    "    area_difference=area2-area1\n",
    "    \n",
    "    return  perimeter_difference,area_difference\n",
    "\n",
    "\n",
    "a6,a7=two_circles(5,10)\n",
    "a6=int(a6)\n",
    "a7=int(a7)\n",
    "print(a6,a7)"
   ]
  },
  {
   "cell_type": "code",
   "execution_count": 37,
   "metadata": {},
   "outputs": [
    {
     "name": "stdout",
     "output_type": "stream",
     "text": [
      "True\n"
     ]
    }
   ],
   "source": [
    "def leap_years(years):\n",
    "    if (years%400==0) or  (years%100!=0 and years %4==0 ):\n",
    "        return True\n",
    "    else:\n",
    "        return False\n",
    "a8=leap_years(2008)\n",
    "print(a8)\n",
    "    "
   ]
  },
  {
   "cell_type": "code",
   "execution_count": 39,
   "metadata": {},
   "outputs": [
    {
     "name": "stdout",
     "output_type": "stream",
     "text": [
      "24\n"
     ]
    }
   ],
   "source": [
    "for x in range(1,100):\n",
    "    if 40*x==80*12:\n",
    "        print(x)"
   ]
  },
  {
   "cell_type": "code",
   "execution_count": null,
   "metadata": {},
   "outputs": [],
   "source": [
    "n,r=map(int,input().split())\n",
    "for i in range(n):\n",
    "    k,p=map(int,input().split())\n",
    "    if r>=i:\n",
    "        \n"
   ]
  }
 ],
 "metadata": {
  "kernelspec": {
   "display_name": "Python 3",
   "language": "python",
   "name": "python3"
  },
  "language_info": {
   "codemirror_mode": {
    "name": "ipython",
    "version": 3
   },
   "file_extension": ".py",
   "mimetype": "text/x-python",
   "name": "python",
   "nbconvert_exporter": "python",
   "pygments_lexer": "ipython3",
   "version": "3.12.0"
  }
 },
 "nbformat": 4,
 "nbformat_minor": 2
}
