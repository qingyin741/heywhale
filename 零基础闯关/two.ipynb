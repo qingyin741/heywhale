{
 "cells": [
  {
   "cell_type": "code",
   "execution_count": 1,
   "metadata": {},
   "outputs": [],
   "source": [
    "#输入长度和单位\n",
    "from nbformat import convert\n",
    "\n",
    "\n",
    "length=float(input(\"请输入长度\"))\n",
    "unit=input(\"输入单位cm或inch\")\n",
    "\n",
    "if unit.lower()==\"cm\":\n",
    "    converted_length=length*0.39\n",
    "    print(f\"{int(length)}厘米={int(converted_length)}英寸\")"
   ]
  },
  {
   "cell_type": "code",
   "execution_count": 4,
   "metadata": {},
   "outputs": [
    {
     "name": "stdout",
     "output_type": "stream",
     "text": [
      "38.1\n",
      "15.600000000000001\n"
     ]
    }
   ],
   "source": [
    "# 定义转换比例\n",
    "cm_to_inch = 0.39\n",
    "inch_to_cm = 2.54\n",
    "\n",
    "# 计算 15 英寸对应多少厘米，结果保留整数部分\n",
    "a1 = int(15 * inch_to_cm)\n",
    "\n",
    "# 计算 40 厘米对应多少英寸，结果保留整数部分\n",
    "a2 = int(40 * cm_to_inch)\n",
    "\n",
    "\n",
    "\n",
    "print(15*2.54)\n",
    "print(40*0.39)"
   ]
  },
  {
   "cell_type": "code",
   "execution_count": 2,
   "metadata": {},
   "outputs": [
    {
     "name": "stdout",
     "output_type": "stream",
     "text": [
      "小明的成绩等级是: C\n",
      "小张的成绩等级是: A\n",
      "小王的成绩等级是: B\n"
     ]
    }
   ],
   "source": [
    "# 定义一个函数来判断成绩等级\n",
    "def get_grade(score):\n",
    "    if score >= 90:\n",
    "        return \"A\"\n",
    "    elif score >= 80:\n",
    "        return \"B\"\n",
    "    elif score >= 70:\n",
    "        return \"C\"\n",
    "    elif score >= 60:\n",
    "        return \"D\"\n",
    "    else:\n",
    "        return \"E\"\n",
    "\n",
    "# 小明、小张和小王的成绩\n",
    "score_xiaoming = int(79)  # 79分\n",
    "score_xiaozhang = int(90)  # 90分\n",
    "score_xiaowang = int(89)  # 89分\n",
    "\n",
    "# 判断他们对应的成绩等级\n",
    "a3 = get_grade(score_xiaoming)\n",
    "a4 = get_grade(score_xiaozhang)\n",
    "a5 = get_grade(score_xiaowang)\n",
    "\n",
    "# 输出结果\n",
    "print(f\"小明的成绩等级是: {a3}\")\n",
    "print(f\"小张的成绩等级是: {a4}\")\n",
    "print(f\"小王的成绩等级是: {a5}\")\n"
   ]
  },
  {
   "cell_type": "code",
   "execution_count": 3,
   "metadata": {},
   "outputs": [
    {
     "name": "stdout",
     "output_type": "stream",
     "text": [
      "第一组：周长为 25，面积为 26\n",
      "第二组：no\n",
      "第三组：周长为 30，面积为 30\n"
     ]
    }
   ],
   "source": [
    "import math\n",
    "\n",
    "def is_triangle(a, b, c):\n",
    "    # 判断是否能构成三角形\n",
    "    return a + b > c and a + c > b and b + c > a\n",
    "\n",
    "def triangle_perimeter(a, b, c):\n",
    "    # 计算三角形的周长，保留整数部分\n",
    "    return int(a + b + c)\n",
    "\n",
    "def triangle_area(a, b, c):\n",
    "    # 使用海伦公式计算三角形的面积，保留整数部分\n",
    "    s = (a + b + c) / 2\n",
    "    area = math.sqrt(s * (s - a) * (s - b) * (s - c))\n",
    "    return int(area)\n",
    "\n",
    "# 判断第一组值 [6, 10, 9]\n",
    "a1, b1, c1 = 6, 10, 9\n",
    "if is_triangle(a1, b1, c1):\n",
    "    a6 = triangle_perimeter(a1, b1, c1)\n",
    "    a7 = triangle_area(a1, b1, c1)\n",
    "    print(f\"第一组：周长为 {a6}，面积为 {a7}\")\n",
    "else:\n",
    "    print(\"第一组：no\")\n",
    "\n",
    "# 判断第二组值 [9, 16, 25]\n",
    "a2, b2, c2 = 9, 16, 25\n",
    "if is_triangle(a2, b2, c2):\n",
    "    a8 = \"yes\"\n",
    "    print(f\"第二组：周长为 {triangle_perimeter(a2, b2, c2)}，面积为 {triangle_area(a2, b2, c2)}\")\n",
    "else:\n",
    "    a8 = \"no\"\n",
    "    print(\"第二组：no\")\n",
    "\n",
    "# 判断第三组值 [13, 12, 5]\n",
    "a3, b3, c3 = 13, 12, 5\n",
    "if is_triangle(a3, b3, c3):\n",
    "    a9 = triangle_perimeter(a3, b3, c3)\n",
    "    a10 = triangle_area(a3, b3, c3)\n",
    "    print(f\"第三组：周长为 {a9}，面积为 {a10}\")\n",
    "else:\n",
    "    print(\"第三组：no\")\n"
   ]
  },
  {
   "cell_type": "code",
   "execution_count": 10,
   "metadata": {},
   "outputs": [
    {
     "data": {
      "text/plain": [
       "('yes', 'no')"
      ]
     },
     "execution_count": 10,
     "metadata": {},
     "output_type": "execute_result"
    }
   ],
   "source": [
    "#素数求法\n",
    "def is_prime(n):\n",
    "    if n<2:\n",
    "        return False\n",
    "    for i in range(2,int(n**0.5)+1):\n",
    "        if n%i==0:\n",
    "            return  'no'\n",
    "    return 'yes'\n",
    "\n",
    "a1=is_prime(13)\n",
    "a2=is_prime(171)\n",
    "a1,a2"
   ]
  },
  {
   "cell_type": "code",
   "execution_count": 1,
   "metadata": {},
   "outputs": [
    {
     "data": {
      "text/plain": [
       "(4, 80)"
      ]
     },
     "execution_count": 1,
     "metadata": {},
     "output_type": "execute_result"
    }
   ],
   "source": [
    "import math\n",
    "\n",
    "#最大公约数\n",
    "a3=math.gcd(20,16)\n",
    "\n",
    "#最小公倍数 最小公倍数=两数乘积/最大公约数\n",
    "a4=(20*16)//a3\n",
    "a5=math.gcd(15,70)\n",
    "a6=(15*70)//a5\n",
    "\n"
   ]
  },
  {
   "cell_type": "code",
   "execution_count": 4,
   "metadata": {},
   "outputs": [
    {
     "data": {
      "text/plain": [
       "(10, 3)"
      ]
     },
     "execution_count": 4,
     "metadata": {},
     "output_type": "execute_result"
    }
   ],
   "source": [
    "s1 = 'Hello world! 123'\n",
    "\n",
    "a7=sum(1 for char in s1 if char.isalpha())\n",
    "a8=sum(1 for num in s1 if num.isdigit())\n"
   ]
  },
  {
   "cell_type": "code",
   "execution_count": 9,
   "metadata": {},
   "outputs": [
    {
     "data": {
      "text/plain": [
       "(9, 6)"
      ]
     },
     "execution_count": 9,
     "metadata": {},
     "output_type": "execute_result"
    }
   ],
   "source": [
    "s2 = 'qw15eki!9co2i1n4|'\n",
    "a9=sum(1 for i in s2 if i.isalpha())\n",
    "a10=sum(1 for i in s2 if i.isdigit())\n",
    "\n",
    "a9,a10\n"
   ]
  },
  {
   "cell_type": "code",
   "execution_count": 11,
   "metadata": {},
   "outputs": [
    {
     "data": {
      "text/plain": [
       "'大于'"
      ]
     },
     "execution_count": 11,
     "metadata": {},
     "output_type": "execute_result"
    }
   ],
   "source": [
    "def compare(a,b):\n",
    "    if a>b:\n",
    "        return '大于'\n",
    "    elif a<b:\n",
    "        return '小于'\n",
    "import math\n",
    "a=math.log(3)/3\n",
    "b=math.log(5)/5\n",
    "a1=compare(a,b)\n"
   ]
  },
  {
   "cell_type": "code",
   "execution_count": 12,
   "metadata": {},
   "outputs": [
    {
     "data": {
      "text/plain": [
       "'小于'"
      ]
     },
     "execution_count": 12,
     "metadata": {},
     "output_type": "execute_result"
    }
   ],
   "source": [
    "import math\n",
    "a=math.pow(2,math.pi)\n",
    "b=math.pow(math.pi,2)\n",
    "a2=compare(a,b)\n",
    "a2"
   ]
  },
  {
   "cell_type": "code",
   "execution_count": 13,
   "metadata": {},
   "outputs": [],
   "source": [
    "#判断是否为素数\n",
    "def is_prime(n):\n",
    "    #判断是否为素数\n",
    "    if n<=1:\n",
    "        return False\n",
    "    for i in range(2,int(n**0.5)+1):\n",
    "        if n%i==0:\n",
    "            return False\n",
    "    return True\n",
    "\n",
    "#判断一个数据是否为回文\n",
    "def is_palindrome(n):\n",
    "    return str(n)==str(n)[::-1]\n",
    "\n",
    "#判断是否为回文素数\n",
    "def is_palindrome_prime(n):\n",
    "    return is_prime(n) and is_palindrome(n)\n",
    "\n",
    "a3='Yes' if is_palindrome_prime(171) else 'No'\n",
    "a4='Yes' if is_palindrome_prime(373) else 'No'\n"
   ]
  },
  {
   "cell_type": "code",
   "execution_count": 15,
   "metadata": {},
   "outputs": [],
   "source": [
    "def count_upper_lower(s):\n",
    "    upper_count=sum(1 for i in s if i.isupper())\n",
    "    lower_count=sum(1 for i in s if i.islower())\n",
    "    return upper_count,lower_count\n",
    "\n",
    "s1='Hello World'\n",
    "a5,a6=count_upper_lower(s1)\n",
    "\n",
    "s2='wa#uD!Ah+fHcUSjPls'\n",
    "a7,a8=count_upper_lower(s2)\n",
    "\n",
    "s3='qwe@1iwOhdsaQKds2a0ODlasdaASa'\n",
    "a9,a10=count_upper_lower(s3)\n"
   ]
  },
  {
   "cell_type": "code",
   "execution_count": 28,
   "metadata": {},
   "outputs": [
    {
     "data": {
      "text/html": [
       "<div>\n",
       "<style scoped>\n",
       "    .dataframe tbody tr th:only-of-type {\n",
       "        vertical-align: middle;\n",
       "    }\n",
       "\n",
       "    .dataframe tbody tr th {\n",
       "        vertical-align: top;\n",
       "    }\n",
       "\n",
       "    .dataframe thead th {\n",
       "        text-align: right;\n",
       "    }\n",
       "</style>\n",
       "<table border=\"1\" class=\"dataframe\">\n",
       "  <thead>\n",
       "    <tr style=\"text-align: right;\">\n",
       "      <th></th>\n",
       "      <th>id</th>\n",
       "      <th>answer</th>\n",
       "    </tr>\n",
       "  </thead>\n",
       "  <tbody>\n",
       "    <tr>\n",
       "      <th>14</th>\n",
       "      <td>0</td>\n",
       "      <td>2020-03-15 12:14:45</td>\n",
       "    </tr>\n",
       "    <tr>\n",
       "      <th>33</th>\n",
       "      <td>1</td>\n",
       "      <td>2020-03-16 11:04:00</td>\n",
       "    </tr>\n",
       "    <tr>\n",
       "      <th>39</th>\n",
       "      <td>2</td>\n",
       "      <td>2020-03-16 11:35:36</td>\n",
       "    </tr>\n",
       "    <tr>\n",
       "      <th>83</th>\n",
       "      <td>3</td>\n",
       "      <td>2020-03-16 10:43:49</td>\n",
       "    </tr>\n",
       "    <tr>\n",
       "      <th>93</th>\n",
       "      <td>4</td>\n",
       "      <td>2020-03-16 10:44:41</td>\n",
       "    </tr>\n",
       "    <tr>\n",
       "      <th>...</th>\n",
       "      <td>...</td>\n",
       "      <td>...</td>\n",
       "    </tr>\n",
       "    <tr>\n",
       "      <th>62</th>\n",
       "      <td>85</td>\n",
       "      <td>30k-40k</td>\n",
       "    </tr>\n",
       "    <tr>\n",
       "      <th>79</th>\n",
       "      <td>86</td>\n",
       "      <td>25k-40k</td>\n",
       "    </tr>\n",
       "    <tr>\n",
       "      <th>92</th>\n",
       "      <td>87</td>\n",
       "      <td>30k-40k</td>\n",
       "    </tr>\n",
       "    <tr>\n",
       "      <th>101</th>\n",
       "      <td>88</td>\n",
       "      <td>30k-45k</td>\n",
       "    </tr>\n",
       "    <tr>\n",
       "      <th>131</th>\n",
       "      <td>89</td>\n",
       "      <td>25k-50k</td>\n",
       "    </tr>\n",
       "  </tbody>\n",
       "</table>\n",
       "<p>90 rows × 2 columns</p>\n",
       "</div>"
      ],
      "text/plain": [
       "     id               answer\n",
       "14    0  2020-03-15 12:14:45\n",
       "33    1  2020-03-16 11:04:00\n",
       "39    2  2020-03-16 11:35:36\n",
       "83    3  2020-03-16 10:43:49\n",
       "93    4  2020-03-16 10:44:41\n",
       "..   ..                  ...\n",
       "62   85              30k-40k\n",
       "79   86              25k-40k\n",
       "92   87              30k-40k\n",
       "101  88              30k-45k\n",
       "131  89              25k-50k\n",
       "\n",
       "[90 rows x 2 columns]"
      ]
     },
     "execution_count": 28,
     "metadata": {},
     "output_type": "execute_result"
    }
   ],
   "source": [
    "import  os\n",
    "import  pandas as pd\n",
    "\n",
    "data=pd.read_excel('pandas120.xlsx')\n",
    "\n",
    "df1=data[(data['salary']=='25k-35k') & (data['education']=='本科')] \n",
    "\n",
    "df2=data[data['salary'].str.endswith('40k')]\n",
    "\n",
    "\n",
    "#使用正则表达式进行计算\n",
    "data[['min_salary','max_salary']]=data['salary'].str.extract(r'(\\d+)k-(\\d+)k').astype(int)\n",
    "data['average_salary']=(data['min_salary']+data['max_salary'])/2\n",
    "filter_data=data[data['average_salary']>30]\n",
    "\n",
    "df3=filter_data[['createTime','education','salary']]\n",
    "\n",
    "\n",
    "answer_2=pd.concat([df1,df2,df3],axis=0)\n",
    "\n",
    "\n",
    "data1=pd.concat([answer_2.iloc[:,0],answer_2.iloc[:,1],answer_2.iloc[:,2]])\n",
    "result=pd.DataFrame(data1,columns=['answer'])\n",
    "result['id']=range(len(result))\n",
    "result=result[['id','answer']]\n",
    "result"
   ]
  },
  {
   "cell_type": "code",
   "execution_count": 26,
   "metadata": {},
   "outputs": [
    {
     "data": {
      "text/html": [
       "<div>\n",
       "<style scoped>\n",
       "    .dataframe tbody tr th:only-of-type {\n",
       "        vertical-align: middle;\n",
       "    }\n",
       "\n",
       "    .dataframe tbody tr th {\n",
       "        vertical-align: top;\n",
       "    }\n",
       "\n",
       "    .dataframe thead th {\n",
       "        text-align: right;\n",
       "    }\n",
       "</style>\n",
       "<table border=\"1\" class=\"dataframe\">\n",
       "  <thead>\n",
       "    <tr style=\"text-align: right;\">\n",
       "      <th></th>\n",
       "      <th>createTime</th>\n",
       "      <th>education</th>\n",
       "      <th>salary</th>\n",
       "    </tr>\n",
       "  </thead>\n",
       "  <tbody>\n",
       "    <tr>\n",
       "      <th>14</th>\n",
       "      <td>2020-03-15 12:14:45</td>\n",
       "      <td>本科</td>\n",
       "      <td>25k-35k</td>\n",
       "    </tr>\n",
       "    <tr>\n",
       "      <th>33</th>\n",
       "      <td>2020-03-16 11:04:00</td>\n",
       "      <td>本科</td>\n",
       "      <td>25k-35k</td>\n",
       "    </tr>\n",
       "    <tr>\n",
       "      <th>38</th>\n",
       "      <td>2020-03-16 11:01:58</td>\n",
       "      <td>不限</td>\n",
       "      <td>25k-35k</td>\n",
       "    </tr>\n",
       "    <tr>\n",
       "      <th>39</th>\n",
       "      <td>2020-03-16 11:35:36</td>\n",
       "      <td>本科</td>\n",
       "      <td>25k-35k</td>\n",
       "    </tr>\n",
       "    <tr>\n",
       "      <th>45</th>\n",
       "      <td>2020-03-16 11:01:58</td>\n",
       "      <td>不限</td>\n",
       "      <td>25k-35k</td>\n",
       "    </tr>\n",
       "    <tr>\n",
       "      <th>83</th>\n",
       "      <td>2020-03-16 10:43:49</td>\n",
       "      <td>本科</td>\n",
       "      <td>25k-35k</td>\n",
       "    </tr>\n",
       "    <tr>\n",
       "      <th>93</th>\n",
       "      <td>2020-03-16 10:44:41</td>\n",
       "      <td>本科</td>\n",
       "      <td>25k-35k</td>\n",
       "    </tr>\n",
       "  </tbody>\n",
       "</table>\n",
       "</div>"
      ],
      "text/plain": [
       "            createTime education   salary\n",
       "14 2020-03-15 12:14:45        本科  25k-35k\n",
       "33 2020-03-16 11:04:00        本科  25k-35k\n",
       "38 2020-03-16 11:01:58        不限  25k-35k\n",
       "39 2020-03-16 11:35:36        本科  25k-35k\n",
       "45 2020-03-16 11:01:58        不限  25k-35k\n",
       "83 2020-03-16 10:43:49        本科  25k-35k\n",
       "93 2020-03-16 10:44:41        本科  25k-35k"
      ]
     },
     "execution_count": 26,
     "metadata": {},
     "output_type": "execute_result"
    }
   ],
   "source": [
    "df1"
   ]
  }
 ],
 "metadata": {
  "kernelspec": {
   "display_name": "Python 3",
   "language": "python",
   "name": "python3"
  },
  "language_info": {
   "codemirror_mode": {
    "name": "ipython",
    "version": 3
   },
   "file_extension": ".py",
   "mimetype": "text/x-python",
   "name": "python",
   "nbconvert_exporter": "python",
   "pygments_lexer": "ipython3",
   "version": "3.12.0"
  }
 },
 "nbformat": 4,
 "nbformat_minor": 2
}
