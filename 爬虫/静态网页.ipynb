{
 "cells": [
  {
   "cell_type": "code",
   "execution_count": null,
   "metadata": {},
   "outputs": [],
   "source": [
    "a1 = 'D'\n",
    "a2 = 'A'\n",
    "a3 = 'D'\n",
    "a4 = 'AB'\n",
    "a5 = 'A'\n",
    "\n",
    "\n",
    "\n",
    "\n"
   ]
  },
  {
   "cell_type": "code",
   "execution_count": 1,
   "metadata": {},
   "outputs": [],
   "source": [
    "import pandas as pd\n",
    "import requests\n",
    "import chardet\n",
    "import re\n",
    "from lxml import etree\n",
    "import time\n",
    "import warnings\n",
    "warnings.filterwarnings('ignore')\n"
   ]
  },
  {
   "cell_type": "code",
   "execution_count": 9,
   "metadata": {},
   "outputs": [
    {
     "data": {
      "text/plain": [
       "<Element html at 0x23c94f43040>"
      ]
     },
     "execution_count": 9,
     "metadata": {},
     "output_type": "execute_result"
    }
   ],
   "source": [
    "url = 'http://www.68xsw.cc/type/2_0_0_lastupdate_1.html'\n",
    "headers = {\n",
    "    'User-Agent': 'Mozilla/5.0 (Windows NT 6.1; Win64; x64) AppleWebKit/537.36 (KHTML, like Gecko) Chrome/71.0.3578.98 Safari/537.36'\n",
    "}\n",
    "rqg=requests.get(url,headers,verify=False)\n",
    "rqg.encoding=chardet.detect(rqg.content)['encoding']\n",
    "html=etree.HTML(rqg.text)\n",
    "html\n"
   ]
  },
  {
   "cell_type": "code",
   "execution_count": 13,
   "metadata": {},
   "outputs": [],
   "source": [
    "# 3 解析页面网页中的信息\n",
    "# 1. 小说名称\n",
    "title = html.xpath(\"/html/body/div[6]/ul/li/span[1]/a/b/text()\")\n",
    "# 2. 最新章节\n",
    "chapter = html.xpath(\"/html/body/div[6]/ul/li/span[2]/a/text()\")\n",
    "# 3. 作者\n",
    "author = html.xpath(\"/html/body/div[6]/ul/li/span[3]/a/text()\")\n",
    "# 4. 状态\n",
    "state = html.xpath(\"/html/body/div[6]/ul/li/span[4]/text()\")[1:]\n",
    "# 5. 关注\n",
    "follow = html.xpath(\"/html/body/div[6]/ul/li/span[5]/text()\")[1:]"
   ]
  },
  {
   "cell_type": "code",
   "execution_count": 10,
   "metadata": {},
   "outputs": [],
   "source": [
    "#解析网页信息\n",
    "#1、小说名称\n",
    "title=html.xpath(\"/html/body/div[6]/ul/li[1]/span[1]/a/b/text()\")\n",
    "\n",
    "#2.最新章节\n",
    "chapter=html.xpath(\"/html/body/div[6]/ul/li[1]/span[2]/a/text()\")\n",
    "#3.作者\n",
    "author=html.xpath(\"/html/body/div[6]/ul/li[1]/span[3]/a/text()\")\n",
    "#4.状态\n",
    "status=html.xpath(\"/html/body/div[6]/ul/li[1]/span[4]/text()\")[1:]\n",
    "#5.关注\n",
    "follow=html.xpath(\"/html/body/div[6]/ul/li[1]/span[5]/text()\")[1:]\n"
   ]
  },
  {
   "cell_type": "code",
   "execution_count": 14,
   "metadata": {},
   "outputs": [
    {
     "name": "stdout",
     "output_type": "stream",
     "text": [
      "30\n",
      "30\n",
      "30\n",
      "0\n",
      "30\n"
     ]
    }
   ],
   "source": [
    "print(len(title))\n",
    "print(len(chapter))\n",
    "print(len(author))\n",
    "print(len(status))\n",
    "print(len(follow))"
   ]
  },
  {
   "cell_type": "code",
   "execution_count": 15,
   "metadata": {},
   "outputs": [
    {
     "name": "stdout",
     "output_type": "stream",
     "text": [
      "['http://www.68xsw.cc/type/2_0_0_lastupdate_1.html', 'http://www.68xsw.cc/type/2_0_0_lastupdate_2.html', 'http://www.68xsw.cc/type/2_0_0_lastupdate_3.html', 'http://www.68xsw.cc/type/2_0_0_lastupdate_4.html', 'http://www.68xsw.cc/type/2_0_0_lastupdate_5.html', 'http://www.68xsw.cc/type/2_0_0_lastupdate_6.html', 'http://www.68xsw.cc/type/2_0_0_lastupdate_7.html']\n"
     ]
    },
    {
     "ename": "",
     "evalue": "",
     "output_type": "error",
     "traceback": [
      "\u001b[1;31mThe Kernel crashed while executing code in the current cell or a previous cell. \n",
      "\u001b[1;31mPlease review the code in the cell(s) to identify a possible cause of the failure. \n",
      "\u001b[1;31mClick <a href='https://aka.ms/vscodeJupyterKernelCrash'>here</a> for more info. \n",
      "\u001b[1;31mView Jupyter <a href='command:jupyter.viewOutput'>log</a> for further details."
     ]
    }
   ],
   "source": [
    "#翻页操作\n",
    "x = \"http://www.68xsw.cc/type/2_0_0_lastupdate_\"\n",
    "url_list=[x+str(i)+\".html\" for i in range(1,8)]\n",
    "print(url_list)"
   ]
  },
  {
   "cell_type": "code",
   "execution_count": 12,
   "metadata": {},
   "outputs": [
    {
     "name": "stdout",
     "output_type": "stream",
     "text": [
      ">> 正获取：  http://www.68xsw.cc/type/3_0_0_lastupdate_1.html\n",
      ">> 正获取：  http://www.68xsw.cc/type/3_0_0_lastupdate_2.html\n",
      ">> 正获取：  http://www.68xsw.cc/type/3_0_0_lastupdate_3.html\n",
      ">> 正获取：  http://www.68xsw.cc/type/3_0_0_lastupdate_4.html\n",
      ">> 正获取：  http://www.68xsw.cc/type/3_0_0_lastupdate_5.html\n",
      ">> 正获取：  http://www.68xsw.cc/type/3_0_0_lastupdate_6.html\n",
      ">> 正获取：  http://www.68xsw.cc/type/3_0_0_lastupdate_7.html\n"
     ]
    }
   ],
   "source": [
    "import csv # 用于数据存储\n",
    "import requests # 用于请求网页\n",
    "import chardet # 用于修改编码\n",
    "import re # 用于提取数据\n",
    "from lxml import etree # 解析数据的库\n",
    "import time # 可以粗糙模拟人为请求网页的速度\n",
    "import warnings # 忽略代码运行时候的警告信息\n",
    "warnings.filterwarnings(\"ignore\")\n",
    "\n",
    "def get_data(url):\n",
    "    headers = {'User-Agent': 'Mozilla/5.0 (Windows NT 6.1; Win64; x64) AppleWebKit/537.36 (KHTML, like Gecko) Chrome/71.0.3578.98 Safari/537.36'}\n",
    "    rqg = requests.get(url, headers=headers, verify=False) # a\n",
    "    rqg.encoding = chardet.detect(rqg.content)['encoding'] # b\n",
    "    html = etree.HTML(rqg.text)\n",
    "\n",
    "    # 1. 小说名称\n",
    "    title = html.xpath(\"/html/body/div[6]/ul/li/span[1]/a/b/text()\")\n",
    "    # 2. 最新章节\n",
    "    chapter = html.xpath(\"/html/body/div[6]/ul/li/span[2]/a/text()\")\n",
    "    # 3. 作者\n",
    "    author = html.xpath(\"/html/body/div[6]/ul/li/span[3]/a/text()\")\n",
    "    # 4. 状态\n",
    "    state = html.xpath(\"/html/body/div[6]/ul/li/span[4]/text()\")[1:]\n",
    "    # 5. 关注\n",
    "    follow = html.xpath(\"/html/body/div[6]/ul/li/span[5]/text()\")[1:]\n",
    "    \n",
    "    return title, chapter, author, state, follow\n",
    "\n",
    "def main():\n",
    "    x = \"http://www.68xsw.cc/type/3_0_0_lastupdate_\"\n",
    "    url_list = [x + str(i) + \".html\" for i in range(1,8)] \n",
    "\n",
    "    headers = ['小说名称','最新章节','作者', '状态', '关注']\n",
    "    values = []\n",
    "    titles = []\n",
    "    chapters = []\n",
    "    authors = []\n",
    "    states = []\n",
    "    follows = []\n",
    "    for url in url_list:\n",
    "        print('>> 正获取： ',url)\n",
    "        title, chapter, author, state, follow = get_data(url)\n",
    "        for t in title:\n",
    "            titles.append(t)\n",
    "        for c in chapter:\n",
    "            chapters.append(c)\n",
    "        for a in author:\n",
    "            authors.append(a)\n",
    "        for s in state:\n",
    "            states.append(s)\n",
    "        for f in follow:\n",
    "            follows.append(f)\n",
    "        \n",
    "        time.sleep(3)  # 加时间延迟，减少访问频率\n",
    "    #print(len(titles)),print(len(chapters)),print(len(authors)),print(len(states)),print(len(follows))\n",
    "    for i in range(len(titles)):\n",
    "        value = [titles[i],chapters[i],authors[i],states[i],follows[i]]\n",
    "        values.append(value)\n",
    "    \n",
    "    with open('都市小说.csv','w',newline='') as fp:\n",
    "        # 获取对象\n",
    "        writer = csv.writer(fp)\n",
    "        # 写入数据\n",
    "        writer.writerow(headers) #写入表头\n",
    "        writer.writerows(values) # 写入数据\n",
    "\n",
    "if __name__=='__main__':\n",
    "    main()"
   ]
  },
  {
   "cell_type": "code",
   "execution_count": null,
   "metadata": {},
   "outputs": [],
   "source": []
  }
 ],
 "metadata": {
  "kernelspec": {
   "display_name": "Python 3",
   "language": "python",
   "name": "python3"
  },
  "language_info": {
   "codemirror_mode": {
    "name": "ipython",
    "version": 3
   },
   "file_extension": ".py",
   "mimetype": "text/x-python",
   "name": "python",
   "nbconvert_exporter": "python",
   "pygments_lexer": "ipython3",
   "version": "3.12.0"
  }
 },
 "nbformat": 4,
 "nbformat_minor": 2
}
