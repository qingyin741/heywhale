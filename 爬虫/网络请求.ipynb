{
 "cells": [
  {
   "cell_type": "code",
   "execution_count": 2,
   "metadata": {},
   "outputs": [
    {
     "name": "stdout",
     "output_type": "stream",
     "text": [
      "<!DOCTYPE html>\n",
      "<!--STATUS OK--><html> <head><meta http-equiv=content-type content=text/html;charset=utf-8><meta http-equiv=X-UA-Compatible content=IE=Edge><meta content=always name=referrer><link rel=stylesheet type=text/css href=https://ss1.bdstatic.com/5eN1bjq8AAUYm2zgoY3K/r/www/cache/bdorz/baidu.min.css><title>ç¾åº¦ä¸ä¸ï¼ä½ å°±ç¥é</title></head> <body link=#0000cc> <div id=wrapper> <div id=head> <div class=head_wrapper> <div class=s_form> <div class=s_form_wrapper> <div id=lg> <img hidefocus=true src=//www.baidu.com/img/bd_logo1.png width=270 height=129> </div> <form id=form name=f action=//www.baidu.com/s class=fm> <input type=hidden name=bdorz_come value=1> <input type=hidden name=ie value=utf-8> <input type=hidden name=f value=8> <input type=hidden name=rsv_bp value=1> <input type=hidden name=rsv_idx value=1> <input type=hidden name=tn value=baidu><span class=\"bg s_ipt_wr\"><input id=kw name=wd class=s_ipt value maxlength=255 autocomplete=off autofocus=autofocus></span><span class=\"bg s_btn_wr\"><input type=submit id=su value=ç¾åº¦ä¸ä¸ class=\"bg s_btn\" autofocus></span> </form> </div> </div> <div id=u1> <a href=http://news.baidu.com name=tj_trnews class=mnav>æ°é»</a> <a href=https://www.hao123.com name=tj_trhao123 class=mnav>hao123</a> <a href=http://map.baidu.com name=tj_trmap class=mnav>å°å¾</a> <a href=http://v.baidu.com name=tj_trvideo class=mnav>è§é¢</a> <a href=http://tieba.baidu.com name=tj_trtieba class=mnav>è´´å§</a> <noscript> <a href=http://www.baidu.com/bdorz/login.gif?login&amp;tpl=mn&amp;u=http%3A%2F%2Fwww.baidu.com%2f%3fbdorz_come%3d1 name=tj_login class=lb>ç»å½</a> </noscript> <script>document.write('<a href=\"http://www.baidu.com/bdorz/login.gif?login&tpl=mn&u='+ encodeURIComponent(window.location.href+ (window.location.search === \"\" ? \"?\" : \"&\")+ \"bdorz_come=1\")+ '\" name=\"tj_login\" class=\"lb\">ç»å½</a>');\n",
      "                </script> <a href=//www.baidu.com/more/ name=tj_briicon class=bri style=\"display: block;\">æ´å¤äº§å</a> </div> </div> </div> <div id=ftCon> <div id=ftConw> <p id=lh> <a href=http://home.baidu.com>å³äºç¾åº¦</a> <a href=http://ir.baidu.com>About Baidu</a> </p> <p id=cp>&copy;2017&nbsp;Baidu&nbsp;<a href=http://www.baidu.com/duty/>ä½¿ç¨ç¾åº¦åå¿è¯»</a>&nbsp; <a href=http://jianyi.baidu.com/ class=cp-feedback>æè§åé¦</a>&nbsp;äº¬ICPè¯030173å·&nbsp; <img src=//www.baidu.com/img/gs.gif> </p> </div> </div> </div> </body> </html>\n",
      "\n",
      "ISO-8859-1\n"
     ]
    }
   ],
   "source": [
    "import requests\n",
    "\n",
    "url='https://www.baidu.com'\n",
    "\n",
    "response=requests.get(url)\n",
    "print(response.text)\n",
    "\n",
    "print(response.encoding)\n",
    "\n"
   ]
  },
  {
   "cell_type": "code",
   "execution_count": 3,
   "metadata": {},
   "outputs": [
    {
     "name": "stdout",
     "output_type": "stream",
     "text": [
      "<!DOCTYPE html>\n",
      "<!--STATUS OK--><html> <head><meta http-equiv=content-type content=text/html;charset=utf-8><meta http-equiv=X-UA-Compatible content=IE=Edge><meta content=always name=referrer><link rel=stylesheet type=text/css href=https://ss1.bdstatic.com/5eN1bjq8AAUYm2zgoY3K/r/www/cache/bdorz/baidu.min.css><title>百度一下，你就知道</title></head> <body link=#0000cc> <div id=wrapper> <div id=head> <div class=head_wrapper> <div class=s_form> <div class=s_form_wrapper> <div id=lg> <img hidefocus=true src=//www.baidu.com/img/bd_logo1.png width=270 height=129> </div> <form id=form name=f action=//www.baidu.com/s class=fm> <input type=hidden name=bdorz_come value=1> <input type=hidden name=ie value=utf-8> <input type=hidden name=f value=8> <input type=hidden name=rsv_bp value=1> <input type=hidden name=rsv_idx value=1> <input type=hidden name=tn value=baidu><span class=\"bg s_ipt_wr\"><input id=kw name=wd class=s_ipt value maxlength=255 autocomplete=off autofocus=autofocus></span><span class=\"bg s_btn_wr\"><input type=submit id=su value=百度一下 class=\"bg s_btn\" autofocus></span> </form> </div> </div> <div id=u1> <a href=http://news.baidu.com name=tj_trnews class=mnav>新闻</a> <a href=https://www.hao123.com name=tj_trhao123 class=mnav>hao123</a> <a href=http://map.baidu.com name=tj_trmap class=mnav>地图</a> <a href=http://v.baidu.com name=tj_trvideo class=mnav>视频</a> <a href=http://tieba.baidu.com name=tj_trtieba class=mnav>贴吧</a> <noscript> <a href=http://www.baidu.com/bdorz/login.gif?login&amp;tpl=mn&amp;u=http%3A%2F%2Fwww.baidu.com%2f%3fbdorz_come%3d1 name=tj_login class=lb>登录</a> </noscript> <script>document.write('<a href=\"http://www.baidu.com/bdorz/login.gif?login&tpl=mn&u='+ encodeURIComponent(window.location.href+ (window.location.search === \"\" ? \"?\" : \"&\")+ \"bdorz_come=1\")+ '\" name=\"tj_login\" class=\"lb\">登录</a>');\n",
      "                </script> <a href=//www.baidu.com/more/ name=tj_briicon class=bri style=\"display: block;\">更多产品</a> </div> </div> </div> <div id=ftCon> <div id=ftConw> <p id=lh> <a href=http://home.baidu.com>关于百度</a> <a href=http://ir.baidu.com>About Baidu</a> </p> <p id=cp>&copy;2017&nbsp;Baidu&nbsp;<a href=http://www.baidu.com/duty/>使用百度前必读</a>&nbsp; <a href=http://jianyi.baidu.com/ class=cp-feedback>意见反馈</a>&nbsp;京ICP证030173号&nbsp; <img src=//www.baidu.com/img/gs.gif> </p> </div> </div> </div> </body> </html>\n",
      "\n"
     ]
    }
   ],
   "source": [
    "response.encoding='utf8'\n",
    "print(response.text)"
   ]
  },
  {
   "cell_type": "code",
   "execution_count": 5,
   "metadata": {},
   "outputs": [
    {
     "name": "stdout",
     "output_type": "stream",
     "text": [
      "b'<!DOCTYPE html>\\r\\n<!--STATUS OK--><html> <head><meta http-equiv=content-type content=text/html;charset=utf-8><meta http-equiv=X-UA-Compatible content=IE=Edge><meta content=always name=referrer><link rel=stylesheet type=text/css href=https://ss1.bdstatic.com/5eN1bjq8AAUYm2zgoY3K/r/www/cache/bdorz/baidu.min.css><title>\\xe7\\x99\\xbe\\xe5\\xba\\xa6\\xe4\\xb8\\x80\\xe4\\xb8\\x8b\\xef\\xbc\\x8c\\xe4\\xbd\\xa0\\xe5\\xb0\\xb1\\xe7\\x9f\\xa5\\xe9\\x81\\x93</title></head> <body link=#0000cc> <div id=wrapper> <div id=head> <div class=head_wrapper> <div class=s_form> <div class=s_form_wrapper> <div id=lg> <img hidefocus=true src=//www.baidu.com/img/bd_logo1.png width=270 height=129> </div> <form id=form name=f action=//www.baidu.com/s class=fm> <input type=hidden name=bdorz_come value=1> <input type=hidden name=ie value=utf-8> <input type=hidden name=f value=8> <input type=hidden name=rsv_bp value=1> <input type=hidden name=rsv_idx value=1> <input type=hidden name=tn value=baidu><span class=\"bg s_ipt_wr\"><input id=kw name=wd class=s_ipt value maxlength=255 autocomplete=off autofocus=autofocus></span><span class=\"bg s_btn_wr\"><input type=submit id=su value=\\xe7\\x99\\xbe\\xe5\\xba\\xa6\\xe4\\xb8\\x80\\xe4\\xb8\\x8b class=\"bg s_btn\" autofocus></span> </form> </div> </div> <div id=u1> <a href=http://news.baidu.com name=tj_trnews class=mnav>\\xe6\\x96\\xb0\\xe9\\x97\\xbb</a> <a href=https://www.hao123.com name=tj_trhao123 class=mnav>hao123</a> <a href=http://map.baidu.com name=tj_trmap class=mnav>\\xe5\\x9c\\xb0\\xe5\\x9b\\xbe</a> <a href=http://v.baidu.com name=tj_trvideo class=mnav>\\xe8\\xa7\\x86\\xe9\\xa2\\x91</a> <a href=http://tieba.baidu.com name=tj_trtieba class=mnav>\\xe8\\xb4\\xb4\\xe5\\x90\\xa7</a> <noscript> <a href=http://www.baidu.com/bdorz/login.gif?login&amp;tpl=mn&amp;u=http%3A%2F%2Fwww.baidu.com%2f%3fbdorz_come%3d1 name=tj_login class=lb>\\xe7\\x99\\xbb\\xe5\\xbd\\x95</a> </noscript> <script>document.write(\\'<a href=\"http://www.baidu.com/bdorz/login.gif?login&tpl=mn&u=\\'+ encodeURIComponent(window.location.href+ (window.location.search === \"\" ? \"?\" : \"&\")+ \"bdorz_come=1\")+ \\'\" name=\"tj_login\" class=\"lb\">\\xe7\\x99\\xbb\\xe5\\xbd\\x95</a>\\');\\r\\n                </script> <a href=//www.baidu.com/more/ name=tj_briicon class=bri style=\"display: block;\">\\xe6\\x9b\\xb4\\xe5\\xa4\\x9a\\xe4\\xba\\xa7\\xe5\\x93\\x81</a> </div> </div> </div> <div id=ftCon> <div id=ftConw> <p id=lh> <a href=http://home.baidu.com>\\xe5\\x85\\xb3\\xe4\\xba\\x8e\\xe7\\x99\\xbe\\xe5\\xba\\xa6</a> <a href=http://ir.baidu.com>About Baidu</a> </p> <p id=cp>&copy;2017&nbsp;Baidu&nbsp;<a href=http://www.baidu.com/duty/>\\xe4\\xbd\\xbf\\xe7\\x94\\xa8\\xe7\\x99\\xbe\\xe5\\xba\\xa6\\xe5\\x89\\x8d\\xe5\\xbf\\x85\\xe8\\xaf\\xbb</a>&nbsp; <a href=http://jianyi.baidu.com/ class=cp-feedback>\\xe6\\x84\\x8f\\xe8\\xa7\\x81\\xe5\\x8f\\x8d\\xe9\\xa6\\x88</a>&nbsp;\\xe4\\xba\\xacICP\\xe8\\xaf\\x81030173\\xe5\\x8f\\xb7&nbsp; <img src=//www.baidu.com/img/gs.gif> </p> </div> </div> </div> </body> </html>\\r\\n'\n"
     ]
    }
   ],
   "source": [
    "#打印响应的二级制数据\n",
    "print(response.content)"
   ]
  },
  {
   "cell_type": "code",
   "execution_count": 6,
   "metadata": {},
   "outputs": [
    {
     "name": "stdout",
     "output_type": "stream",
     "text": [
      "<!DOCTYPE html>\n",
      "<!--STATUS OK--><html> <head><meta http-equiv=content-type content=text/html;charset=utf-8><meta http-equiv=X-UA-Compatible content=IE=Edge><meta content=always name=referrer><link rel=stylesheet type=text/css href=https://ss1.bdstatic.com/5eN1bjq8AAUYm2zgoY3K/r/www/cache/bdorz/baidu.min.css><title>百度一下，你就知道</title></head> <body link=#0000cc> <div id=wrapper> <div id=head> <div class=head_wrapper> <div class=s_form> <div class=s_form_wrapper> <div id=lg> <img hidefocus=true src=//www.baidu.com/img/bd_logo1.png width=270 height=129> </div> <form id=form name=f action=//www.baidu.com/s class=fm> <input type=hidden name=bdorz_come value=1> <input type=hidden name=ie value=utf-8> <input type=hidden name=f value=8> <input type=hidden name=rsv_bp value=1> <input type=hidden name=rsv_idx value=1> <input type=hidden name=tn value=baidu><span class=\"bg s_ipt_wr\"><input id=kw name=wd class=s_ipt value maxlength=255 autocomplete=off autofocus=autofocus></span><span class=\"bg s_btn_wr\"><input type=submit id=su value=百度一下 class=\"bg s_btn\" autofocus></span> </form> </div> </div> <div id=u1> <a href=http://news.baidu.com name=tj_trnews class=mnav>新闻</a> <a href=https://www.hao123.com name=tj_trhao123 class=mnav>hao123</a> <a href=http://map.baidu.com name=tj_trmap class=mnav>地图</a> <a href=http://v.baidu.com name=tj_trvideo class=mnav>视频</a> <a href=http://tieba.baidu.com name=tj_trtieba class=mnav>贴吧</a> <noscript> <a href=http://www.baidu.com/bdorz/login.gif?login&amp;tpl=mn&amp;u=http%3A%2F%2Fwww.baidu.com%2f%3fbdorz_come%3d1 name=tj_login class=lb>登录</a> </noscript> <script>document.write('<a href=\"http://www.baidu.com/bdorz/login.gif?login&tpl=mn&u='+ encodeURIComponent(window.location.href+ (window.location.search === \"\" ? \"?\" : \"&\")+ \"bdorz_come=1\")+ '\" name=\"tj_login\" class=\"lb\">登录</a>');\n",
      "                </script> <a href=//www.baidu.com/more/ name=tj_briicon class=bri style=\"display: block;\">更多产品</a> </div> </div> </div> <div id=ftCon> <div id=ftConw> <p id=lh> <a href=http://home.baidu.com>关于百度</a> <a href=http://ir.baidu.com>About Baidu</a> </p> <p id=cp>&copy;2017&nbsp;Baidu&nbsp;<a href=http://www.baidu.com/duty/>使用百度前必读</a>&nbsp; <a href=http://jianyi.baidu.com/ class=cp-feedback>意见反馈</a>&nbsp;京ICP证030173号&nbsp; <img src=//www.baidu.com/img/gs.gif> </p> </div> </div> </div> </body> </html>\n",
      "\n"
     ]
    }
   ],
   "source": [
    "#将二进制转化成字符串\n",
    "print(response.content.decode())"
   ]
  },
  {
   "cell_type": "code",
   "execution_count": 7,
   "metadata": {},
   "outputs": [
    {
     "name": "stdout",
     "output_type": "stream",
     "text": [
      "{\n",
      "  \"args\": {}, \n",
      "  \"headers\": {\n",
      "    \"Accept\": \"*/*\", \n",
      "    \"Accept-Encoding\": \"gzip, deflate\", \n",
      "    \"Host\": \"httpbin.org\", \n",
      "    \"User-Agent\": \"python-requests/2.31.0\", \n",
      "    \"X-Amzn-Trace-Id\": \"Root=1-667d14e7-2fc18ca9712d5e551ae5f094\"\n",
      "  }, \n",
      "  \"origin\": \"104.28.158.177\", \n",
      "  \"url\": \"http://httpbin.org/get\"\n",
      "}\n",
      "\n"
     ]
    }
   ],
   "source": [
    "import requests\n",
    "r=requests.get('http://httpbin.org/get')\n",
    "print(r.text)"
   ]
  },
  {
   "cell_type": "code",
   "execution_count": 12,
   "metadata": {},
   "outputs": [
    {
     "name": "stdout",
     "output_type": "stream",
     "text": [
      "<Response [404]>\n"
     ]
    }
   ],
   "source": [
    "r = requests.get('http://httpbin.org/get？name=blue&age=22')\n",
    "print(r)"
   ]
  },
  {
   "cell_type": "code",
   "execution_count": 11,
   "metadata": {},
   "outputs": [
    {
     "name": "stdout",
     "output_type": "stream",
     "text": [
      "{\n",
      "  \"args\": {\n",
      "    \"age\": \"22\", \n",
      "    \"name\": \"blue\"\n",
      "  }, \n",
      "  \"headers\": {\n",
      "    \"Accept\": \"*/*\", \n",
      "    \"Accept-Encoding\": \"gzip, deflate\", \n",
      "    \"Host\": \"httpbin.org\", \n",
      "    \"User-Agent\": \"python-requests/2.31.0\", \n",
      "    \"X-Amzn-Trace-Id\": \"Root=1-667d1596-38d6c3740a4904f87fe44115\"\n",
      "  }, \n",
      "  \"origin\": \"104.28.156.219\", \n",
      "  \"url\": \"http://httpbin.org/get?name=blue&age=22\"\n",
      "}\n",
      "\n"
     ]
    }
   ],
   "source": [
    "import requests\n",
    "#设置参数\n",
    "data={\n",
    "    'name':'blue',\n",
    "    'age':22\n",
    "}\n",
    "#url拼接\n",
    "r=requests.get('http://httpbin.org/get',params=data)\n",
    "print(r.text)"
   ]
  },
  {
   "cell_type": "code",
   "execution_count": 14,
   "metadata": {},
   "outputs": [
    {
     "name": "stdout",
     "output_type": "stream",
     "text": [
      "{'Bdpagetype': '1', 'Bdqid': '0xf44bbd2e001355b5', 'Connection': 'keep-alive', 'Content-Encoding': 'gzip', 'Content-Type': 'text/html; charset=utf-8', 'Date': 'Thu, 27 Jun 2024 07:34:43 GMT', 'P3p': 'CP=\" OTI DSP COR IVA OUR IND COM \", CP=\" OTI DSP COR IVA OUR IND COM \"', 'Server': 'BWS/1.1', 'Set-Cookie': 'BAIDUID=B1E7CB6E578CAE64880465D696BCBF7F:FG=1; expires=Thu, 31-Dec-37 23:55:55 GMT; max-age=2147483647; path=/; domain=.baidu.com, BIDUPSID=B1E7CB6E578CAE64880465D696BCBF7F; expires=Thu, 31-Dec-37 23:55:55 GMT; max-age=2147483647; path=/; domain=.baidu.com, PSTM=1719473683; expires=Thu, 31-Dec-37 23:55:55 GMT; max-age=2147483647; path=/; domain=.baidu.com, BAIDUID=B1E7CB6E578CAE641095DD2FF5E5645C:FG=1; max-age=31536000; expires=Fri, 27-Jun-25 07:34:43 GMT; domain=.baidu.com; path=/; version=1; comment=bd, BDSVRTM=5; path=/, BD_HOME=1; path=/, BAIDUID_BFESS=B1E7CB6E578CAE64880465D696BCBF7F:FG=1; Path=/; Domain=baidu.com; Expires=Thu, 31 Dec 2037 23:55:55 GMT; Max-Age=2147483647; Secure; SameSite=None', 'Strict-Transport-Security': 'max-age=172800', 'Traceid': '1719473683174881690617603371573775127989', 'X-Ua-Compatible': 'IE=Edge,chrome=1', 'X-Xss-Protection': '1;mode=block', 'Transfer-Encoding': 'chunked'}\n"
     ]
    }
   ],
   "source": [
    "import requests\n",
    "\n",
    "headers={\n",
    "    'User-Agent':'Mozilla/5.0 (Windows NT 10.0; Win64; x64) AppleWebKit/537.36 (KHTML, like Gecko) Chrome/89.0.142.86 Safari/537.36'\n",
    "    \n",
    "}\n",
    "res=requests.get(url='https://wwww.baidu.com/',headers=headers)\n",
    "print(res.headers)"
   ]
  },
  {
   "cell_type": "code",
   "execution_count": 15,
   "metadata": {},
   "outputs": [
    {
     "name": "stdout",
     "output_type": "stream",
     "text": [
      "{\n",
      "  \"cookies\": {\n",
      "    \"cookies_are\": \"working\"\n",
      "  }\n",
      "}\n",
      "\n"
     ]
    }
   ],
   "source": [
    "import requests\n",
    "cookies={'cookies_are':'working'}\n",
    "res=requests.get(url='http://httpbin.org/cookies',cookies=cookies)\n",
    "print(res.text)"
   ]
  },
  {
   "cell_type": "code",
   "execution_count": 16,
   "metadata": {},
   "outputs": [
    {
     "data": {
      "text/plain": [
       "<Response [200]>"
      ]
     },
     "execution_count": 16,
     "metadata": {},
     "output_type": "execute_result"
    }
   ],
   "source": [
    "#重定向\n",
    "import requests\n",
    "requests.get('https://www.baidu.com/',allow_redirects=False)"
   ]
  },
  {
   "cell_type": "code",
   "execution_count": 17,
   "metadata": {},
   "outputs": [
    {
     "name": "stderr",
     "output_type": "stream",
     "text": [
      "c:\\Users\\W10\\AppData\\Local\\Programs\\Python\\Python312\\Lib\\site-packages\\urllib3\\connectionpool.py:1100: InsecureRequestWarning: Unverified HTTPS request is being made to host '127.0.0.1'. Adding certificate verification is strongly advised. See: https://urllib3.readthedocs.io/en/latest/advanced-usage.html#tls-warnings\n",
      "  warnings.warn(\n"
     ]
    },
    {
     "data": {
      "text/plain": [
       "<Response [200]>"
      ]
     },
     "execution_count": 17,
     "metadata": {},
     "output_type": "execute_result"
    }
   ],
   "source": [
    "import requests\n",
    "requests.get('https://www.baidu.com/',verify=False)\n"
   ]
  },
  {
   "cell_type": "code",
   "execution_count": 19,
   "metadata": {},
   "outputs": [
    {
     "name": "stdout",
     "output_type": "stream",
     "text": [
      "<!DOCTYPE html>\n",
      "<html lang=\"zh-CN\">\n",
      "<head>\n",
      "\t<meta charset=\"utf-8\"></meta>\n",
      "\t<title> Sign In </title>\n",
      "\t<link href=\"css/bootstrap.css\" rel=\"stylesheet\" />\n",
      "\t<link href=\"css/bootstrap-responsive.css\" rel=\"stylesheet\" />\n",
      "    <script type=\"text/javascript\" src=\"js/jquery.js\"></script>\n",
      "\t<style type=\"text/css\">\n",
      "\t\tbody {\n",
      "\t\t\tpadding-top: 150px;\n",
      "\t\t\tpadding-bottom: 40px;\n",
      "\t\t\tbackground-color: #f5f5f5;\n",
      "\t\t\tfont: 12px/1.5em 'Microsoft YaHei';\n",
      "\t\t}\n",
      "\t\t.container {\n",
      "\t\t\tmax-width: 460px;\n",
      "\t\t}\n",
      "\t\t.login-box {\n",
      "\t\t\twidth: 420px;\n",
      "\t\t\theight: 270px;\n",
      "\t\t\tpadding: 0 20px;\n",
      "\t\t\tborder: 1px solid #e5e5e5;\n",
      "\t\t\tbackground-color: #fff;\n",
      "\t\t\tmargin: 0 auto 20px;\n",
      "\t\t\t-webkit-border-radius: 5px;\n",
      "\t\t\t   -moz-border-radius: 5px;\n",
      "                    border-radius: 5px;\n",
      "\t        -webkit-box-shadow: 0 1px 2px rgba(0,0,0,.05);\n",
      "\t           -moz-box-shadow: 0 1px 2px rgba(0,0,0,.05);\n",
      "\t                box-shadow: 0 1px 2px rgba(0,0,0,.05);\n",
      "\t        left: 50%;\n",
      "\t\t\ttop: 50%;\n",
      "\t\t}\n",
      "\t\t.login-box h2 {\n",
      "\t\t\theight: 45px;\n",
      "\t\t\tfont-size: 20px;\n",
      "\t\t\tfont-weight: normal;\n",
      "\t\t}\n",
      "\t\t.login-box h4 {\n",
      "\t\t\theight: 45px;\n",
      "\t\t\tfont-size: 20px;\n",
      "\t\t\tfont-weight: normal;\n",
      "\t\t}\n",
      "\t\t.login-box .left {\n",
      "\t\t\tborder-right: 1px solid #ccc;\n",
      "\t\t\theight: 100%;\n",
      "\t\t\tpadding-right: 20px;\n",
      "\t\t}\n",
      "\t</style>\n",
      "\t<script src=\"js/md5.js\"></script>\n",
      "    <script>\n",
      "\t    $(document).ready(function() {\n",
      "\t\t    let googleAuthCodeP = $(\"#google_auth_code_p\");\n",
      "\t\t    $(\"#username\").change(function(){\n",
      "\t\t\t    let username = $(this).val();\n",
      "\t\t\t    if (username === 'admin')\n",
      "\t\t\t    {\n",
      "\t\t\t\t    googleAuthCodeP.show();\n",
      "\t\t\t    }\n",
      "\t\t\t    else\n",
      "\t\t\t    {\n",
      "\t\t\t\t    googleAuthCodeP.hide();\n",
      "\t\t\t    }\n",
      "\t\t    }).keyup(function(){\n",
      "\t\t\t    $(this).change();\n",
      "\t\t    });\n",
      "\t\t\t\t\t\t\t$('#y').val('08OZH2NAO5');\n",
      "\t\t\t\t    });\n",
      "    </script>\n",
      "\t</head>\n",
      "<body>\n",
      "<div class=\"container\">\n",
      "\t<section class=\"login-box row-fluid\">\n",
      "\t\t<section class=\"span7 left\">\n",
      "\t\t\t<h2>POPAL</h2>\n",
      "\t\t\t<form action=\"\" method=\"post\">\n",
      "\t\t\t\t<p ><input type=\"text\" id=\"username\" name=\"username\" placeholder=\"Username\" /></p>\n",
      "\t\t\t\t<p ><input type=\"password\" name=\"password\" placeholder=\"Password\" /></p>\n",
      "                <p id=\"google_auth_code_p\" style=\"display: none\" ><input type=\"text\" name=\"google_auth_code\" placeholder=\"谷歌验证码\" /></p>\n",
      "                <section class=\"span5 offset8\"><input type=\"submit\" value=\"Sign In\" class=\"btn btn-primary\" /></section>\n",
      "\t\t\t\t\t\t\t\t<input type=\"hidden\" name=\"ts\" id=\"ts\" />\n",
      "\t\t\t\t<input type=\"hidden\" name=\"sign\" id=\"sign\" />\n",
      "\t\t\t\t\t\t\t\t\t<input type=\"hidden\" name=\"y\" id=\"y\" value=\"QBNT4PAB51\" />\n",
      "\t\t\t\t\t\t\t\t\t\t\t\t\t<input type=\"hidden\" name=\"param[WJYJL]\" value=\"VL5RJ1\" />\n",
      "\t\t\t\t\t\t\t\t\t<input type=\"hidden\" name=\"param[MHE3M]\" value=\"VPOJB9\" />\n",
      "\t\t\t\t\t\t\t\t\t<input type=\"hidden\" name=\"param[2PISK]\" value=\"KUEI40\" />\n",
      "\t\t\t\t\t\t\t\t\t<input type=\"hidden\" name=\"param[7GS1U]\" value=\"KKOGWS\" />\n",
      "\t\t\t\t\t\t\t</form>\n",
      "\t\t</section>\n",
      "\t\t<section class=\"span5 right\">\n",
      "\t\t\t<h2>sXstem</h2>\n",
      "\t\t\t<section>\n",
      "\t\t\t\t<p style=\"height: 95px;\">All for your business, and you.</p>\n",
      "\t\t\t\t<p class=\"muted\" style=\"text-align: right;\">&copy; sXstem.com</p>\n",
      "\t\t\t</section>\n",
      "\t\t</section>\n",
      "\t</section>\n",
      "\t</div>\n",
      "</body>\n",
      "</html>\n"
     ]
    }
   ],
   "source": [
    "import requests\n",
    "\n",
    "url='https://zq.xoms.cn/'\n",
    "response=requests.get(url)\n",
    "response.encoding='utf-8'\n",
    "print(response.text)"
   ]
  },
  {
   "cell_type": "code",
   "execution_count": 20,
   "metadata": {},
   "outputs": [
    {
     "name": "stdout",
     "output_type": "stream",
     "text": [
      "<!DOCTYPE html>\n",
      "<html lang=\"zh-CN\">\n",
      "<head>\n",
      "\t<meta charset=\"utf-8\"></meta>\n",
      "\t<title> Sign In </title>\n",
      "\t<link href=\"css/bootstrap.css\" rel=\"stylesheet\" />\n",
      "\t<link href=\"css/bootstrap-responsive.css\" rel=\"stylesheet\" />\n",
      "    <script type=\"text/javascript\" src=\"js/jquery.js\"></script>\n",
      "\t<style type=\"text/css\">\n",
      "\t\tbody {\n",
      "\t\t\tpadding-top: 150px;\n",
      "\t\t\tpadding-bottom: 40px;\n",
      "\t\t\tbackground-color: #f5f5f5;\n",
      "\t\t\tfont: 12px/1.5em 'Microsoft YaHei';\n",
      "\t\t}\n",
      "\t\t.container {\n",
      "\t\t\tmax-width: 460px;\n",
      "\t\t}\n",
      "\t\t.login-box {\n",
      "\t\t\twidth: 420px;\n",
      "\t\t\theight: 270px;\n",
      "\t\t\tpadding: 0 20px;\n",
      "\t\t\tborder: 1px solid #e5e5e5;\n",
      "\t\t\tbackground-color: #fff;\n",
      "\t\t\tmargin: 0 auto 20px;\n",
      "\t\t\t-webkit-border-radius: 5px;\n",
      "\t\t\t   -moz-border-radius: 5px;\n",
      "                    border-radius: 5px;\n",
      "\t        -webkit-box-shadow: 0 1px 2px rgba(0,0,0,.05);\n",
      "\t           -moz-box-shadow: 0 1px 2px rgba(0,0,0,.05);\n",
      "\t                box-shadow: 0 1px 2px rgba(0,0,0,.05);\n",
      "\t        left: 50%;\n",
      "\t\t\ttop: 50%;\n",
      "\t\t}\n",
      "\t\t.login-box h2 {\n",
      "\t\t\theight: 45px;\n",
      "\t\t\tfont-size: 20px;\n",
      "\t\t\tfont-weight: normal;\n",
      "\t\t}\n",
      "\t\t.login-box h4 {\n",
      "\t\t\theight: 45px;\n",
      "\t\t\tfont-size: 20px;\n",
      "\t\t\tfont-weight: normal;\n",
      "\t\t}\n",
      "\t\t.login-box .left {\n",
      "\t\t\tborder-right: 1px solid #ccc;\n",
      "\t\t\theight: 100%;\n",
      "\t\t\tpadding-right: 20px;\n",
      "\t\t}\n",
      "\t</style>\n",
      "\t<script src=\"js/md5.js\"></script>\n",
      "    <script>\n",
      "\t    $(document).ready(function() {\n",
      "\t\t    let googleAuthCodeP = $(\"#google_auth_code_p\");\n",
      "\t\t    $(\"#username\").change(function(){\n",
      "\t\t\t    let username = $(this).val();\n",
      "\t\t\t    if (username === 'admin')\n",
      "\t\t\t    {\n",
      "\t\t\t\t    googleAuthCodeP.show();\n",
      "\t\t\t    }\n",
      "\t\t\t    else\n",
      "\t\t\t    {\n",
      "\t\t\t\t    googleAuthCodeP.hide();\n",
      "\t\t\t    }\n",
      "\t\t    }).keyup(function(){\n",
      "\t\t\t    $(this).change();\n",
      "\t\t    });\n",
      "\t\t\t\t\t\t\t$('#y').val('UYD8HOG1WK');\n",
      "\t\t\t\t    });\n",
      "    </script>\n",
      "\t</head>\n",
      "<body>\n",
      "<div class=\"container\">\n",
      "\t<section class=\"login-box row-fluid\">\n",
      "\t\t<section class=\"span7 left\">\n",
      "\t\t\t<h2>POPAL</h2>\n",
      "\t\t\t<form action=\"\" method=\"post\">\n",
      "\t\t\t\t<p ><input type=\"text\" id=\"username\" name=\"username\" placeholder=\"Username\" /></p>\n",
      "\t\t\t\t<p ><input type=\"password\" name=\"password\" placeholder=\"Password\" /></p>\n",
      "                <p id=\"google_auth_code_p\" style=\"display: none\" ><input type=\"text\" name=\"google_auth_code\" placeholder=\"谷歌验证码\" /></p>\n",
      "                <section class=\"span5 offset8\"><input type=\"submit\" value=\"Sign In\" class=\"btn btn-primary\" /></section>\n",
      "\t\t\t\t\t\t\t\t<input type=\"hidden\" name=\"ts\" id=\"ts\" />\n",
      "\t\t\t\t<input type=\"hidden\" name=\"sign\" id=\"sign\" />\n",
      "\t\t\t\t\t\t\t\t\t<input type=\"hidden\" name=\"y\" id=\"y\" value=\"KEUOLU071V\" />\n",
      "\t\t\t\t\t\t\t\t\t\t\t\t\t<input type=\"hidden\" name=\"param[0UF4S]\" value=\"3GIHQB\" />\n",
      "\t\t\t\t\t\t\t</form>\n",
      "\t\t</section>\n",
      "\t\t<section class=\"span5 right\">\n",
      "\t\t\t<h2>sXstem</h2>\n",
      "\t\t\t<section>\n",
      "\t\t\t\t<p style=\"height: 95px;\">All for your business, and you.</p>\n",
      "\t\t\t\t<p class=\"muted\" style=\"text-align: right;\">&copy; sXstem.com</p>\n",
      "\t\t\t</section>\n",
      "\t\t</section>\n",
      "\t</section>\n",
      "\t</div>\n",
      "</body>\n",
      "</html>\n"
     ]
    }
   ],
   "source": [
    "import requests\n",
    "\n",
    "url='https://zq.xoms.cn/'\n",
    "\n",
    "res=requests.post(url=url,data={'username':'Eby data-wangcongjie','password':'zy20231016'})\n",
    "res.encoding='utf-8'\n",
    "print(res.text)"
   ]
  },
  {
   "cell_type": "code",
   "execution_count": null,
   "metadata": {},
   "outputs": [],
   "source": [
    "a1 = 'C'\n",
    "a2 = 'BC'\n",
    "a3 = 'C'\n",
    "a4 = 'B'\n",
    "a5 = 'C'\n",
    "\n",
    "\n",
    "\n",
    "\n"
   ]
  }
 ],
 "metadata": {
  "kernelspec": {
   "display_name": "Python 3",
   "language": "python",
   "name": "python3"
  },
  "language_info": {
   "codemirror_mode": {
    "name": "ipython",
    "version": 3
   },
   "file_extension": ".py",
   "mimetype": "text/x-python",
   "name": "python",
   "nbconvert_exporter": "python",
   "pygments_lexer": "ipython3",
   "version": "3.12.0"
  }
 },
 "nbformat": 4,
 "nbformat_minor": 2
}
