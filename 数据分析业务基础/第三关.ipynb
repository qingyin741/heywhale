{
 "cells": [
  {
   "cell_type": "code",
   "execution_count": 1,
   "metadata": {},
   "outputs": [],
   "source": [
    "# rfm模型可以分为几种用户类型 ?\n",
    "\n",
    "a1=8"
   ]
  },
  {
   "cell_type": "code",
   "execution_count": 2,
   "metadata": {},
   "outputs": [],
   "source": [
    "# 2019年的转化率和2020年的转化率是环比还是同比 ?\n",
    "\n",
    "a2='同比'"
   ]
  },
  {
   "cell_type": "code",
   "execution_count": 3,
   "metadata": {},
   "outputs": [],
   "source": [
    "# 2019年5月的销量和2020年的5月销量是环比还是同比 ?\n",
    "\n",
    "a3='同比'"
   ]
  },
  {
   "cell_type": "code",
   "execution_count": 4,
   "metadata": {},
   "outputs": [],
   "source": [
    "# 多维度拆解法从哪两个维度去进行拆解 ?\n",
    "\n",
    "a4='业务指标和业务流程'"
   ]
  },
  {
   "cell_type": "code",
   "execution_count": 5,
   "metadata": {},
   "outputs": [],
   "source": [
    "# 如果做趋势分析的话,最合适的图是什么 ?\n",
    "\n",
    "a5='折线图'"
   ]
  },
  {
   "cell_type": "code",
   "execution_count": 7,
   "metadata": {},
   "outputs": [],
   "source": [
    "# 请写出LTV的中文全称 , LT表示的是什么 ?\n",
    "# LTV (life time value 用户生命周期总价值)\n",
    "\n",
    "a6='用户生命周期总价值'\n",
    "a7='用户生命周期'"
   ]
  },
  {
   "cell_type": "code",
   "execution_count": 8,
   "metadata": {},
   "outputs": [],
   "source": [
    "# 可以随便说出几个关于用户画像的指标?\n",
    "\n",
    "a8=\"年龄、性别、身高、体重\""
   ]
  },
  {
   "cell_type": "code",
   "execution_count": 9,
   "metadata": {},
   "outputs": [],
   "source": [
    "# 研究用户画像的目的是什么 ?\n",
    "\n",
    "a9=\"分析用户痛点，优化产品交互，发展产品功能，变更营销策略，风险防范\""
   ]
  },
  {
   "cell_type": "code",
   "execution_count": 10,
   "metadata": {},
   "outputs": [],
   "source": [
    "# 说出你平常用路径分析的三种可视化图表 ?\n",
    "\n",
    "a10=\"\"\n"
   ]
  },
  {
   "cell_type": "code",
   "execution_count": 11,
   "metadata": {},
   "outputs": [],
   "source": [
    "# 路径分析中的纵向分析和横向分析分别重点看的是什么 ?\n",
    "\n",
    "a11=\"评价不同用户画像的偏好\"   #纵向分析看重\n",
    "\n",
    "a12=\"基于某事件的评价\""
   ]
  },
  {
   "cell_type": "code",
   "execution_count": 12,
   "metadata": {},
   "outputs": [],
   "source": [
    "# 如果用\"雨露均沾\"描述归因分析的种类 , 会是哪一种 ?\n",
    "\n",
    "a13=\"线性归因\"  # 如 a13=\"位置归因\"\n"
   ]
  },
  {
   "cell_type": "code",
   "execution_count": 13,
   "metadata": {},
   "outputs": [],
   "source": [
    "# 留存分析的三个阶段分别是什么 ?\n",
    "\n",
    "a14=\"震荡期淘汰期稳定期\""
   ]
  },
  {
   "cell_type": "code",
   "execution_count": null,
   "metadata": {},
   "outputs": [],
   "source": [
    "# 老板如果问原因的话, 我第一时间想到什么分析方法 ?\n",
    "\n",
    "a15=\"漏斗分析和多维度拆解分析\""
   ]
  },
  {
   "cell_type": "code",
   "execution_count": 14,
   "metadata": {},
   "outputs": [],
   "source": [
    "# 假设分析法一般都会从哪个几个维度去分析 ?\n",
    "\n",
    "a16=\"用户产品竞品\""
   ]
  },
  {
   "cell_type": "code",
   "execution_count": 16,
   "metadata": {},
   "outputs": [],
   "source": [
    "# AARRR请说出 , 每个代表的意思，中文表示\n",
    "\n",
    "a17=\"获取\"\n",
    "a18=\"激活\"\n",
    "a19=\"留存\"\n",
    "a20=\"收入\"\n",
    "a21=\"推荐\""
   ]
  },
  {
   "cell_type": "code",
   "execution_count": null,
   "metadata": {},
   "outputs": [],
   "source": [
    "#漏斗分析的几个大坑 可以说几个 ?\n",
    "\n",
    "a22=\"一定得有时间窗口, 一定得有严格的顺序 , 计数单位可以是基于用户 ,也可以是基于事件的, 结果指标数据不符合预期考虑其他的渠道数据\""
   ]
  }
 ],
 "metadata": {
  "kernelspec": {
   "display_name": "Python 3",
   "language": "python",
   "name": "python3"
  },
  "language_info": {
   "codemirror_mode": {
    "name": "ipython",
    "version": 3
   },
   "file_extension": ".py",
   "mimetype": "text/x-python",
   "name": "python",
   "nbconvert_exporter": "python",
   "pygments_lexer": "ipython3",
   "version": "3.12.0"
  }
 },
 "nbformat": 4,
 "nbformat_minor": 2
}
